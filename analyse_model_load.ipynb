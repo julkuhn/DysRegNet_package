{
 "cells": [
  {
   "cell_type": "code",
   "execution_count": 39,
   "metadata": {},
   "outputs": [],
   "source": [
    "import os \n",
    "import pandas as pd\n",
    "from tqdm import tqdm\n",
    "from src.dysregnet.linearmodel import LinearModel\n",
    "import statsmodels.api as sm\n",
    "import numpy as np\n",
    "\n",
    "from tqdm import tqdm\n",
    "import numpy as np\n",
    "from scipy import stats\n",
    "import statsmodels.api as sm\n",
    "import pickle\n",
    "from scipy.stats import combine_pvalues\n",
    "#_____________"
   ]
  },
  {
   "cell_type": "code",
   "execution_count": 41,
   "metadata": {},
   "outputs": [
    {
     "data": {
      "text/plain": [
       "[]"
      ]
     },
     "execution_count": 41,
     "metadata": {},
     "output_type": "execute_result"
    }
   ],
   "source": [
    "with open('lll.pickle', 'rb') as handle:\n",
    "    lll = pickle.load(handle)\n",
    "lll"
   ]
  },
  {
   "cell_type": "code",
   "execution_count": null,
   "metadata": {},
   "outputs": [],
   "source": [
    "with open('blb.pickle', 'rb') as handle:\n",
    "    blb = pickle.load(handle)\n",
    "blb"
   ]
  },
  {
   "cell_type": "code",
   "execution_count": null,
   "metadata": {},
   "outputs": [],
   "source": [
    "with open('lll.pickle', 'rb') as handle:\n",
    "    lll = pickle.load(handle)\n",
    "lll"
   ]
  },
  {
   "cell_type": "code",
   "execution_count": null,
   "metadata": {},
   "outputs": [],
   "source": [
    "with open('lbl.pickle', 'rb') as handle:\n",
    "    lbl = pickle.load(handle)\n",
    "lbl"
   ]
  },
  {
   "cell_type": "code",
   "execution_count": 33,
   "metadata": {},
   "outputs": [],
   "source": [
    "os.getcwd()\n",
    "current_dir = os.getcwd()\n",
    "grn_breast = pd.read_csv(current_dir + \"/GENIE3_output/linkedList_output_slurm_gene_tpm_v10_breast_mammary_tissu_filtered.csv\")\n",
    "grn_lung = pd.read_csv(current_dir + \"/GENIE3_output/linkedList_output_slurm_gene_tpm_v10_lung_filtered.csv\")\n",
    "\n",
    "exp_lung = pd.read_csv(current_dir + \"/gtex/gene_tpm_v10_lung_filtered.csv\")\n",
    "exp_breast = pd.read_csv(current_dir + \"/gtex/gene_tpm_v10_breast_mammary_tissu_filtered.csv\")\n",
    " "
   ]
  },
  {
   "cell_type": "code",
   "execution_count": 34,
   "metadata": {},
   "outputs": [
    {
     "data": {
      "text/html": [
       "<div>\n",
       "<style scoped>\n",
       "    .dataframe tbody tr th:only-of-type {\n",
       "        vertical-align: middle;\n",
       "    }\n",
       "\n",
       "    .dataframe tbody tr th {\n",
       "        vertical-align: top;\n",
       "    }\n",
       "\n",
       "    .dataframe thead th {\n",
       "        text-align: right;\n",
       "    }\n",
       "</style>\n",
       "<table border=\"1\" class=\"dataframe\">\n",
       "  <thead>\n",
       "    <tr style=\"text-align: right;\">\n",
       "      <th></th>\n",
       "      <th>sample</th>\n",
       "      <th>condition</th>\n",
       "      <th>gender</th>\n",
       "    </tr>\n",
       "  </thead>\n",
       "  <tbody>\n",
       "    <tr>\n",
       "      <th>0</th>\n",
       "      <td>OR4F5</td>\n",
       "      <td>0</td>\n",
       "      <td>FEMALE</td>\n",
       "    </tr>\n",
       "    <tr>\n",
       "      <th>1</th>\n",
       "      <td>CICP27</td>\n",
       "      <td>0</td>\n",
       "      <td>FEMALE</td>\n",
       "    </tr>\n",
       "    <tr>\n",
       "      <th>2</th>\n",
       "      <td>WASH9P</td>\n",
       "      <td>0</td>\n",
       "      <td>FEMALE</td>\n",
       "    </tr>\n",
       "    <tr>\n",
       "      <th>3</th>\n",
       "      <td>MTND1P23</td>\n",
       "      <td>0</td>\n",
       "      <td>FEMALE</td>\n",
       "    </tr>\n",
       "    <tr>\n",
       "      <th>4</th>\n",
       "      <td>MTND2P28</td>\n",
       "      <td>0</td>\n",
       "      <td>FEMALE</td>\n",
       "    </tr>\n",
       "    <tr>\n",
       "      <th>...</th>\n",
       "      <td>...</td>\n",
       "      <td>...</td>\n",
       "      <td>...</td>\n",
       "    </tr>\n",
       "    <tr>\n",
       "      <th>21036</th>\n",
       "      <td>MT-ND4</td>\n",
       "      <td>0</td>\n",
       "      <td>FEMALE</td>\n",
       "    </tr>\n",
       "    <tr>\n",
       "      <th>21037</th>\n",
       "      <td>MT-ND5</td>\n",
       "      <td>0</td>\n",
       "      <td>FEMALE</td>\n",
       "    </tr>\n",
       "    <tr>\n",
       "      <th>21038</th>\n",
       "      <td>MT-ND6</td>\n",
       "      <td>0</td>\n",
       "      <td>FEMALE</td>\n",
       "    </tr>\n",
       "    <tr>\n",
       "      <th>21039</th>\n",
       "      <td>MT-TE</td>\n",
       "      <td>0</td>\n",
       "      <td>FEMALE</td>\n",
       "    </tr>\n",
       "    <tr>\n",
       "      <th>21040</th>\n",
       "      <td>MT-CYB</td>\n",
       "      <td>0</td>\n",
       "      <td>FEMALE</td>\n",
       "    </tr>\n",
       "  </tbody>\n",
       "</table>\n",
       "<p>21041 rows × 3 columns</p>\n",
       "</div>"
      ],
      "text/plain": [
       "         sample  condition  gender\n",
       "0         OR4F5          0  FEMALE\n",
       "1        CICP27          0  FEMALE\n",
       "2        WASH9P          0  FEMALE\n",
       "3      MTND1P23          0  FEMALE\n",
       "4      MTND2P28          0  FEMALE\n",
       "...         ...        ...     ...\n",
       "21036    MT-ND4          0  FEMALE\n",
       "21037    MT-ND5          0  FEMALE\n",
       "21038    MT-ND6          0  FEMALE\n",
       "21039     MT-TE          0  FEMALE\n",
       "21040    MT-CYB          0  FEMALE\n",
       "\n",
       "[21041 rows x 3 columns]"
      ]
     },
     "execution_count": 34,
     "metadata": {},
     "output_type": "execute_result"
    }
   ],
   "source": [
    "exp_lung = exp_lung.set_index(exp_lung.columns[0])\n",
    "exp_lung = exp_lung.T \n",
    "#exp_lung.insert(0, \"sample\", exp_lung. index)\n",
    "#assert all(exp_lung.iloc[:, 0].values == meta_lung.iloc[:,0].values)\n",
    "exp_lung.head(1)\n",
    "\n",
    "meta_lung = pd.DataFrame({\n",
    "    'sample': exp_lung.columns[1:],\n",
    "    'condition': np.random.choice([0], size=len(exp_lung.columns[1:])),\n",
    "    'gender' : 'FEMALE'\n",
    "})\n",
    "meta_lung"
   ]
  },
  {
   "cell_type": "code",
   "execution_count": 35,
   "metadata": {},
   "outputs": [
    {
     "data": {
      "text/html": [
       "<div>\n",
       "<style scoped>\n",
       "    .dataframe tbody tr th:only-of-type {\n",
       "        vertical-align: middle;\n",
       "    }\n",
       "\n",
       "    .dataframe tbody tr th {\n",
       "        vertical-align: top;\n",
       "    }\n",
       "\n",
       "    .dataframe thead th {\n",
       "        text-align: right;\n",
       "    }\n",
       "</style>\n",
       "<table border=\"1\" class=\"dataframe\">\n",
       "  <thead>\n",
       "    <tr style=\"text-align: right;\">\n",
       "      <th></th>\n",
       "      <th>sample</th>\n",
       "      <th>condition</th>\n",
       "      <th>gender</th>\n",
       "    </tr>\n",
       "  </thead>\n",
       "  <tbody>\n",
       "    <tr>\n",
       "      <th>0</th>\n",
       "      <td>WASH7P</td>\n",
       "      <td>0</td>\n",
       "      <td>FEMALE</td>\n",
       "    </tr>\n",
       "  </tbody>\n",
       "</table>\n",
       "</div>"
      ],
      "text/plain": [
       "   sample  condition  gender\n",
       "0  WASH7P          0  FEMALE"
      ]
     },
     "execution_count": 35,
     "metadata": {},
     "output_type": "execute_result"
    }
   ],
   "source": [
    "exp_breast = exp_breast.set_index(exp_breast.columns[0])\n",
    "exp_breast = exp_breast.T \n",
    "exp_breast.insert(0, \"sample\", exp_breast. index)\n",
    "#assert all(exp_breast.iloc[:, 0].values == meta_breast.iloc[:,0].values)\n",
    "exp_breast.head(3)\n",
    "\n",
    "grn_breast\n",
    "meta_breast = pd.DataFrame({\n",
    "    'sample': exp_breast.columns[1:],\n",
    "    'condition': np.random.choice([0], size=len(exp_breast.columns[1:])),\n",
    "    'gender' : 'FEMALE'\n",
    "})\n",
    "meta_breast.head(1)"
   ]
  },
  {
   "cell_type": "code",
   "execution_count": 36,
   "metadata": {},
   "outputs": [],
   "source": [
    "grn = grn_breast\n",
    "expr = exp_breast\n",
    "tissue = \"breast\"\n",
    "model_dir = current_dir + \"/models/\" + tissue\n",
    "meta = meta_breast"
   ]
  },
  {
   "cell_type": "code",
   "execution_count": 37,
   "metadata": {},
   "outputs": [
    {
     "name": "stderr",
     "output_type": "stream",
     "text": [
      "Processing edges: 0it [00:00, ?it/s]\n"
     ]
    },
    {
     "ename": "KeyError",
     "evalue": "\"None of [Index([    0,     1,     2,     3,     4,     5,     6,     7,     8,     9,\\n       ...\\n       20387, 20388, 20389, 20390, 20391, 20392, 20393, 20394, 20395, 20396],\\n      dtype='int64', length=20397)] are in the [index]\"",
     "output_type": "error",
     "traceback": [
      "\u001b[0;31m---------------------------------------------------------------------------\u001b[0m",
      "\u001b[0;31mKeyError\u001b[0m                                  Traceback (most recent call last)",
      "\u001b[1;32m/Users/b.madran/Public/DysRegNet_package/analyse_model_load.ipynb Cell 6\u001b[0m line \u001b[0;36m3\n\u001b[1;32m     <a href='vscode-notebook-cell:/Users/b.madran/Public/DysRegNet_package/analyse_model_load.ipynb#W2sZmlsZQ%3D%3D?line=28'>29</a>\u001b[0m     \u001b[39mcontinue\u001b[39;00m\n\u001b[1;32m     <a href='vscode-notebook-cell:/Users/b.madran/Public/DysRegNet_package/analyse_model_load.ipynb#W2sZmlsZQ%3D%3D?line=30'>31</a>\u001b[0m \u001b[39m# check if no control samples >3\u001b[39;00m\n\u001b[0;32m---> <a href='vscode-notebook-cell:/Users/b.madran/Public/DysRegNet_package/analyse_model_load.ipynb#W2sZmlsZQ%3D%3D?line=31'>32</a>\u001b[0m control\u001b[39m=\u001b[39mexpr\u001b[39m.\u001b[39;49mloc[control]\n\u001b[1;32m     <a href='vscode-notebook-cell:/Users/b.madran/Public/DysRegNet_package/analyse_model_load.ipynb#W2sZmlsZQ%3D%3D?line=32'>33</a>\u001b[0m \u001b[39m#case=EXPR.expr.loc[data.case]  \u001b[39;00m\n\u001b[1;32m     <a href='vscode-notebook-cell:/Users/b.madran/Public/DysRegNet_package/analyse_model_load.ipynb#W2sZmlsZQ%3D%3D?line=33'>34</a>\u001b[0m \u001b[39m# check if trained models fit control data, use only these and ignore others\u001b[39;00m\n\u001b[1;32m     <a href='vscode-notebook-cell:/Users/b.madran/Public/DysRegNet_package/analyse_model_load.ipynb#W2sZmlsZQ%3D%3D?line=34'>35</a>\u001b[0m \u001b[39m# print('Only 3 control samples, using only these for the model')\u001b[39;00m\n\u001b[1;32m     <a href='vscode-notebook-cell:/Users/b.madran/Public/DysRegNet_package/analyse_model_load.ipynb#W2sZmlsZQ%3D%3D?line=35'>36</a>\u001b[0m \u001b[39m# prepare control for fitting model TODO correct?\u001b[39;00m\n\u001b[1;32m     <a href='vscode-notebook-cell:/Users/b.madran/Public/DysRegNet_package/analyse_model_load.ipynb#W2sZmlsZQ%3D%3D?line=37'>38</a>\u001b[0m x_train \u001b[39m=\u001b[39m control[  [edge[\u001b[39m0\u001b[39m]] ]\u001b[39m#+ covariate_name ]\u001b[39;00m\n",
      "File \u001b[0;32m~/miniconda3/envs/sysbiomed_project/lib/python3.11/site-packages/pandas/core/indexing.py:1191\u001b[0m, in \u001b[0;36m_LocationIndexer.__getitem__\u001b[0;34m(self, key)\u001b[0m\n\u001b[1;32m   1189\u001b[0m maybe_callable \u001b[39m=\u001b[39m com\u001b[39m.\u001b[39mapply_if_callable(key, \u001b[39mself\u001b[39m\u001b[39m.\u001b[39mobj)\n\u001b[1;32m   1190\u001b[0m maybe_callable \u001b[39m=\u001b[39m \u001b[39mself\u001b[39m\u001b[39m.\u001b[39m_check_deprecated_callable_usage(key, maybe_callable)\n\u001b[0;32m-> 1191\u001b[0m \u001b[39mreturn\u001b[39;00m \u001b[39mself\u001b[39;49m\u001b[39m.\u001b[39;49m_getitem_axis(maybe_callable, axis\u001b[39m=\u001b[39;49maxis)\n",
      "File \u001b[0;32m~/miniconda3/envs/sysbiomed_project/lib/python3.11/site-packages/pandas/core/indexing.py:1420\u001b[0m, in \u001b[0;36m_LocIndexer._getitem_axis\u001b[0;34m(self, key, axis)\u001b[0m\n\u001b[1;32m   1417\u001b[0m     \u001b[39mif\u001b[39;00m \u001b[39mhasattr\u001b[39m(key, \u001b[39m\"\u001b[39m\u001b[39mndim\u001b[39m\u001b[39m\"\u001b[39m) \u001b[39mand\u001b[39;00m key\u001b[39m.\u001b[39mndim \u001b[39m>\u001b[39m \u001b[39m1\u001b[39m:\n\u001b[1;32m   1418\u001b[0m         \u001b[39mraise\u001b[39;00m \u001b[39mValueError\u001b[39;00m(\u001b[39m\"\u001b[39m\u001b[39mCannot index with multidimensional key\u001b[39m\u001b[39m\"\u001b[39m)\n\u001b[0;32m-> 1420\u001b[0m     \u001b[39mreturn\u001b[39;00m \u001b[39mself\u001b[39;49m\u001b[39m.\u001b[39;49m_getitem_iterable(key, axis\u001b[39m=\u001b[39;49maxis)\n\u001b[1;32m   1422\u001b[0m \u001b[39m# nested tuple slicing\u001b[39;00m\n\u001b[1;32m   1423\u001b[0m \u001b[39mif\u001b[39;00m is_nested_tuple(key, labels):\n",
      "File \u001b[0;32m~/miniconda3/envs/sysbiomed_project/lib/python3.11/site-packages/pandas/core/indexing.py:1360\u001b[0m, in \u001b[0;36m_LocIndexer._getitem_iterable\u001b[0;34m(self, key, axis)\u001b[0m\n\u001b[1;32m   1357\u001b[0m \u001b[39mself\u001b[39m\u001b[39m.\u001b[39m_validate_key(key, axis)\n\u001b[1;32m   1359\u001b[0m \u001b[39m# A collection of keys\u001b[39;00m\n\u001b[0;32m-> 1360\u001b[0m keyarr, indexer \u001b[39m=\u001b[39m \u001b[39mself\u001b[39;49m\u001b[39m.\u001b[39;49m_get_listlike_indexer(key, axis)\n\u001b[1;32m   1361\u001b[0m \u001b[39mreturn\u001b[39;00m \u001b[39mself\u001b[39m\u001b[39m.\u001b[39mobj\u001b[39m.\u001b[39m_reindex_with_indexers(\n\u001b[1;32m   1362\u001b[0m     {axis: [keyarr, indexer]}, copy\u001b[39m=\u001b[39m\u001b[39mTrue\u001b[39;00m, allow_dups\u001b[39m=\u001b[39m\u001b[39mTrue\u001b[39;00m\n\u001b[1;32m   1363\u001b[0m )\n",
      "File \u001b[0;32m~/miniconda3/envs/sysbiomed_project/lib/python3.11/site-packages/pandas/core/indexing.py:1558\u001b[0m, in \u001b[0;36m_LocIndexer._get_listlike_indexer\u001b[0;34m(self, key, axis)\u001b[0m\n\u001b[1;32m   1555\u001b[0m ax \u001b[39m=\u001b[39m \u001b[39mself\u001b[39m\u001b[39m.\u001b[39mobj\u001b[39m.\u001b[39m_get_axis(axis)\n\u001b[1;32m   1556\u001b[0m axis_name \u001b[39m=\u001b[39m \u001b[39mself\u001b[39m\u001b[39m.\u001b[39mobj\u001b[39m.\u001b[39m_get_axis_name(axis)\n\u001b[0;32m-> 1558\u001b[0m keyarr, indexer \u001b[39m=\u001b[39m ax\u001b[39m.\u001b[39;49m_get_indexer_strict(key, axis_name)\n\u001b[1;32m   1560\u001b[0m \u001b[39mreturn\u001b[39;00m keyarr, indexer\n",
      "File \u001b[0;32m~/miniconda3/envs/sysbiomed_project/lib/python3.11/site-packages/pandas/core/indexes/base.py:6200\u001b[0m, in \u001b[0;36mIndex._get_indexer_strict\u001b[0;34m(self, key, axis_name)\u001b[0m\n\u001b[1;32m   6197\u001b[0m \u001b[39melse\u001b[39;00m:\n\u001b[1;32m   6198\u001b[0m     keyarr, indexer, new_indexer \u001b[39m=\u001b[39m \u001b[39mself\u001b[39m\u001b[39m.\u001b[39m_reindex_non_unique(keyarr)\n\u001b[0;32m-> 6200\u001b[0m \u001b[39mself\u001b[39;49m\u001b[39m.\u001b[39;49m_raise_if_missing(keyarr, indexer, axis_name)\n\u001b[1;32m   6202\u001b[0m keyarr \u001b[39m=\u001b[39m \u001b[39mself\u001b[39m\u001b[39m.\u001b[39mtake(indexer)\n\u001b[1;32m   6203\u001b[0m \u001b[39mif\u001b[39;00m \u001b[39misinstance\u001b[39m(key, Index):\n\u001b[1;32m   6204\u001b[0m     \u001b[39m# GH 42790 - Preserve name from an Index\u001b[39;00m\n",
      "File \u001b[0;32m~/miniconda3/envs/sysbiomed_project/lib/python3.11/site-packages/pandas/core/indexes/base.py:6249\u001b[0m, in \u001b[0;36mIndex._raise_if_missing\u001b[0;34m(self, key, indexer, axis_name)\u001b[0m\n\u001b[1;32m   6247\u001b[0m \u001b[39mif\u001b[39;00m nmissing:\n\u001b[1;32m   6248\u001b[0m     \u001b[39mif\u001b[39;00m nmissing \u001b[39m==\u001b[39m \u001b[39mlen\u001b[39m(indexer):\n\u001b[0;32m-> 6249\u001b[0m         \u001b[39mraise\u001b[39;00m \u001b[39mKeyError\u001b[39;00m(\u001b[39mf\u001b[39m\u001b[39m\"\u001b[39m\u001b[39mNone of [\u001b[39m\u001b[39m{\u001b[39;00mkey\u001b[39m}\u001b[39;00m\u001b[39m] are in the [\u001b[39m\u001b[39m{\u001b[39;00maxis_name\u001b[39m}\u001b[39;00m\u001b[39m]\u001b[39m\u001b[39m\"\u001b[39m)\n\u001b[1;32m   6251\u001b[0m     not_found \u001b[39m=\u001b[39m \u001b[39mlist\u001b[39m(ensure_index(key)[missing_mask\u001b[39m.\u001b[39mnonzero()[\u001b[39m0\u001b[39m]]\u001b[39m.\u001b[39munique())\n\u001b[1;32m   6252\u001b[0m     \u001b[39mraise\u001b[39;00m \u001b[39mKeyError\u001b[39;00m(\u001b[39mf\u001b[39m\u001b[39m\"\u001b[39m\u001b[39m{\u001b[39;00mnot_found\u001b[39m}\u001b[39;00m\u001b[39m not in index\u001b[39m\u001b[39m\"\u001b[39m)\n",
      "\u001b[0;31mKeyError\u001b[0m: \"None of [Index([    0,     1,     2,     3,     4,     5,     6,     7,     8,     9,\\n       ...\\n       20387, 20388, 20389, 20390, 20391, 20392, 20393, 20394, 20395, 20396],\\n      dtype='int64', length=20397)] are in the [index]\""
     ]
    }
   ],
   "source": [
    "found = 0\n",
    "skipped = 0\n",
    "notfound = 0\n",
    "notskipped = 0\n",
    "\n",
    "conCol='condition'\n",
    "CatCov=['gender'] \n",
    "control = meta[ meta[conCol]==0 ].index.values.tolist()\n",
    "        \n",
    "for tup in tqdm(grn.itertuples(), desc=\"Processing edges\"):\n",
    "            edge = (tup[1], tup[2])  # Extract TF → target pair \n",
    "\n",
    "            # Skip self-loops\n",
    "            if edge[0] == edge[1]:\n",
    "                continue\n",
    "\n",
    "            # print(\"Loading model for edge: \", edge)\n",
    "            filename = os.path.join(model_dir, f\"{edge[0]}_{edge[1]}.pkl\")\n",
    "            # print(\"Filename: \", filename)\n",
    "            try:\n",
    "                #with open(filename, \"rb\") as file:\n",
    "                    # Load pre-trained model\n",
    "                    # results = pickle.load(file)\n",
    "                results = LinearModel.load(filename)\n",
    "                found +=1\n",
    "            except FileNotFoundError:\n",
    "                print(f\"Model file not found for edge {edge}. Skipping.\")\n",
    "                notfound +=1\n",
    "                continue\n",
    "\n",
    "            # check if no control samples >3\n",
    "            control=expr.loc[control]\n",
    "            #case=EXPR.expr.loc[data.case]  \n",
    "            # check if trained models fit control data, use only these and ignore others\n",
    "            # print('Only 3 control samples, using only these for the model')\n",
    "            # prepare control for fitting model TODO correct?\n",
    "            \n",
    "            x_train = control[  [edge[0]] ]#+ covariate_name ]\n",
    "            x_train = sm.add_constant(x_train, has_constant='add') # add bias\n",
    "            y_train = control[edge[1]].values\n",
    "\n",
    "            residuals = y_train - results.predict(x_train)\n",
    "            mean_residual = np.mean(residuals)\n",
    "            std_residual = np.std(residuals)\n",
    "            z_scores = (residuals - mean_residual) / std_residual\n",
    "\n",
    "            pvalues = stats.norm.sf(abs(z_scores))\n",
    "            combined_pvalue, _ = combine_pvalues(pvalues, method='fisher')\n",
    "\n",
    "            # Identify significant deviations\n",
    "            significant = np.abs(z_scores) > 2\n",
    "            # skip model if too many significant deviations\n",
    "            alpha = 0.05\n",
    "            if combined_pvalue < alpha:\n",
    "                #print(\"Warning: Too many significant deviations. Skipping model.\")\n",
    "                skipped +=1\n",
    "                continue\n",
    "            notskipped += 1\n",
    "        "
   ]
  }
 ],
 "metadata": {
  "kernelspec": {
   "display_name": "sysbiomed_project",
   "language": "python",
   "name": "python3"
  },
  "language_info": {
   "codemirror_mode": {
    "name": "ipython",
    "version": 3
   },
   "file_extension": ".py",
   "mimetype": "text/x-python",
   "name": "python",
   "nbconvert_exporter": "python",
   "pygments_lexer": "ipython3",
   "version": "3.11.11"
  },
  "orig_nbformat": 4
 },
 "nbformat": 4,
 "nbformat_minor": 2
}
