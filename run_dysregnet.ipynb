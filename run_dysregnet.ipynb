{
 "cells": [
  {
   "cell_type": "code",
   "execution_count": 1,
   "metadata": {},
   "outputs": [],
   "source": [
    "from src.dysregnet import dysregnet\n",
    "import pandas as pd\n",
    "import pickle\n",
    "import numpy as np\n"
   ]
  },
  {
   "cell_type": "markdown",
   "metadata": {},
   "source": [
    "Get data"
   ]
  },
  {
   "cell_type": "code",
   "execution_count": 2,
   "metadata": {},
   "outputs": [],
   "source": [
    "grn_breast = pd.read_csv(\"/Users/juliakuhn/Desktop/uni/WS2425/Systems_BioMedicine/Project_Phase/dysregnet_gtex/GENIE3_output/linkedList_output_slurm_ gene_tpm_v10_breast_mammary_tissu_filtered .csv\")\n",
    "grn_lung = pd.read_csv(\"/Users/juliakuhn/Desktop/uni/WS2425/Systems_BioMedicine/Project_Phase/dysregnet_gtex/GENIE3_output/linkedList_output_slurm_ gene_tpm_v10_lung_filtered .csv\")\n",
    "\n",
    "exp_lung = pd.read_csv(\"/Users/juliakuhn/Desktop/uni/WS2425/Systems_BioMedicine/Project_Phase/dysregnet_gtex/gtex/gene_tpm_v10_lung_filtered.csv\")\n",
    "exp_breast = pd.read_csv(\"/Users/juliakuhn/Desktop/uni/WS2425/Systems_BioMedicine/Project_Phase/dysregnet_gtex/gtex/gene_tpm_v10_breast_mammary_tissu_filtered.csv\")"
   ]
  },
  {
   "cell_type": "code",
   "execution_count": 3,
   "metadata": {},
   "outputs": [
    {
     "data": {
      "text/plain": [
       "\"meta_lung = pd.DataFrame({\\n    'sample': exp_lung.columns[1:],\\n    'condition': np.random.choice([0, 1], size=len(exp_lung.columns[1:])),\\n    'gender' : 'FEMALE'\\n})\\nmeta_lung\""
      ]
     },
     "execution_count": 3,
     "metadata": {},
     "output_type": "execute_result"
    }
   ],
   "source": [
    "\"\"\"meta_lung = pd.DataFrame({\n",
    "    'sample': exp_lung.columns[1:],\n",
    "    'condition': np.random.choice([0, 1], size=len(exp_lung.columns[1:])),\n",
    "    'gender' : 'FEMALE'\n",
    "})\n",
    "meta_lung\"\"\""
   ]
  },
  {
   "cell_type": "code",
   "execution_count": 4,
   "metadata": {},
   "outputs": [
    {
     "data": {
      "text/plain": [
       "\"meta_breast = pd.DataFrame({\\n    'sample': exp_breast.columns[1:],\\n    'condition': np.random.choice([0, 1], size=len(exp_breast.columns[1:])),\\n    'gender' : 'FEMALE'\\n})\\nmeta_breast\""
      ]
     },
     "execution_count": 4,
     "metadata": {},
     "output_type": "execute_result"
    }
   ],
   "source": [
    "grn_breast\n",
    "\"\"\"meta_breast = pd.DataFrame({\n",
    "    'sample': exp_breast.columns[1:],\n",
    "    'condition': np.random.choice([0, 1], size=len(exp_breast.columns[1:])),\n",
    "    'gender' : 'FEMALE'\n",
    "})\n",
    "meta_breast\"\"\""
   ]
  },
  {
   "cell_type": "code",
   "execution_count": 5,
   "metadata": {},
   "outputs": [
    {
     "data": {
      "text/html": [
       "<div>\n",
       "<style scoped>\n",
       "    .dataframe tbody tr th:only-of-type {\n",
       "        vertical-align: middle;\n",
       "    }\n",
       "\n",
       "    .dataframe tbody tr th {\n",
       "        vertical-align: top;\n",
       "    }\n",
       "\n",
       "    .dataframe thead th {\n",
       "        text-align: right;\n",
       "    }\n",
       "</style>\n",
       "<table border=\"1\" class=\"dataframe\">\n",
       "  <thead>\n",
       "    <tr style=\"text-align: right;\">\n",
       "      <th></th>\n",
       "      <th>regulatoryGene</th>\n",
       "      <th>targetGene</th>\n",
       "      <th>weight</th>\n",
       "    </tr>\n",
       "  </thead>\n",
       "  <tbody>\n",
       "    <tr>\n",
       "      <th>0</th>\n",
       "      <td>ZFY</td>\n",
       "      <td>TTTY14</td>\n",
       "      <td>0.269712</td>\n",
       "    </tr>\n",
       "    <tr>\n",
       "      <th>1</th>\n",
       "      <td>ZFY</td>\n",
       "      <td>EIF1AY</td>\n",
       "      <td>0.248673</td>\n",
       "    </tr>\n",
       "    <tr>\n",
       "      <th>2</th>\n",
       "      <td>ZFY</td>\n",
       "      <td>UTY</td>\n",
       "      <td>0.244710</td>\n",
       "    </tr>\n",
       "    <tr>\n",
       "      <th>3</th>\n",
       "      <td>ZFY</td>\n",
       "      <td>TXLNGY</td>\n",
       "      <td>0.240938</td>\n",
       "    </tr>\n",
       "    <tr>\n",
       "      <th>4</th>\n",
       "      <td>ZFY</td>\n",
       "      <td>USP9Y</td>\n",
       "      <td>0.239011</td>\n",
       "    </tr>\n",
       "    <tr>\n",
       "      <th>...</th>\n",
       "      <td>...</td>\n",
       "      <td>...</td>\n",
       "      <td>...</td>\n",
       "    </tr>\n",
       "    <tr>\n",
       "      <th>99995</th>\n",
       "      <td>ZNF571</td>\n",
       "      <td>PRPSAP1</td>\n",
       "      <td>0.014408</td>\n",
       "    </tr>\n",
       "    <tr>\n",
       "      <th>99996</th>\n",
       "      <td>L3MBTL1</td>\n",
       "      <td>CERS3-AS1</td>\n",
       "      <td>0.014408</td>\n",
       "    </tr>\n",
       "    <tr>\n",
       "      <th>99997</th>\n",
       "      <td>TWIST1</td>\n",
       "      <td>DIO2</td>\n",
       "      <td>0.014408</td>\n",
       "    </tr>\n",
       "    <tr>\n",
       "      <th>99998</th>\n",
       "      <td>DMRTA1</td>\n",
       "      <td>MAGI3</td>\n",
       "      <td>0.014408</td>\n",
       "    </tr>\n",
       "    <tr>\n",
       "      <th>99999</th>\n",
       "      <td>THAP12</td>\n",
       "      <td>TAF9B</td>\n",
       "      <td>0.014408</td>\n",
       "    </tr>\n",
       "  </tbody>\n",
       "</table>\n",
       "<p>100000 rows × 3 columns</p>\n",
       "</div>"
      ],
      "text/plain": [
       "      regulatoryGene targetGene    weight\n",
       "0                ZFY     TTTY14  0.269712\n",
       "1                ZFY     EIF1AY  0.248673\n",
       "2                ZFY        UTY  0.244710\n",
       "3                ZFY     TXLNGY  0.240938\n",
       "4                ZFY      USP9Y  0.239011\n",
       "...              ...        ...       ...\n",
       "99995         ZNF571    PRPSAP1  0.014408\n",
       "99996        L3MBTL1  CERS3-AS1  0.014408\n",
       "99997         TWIST1       DIO2  0.014408\n",
       "99998         DMRTA1      MAGI3  0.014408\n",
       "99999         THAP12      TAF9B  0.014408\n",
       "\n",
       "[100000 rows x 3 columns]"
      ]
     },
     "execution_count": 5,
     "metadata": {},
     "output_type": "execute_result"
    }
   ],
   "source": [
    "grn_lung"
   ]
  },
  {
   "cell_type": "markdown",
   "metadata": {},
   "source": [
    "Define the confounding variables or the design matrix"
   ]
  },
  {
   "cell_type": "code",
   "execution_count": 6,
   "metadata": {},
   "outputs": [],
   "source": [
    "# define condition column (0 indicated control, 1 indicates case), Column name for the condition in the meta DataFrame.\n",
    "conCol='condition'\n",
    "\n",
    "# define categorical confounder columns in meta dataframe, List of categorical variable names. They should match the name of their columns in the meta Dataframe.\n",
    "CatCov=['gender']  \n",
    "\n",
    "# define continuous confounder columns in meta dataframe, List of continuous covariates. They should match the name of their columns in the meta Dataframe.\n",
    "# ConCov=['gender']"
   ]
  },
  {
   "cell_type": "code",
   "execution_count": 7,
   "metadata": {},
   "outputs": [],
   "source": [
    "exp_lung = exp_lung.set_index(exp_lung.columns[0])\n",
    "exp_lung = exp_lung.T \n",
    "exp_lung.insert(0, \"sample\", exp_lung. index)\n",
    "#assert all(exp_lung.iloc[:, 0].values == meta_lung.iloc[:,0].values)"
   ]
  },
  {
   "cell_type": "code",
   "execution_count": 8,
   "metadata": {},
   "outputs": [],
   "source": [
    "exp_breast = exp_breast.set_index(exp_breast.columns[0])\n",
    "exp_breast = exp_breast.T \n",
    "exp_breast.insert(0, \"sample\", exp_breast. index)\n",
    "#assert all(exp_breast.iloc[:, 0].values == meta_breast.iloc[:,0].values)"
   ]
  },
  {
   "cell_type": "markdown",
   "metadata": {},
   "source": [
    "Run DysRegNet"
   ]
  },
  {
   "cell_type": "code",
   "execution_count": 9,
   "metadata": {},
   "outputs": [
    {
     "name": "stdout",
     "output_type": "stream",
     "text": [
      "Processing breast GRN file...\n",
      "GRN file and model ZIP already exist locally. Skipping download.\n",
      "Extracting breast model ZIP...\n",
      "Extracted models/breast_models.zip to models\n",
      "You did not input any covariates in CatCov or ConCov parameters, proceeding without them.\n"
     ]
    },
    {
     "name": "stderr",
     "output_type": "stream",
     "text": [
      "Processing edges: 100000it [01:12, 1380.40it/s]\n"
     ]
    },
    {
     "name": "stdout",
     "output_type": "stream",
     "text": [
      "Ratio of found models:  1.0\n"
     ]
    }
   ],
   "source": [
    "data=dysregnet.run(expression_data=exp_breast, \n",
    "                   GRN=\"breast\",\n",
    "                   #conCol=conCol,\n",
    "                   #CatCov=CatCov,\n",
    "                   direction_condition=False,\n",
    "                   normaltest=True,\n",
    "                   R2_threshold=.2)"
   ]
  },
  {
   "cell_type": "code",
   "execution_count": 10,
   "metadata": {},
   "outputs": [],
   "source": [
    "# Load the pickle file\n",
    "with open(\"pickle_models/AHR_FOS.pkl\", \"rb\") as file:\n",
    "    loaded_model = pickle.load(file)"
   ]
  },
  {
   "cell_type": "code",
   "execution_count": 11,
   "metadata": {},
   "outputs": [
    {
     "name": "stdout",
     "output_type": "stream",
     "text": [
      "Attributes and methods of the loaded object:\n",
      "['HC0_se', 'HC1_se', 'HC2_se', 'HC3_se', '_HCCM', '__class__', '__delattr__', '__dict__', '__dir__', '__doc__', '__eq__', '__format__', '__ge__', '__getattribute__', '__getstate__', '__gt__', '__hash__', '__init__', '__init_subclass__', '__le__', '__lt__', '__module__', '__ne__', '__new__', '__reduce__', '__reduce_ex__', '__repr__', '__setattr__', '__sizeof__', '__str__', '__subclasshook__', '__weakref__', '_abat_diagonal', '_cache', '_data_attr', '_data_in_cache', '_get_robustcov_results', '_get_wald_nonlinear', '_is_nested', '_transform_predict_exog', '_use_t', '_wexog_singular_values', 'aic', 'bic', 'bse', 'centered_tss', 'compare_f_test', 'compare_lm_test', 'compare_lr_test', 'condition_number', 'conf_int', 'conf_int_el', 'cov_HC0', 'cov_HC1', 'cov_HC2', 'cov_HC3', 'cov_kwds', 'cov_params', 'cov_type', 'df_model', 'df_resid', 'eigenvals', 'el_test', 'ess', 'f_pvalue', 'f_test', 'fittedvalues', 'fvalue', 'get_influence', 'get_prediction', 'get_robustcov_results', 'info_criteria', 'initialize', 'k_constant', 'llf', 'load', 'model', 'mse_model', 'mse_resid', 'mse_total', 'nobs', 'normalized_cov_params', 'outlier_test', 'params', 'predict', 'pvalues', 'remove_data', 'resid', 'resid_pearson', 'rsquared', 'rsquared_adj', 'save', 'scale', 'ssr', 'summary', 'summary2', 't_test', 't_test_pairwise', 'tvalues', 'uncentered_tss', 'use_t', 'wald_test', 'wald_test_terms', 'wresid']\n"
     ]
    }
   ],
   "source": [
    "print(\"Attributes and methods of the loaded object:\")\n",
    "print(dir(loaded_model))"
   ]
  },
  {
   "cell_type": "code",
   "execution_count": 12,
   "metadata": {},
   "outputs": [
    {
     "name": "stdout",
     "output_type": "stream",
     "text": [
      "Variables and their values in the loaded object:\n",
      "{'_results': <statsmodels.regression.linear_model.OLSResults object at 0x3410e3ed0>, '__doc__': \"\\n    Results class for for an OLS model.\\n\\n    Parameters\\n    ----------\\n    model : RegressionModel\\n        The regression model instance.\\n    params : ndarray\\n        The estimated parameters.\\n    normalized_cov_params : ndarray\\n        The normalized covariance parameters.\\n    scale : float\\n        The estimated scale of the residuals.\\n    cov_type : str\\n        The covariance estimator used in the results.\\n    cov_kwds : dict\\n        Additional keywords used in the covariance specification.\\n    use_t : bool\\n        Flag indicating to use the Student's t in inference.\\n    **kwargs\\n        Additional keyword arguments used to initialize the results.\\n\\n    See Also\\n    --------\\n    RegressionResults\\n        Results store for WLS and GLW models.\\n\\n    Notes\\n    -----\\n    Most of the methods and attributes are inherited from RegressionResults.\\n    The special methods that are only available for OLS are:\\n\\n    - get_influence\\n    - outlier_test\\n    - el_test\\n    - conf_int_el\\n    \"}\n"
     ]
    }
   ],
   "source": [
    "print(\"Variables and their values in the loaded object:\")\n",
    "print(vars(loaded_model))"
   ]
  },
  {
   "cell_type": "code",
   "execution_count": 13,
   "metadata": {},
   "outputs": [
    {
     "name": "stdout",
     "output_type": "stream",
     "text": [
      "const          0.000360\n",
      "AHR            0.323355\n",
      "gender_MALE   -0.000850\n",
      "dtype: float64\n",
      "                            OLS Regression Results                            \n",
      "==============================================================================\n",
      "Dep. Variable:                      y   R-squared:                       0.105\n",
      "Model:                            OLS   Adj. R-squared:                  0.073\n",
      "Method:                 Least Squares   F-statistic:                     3.268\n",
      "Date:                Wed, 15 Jan 2025   Prob (F-statistic):             0.0454\n",
      "Time:                        21:00:44   Log-Likelihood:                -80.461\n",
      "No. Observations:                  59   AIC:                             166.9\n",
      "Df Residuals:                      56   BIC:                             173.2\n",
      "Df Model:                           2                                         \n",
      "Covariance Type:            nonrobust                                         \n",
      "===============================================================================\n",
      "                  coef    std err          t      P>|t|      [0.025      0.975]\n",
      "-------------------------------------------------------------------------------\n",
      "const           0.0004      0.167      0.002      0.998      -0.335       0.335\n",
      "AHR             0.3234      0.128      2.536      0.014       0.068       0.579\n",
      "gender_MALE    -0.0009      0.258     -0.003      0.997      -0.518       0.516\n",
      "==============================================================================\n",
      "Omnibus:                        0.815   Durbin-Watson:                   2.303\n",
      "Prob(Omnibus):                  0.665   Jarque-Bera (JB):                0.891\n",
      "Skew:                          -0.253   Prob(JB):                        0.640\n",
      "Kurtosis:                       2.674   Cond. No.                         2.51\n",
      "==============================================================================\n",
      "\n",
      "Notes:\n",
      "[1] Standard Errors assume that the covariance matrix of the errors is correctly specified.\n"
     ]
    }
   ],
   "source": [
    "print(loaded_model.params)  # Coefficients\n",
    "print(loaded_model.summary())  # Full model summary"
   ]
  },
  {
   "cell_type": "code",
   "execution_count": 14,
   "metadata": {},
   "outputs": [],
   "source": [
    "# get the patient-specific dysregulate networks\n",
    "# results = data.get_results()\n",
    "\n",
    "# or with binary edges\n",
    "results = data.get_results_binary()\n",
    "\n",
    "# get R2 values, coefficients, and coefficient p-values for all models/edges\n",
    "# data.get_model_stats()"
   ]
  },
  {
   "cell_type": "code",
   "execution_count": 15,
   "metadata": {},
   "outputs": [
    {
     "name": "stdout",
     "output_type": "stream",
     "text": [
      "The most frequent edge is ('LMX1B', 'SCGB3A1') with 13.0 occurrences.\n"
     ]
    }
   ],
   "source": [
    "edge_counts = results.sum()\n",
    "most_frequent_edge = edge_counts.idxmax()\n",
    "max_count = edge_counts.max()\n",
    "\n",
    "print (f\"The most frequent edge is {most_frequent_edge} with {max_count} occurrences.\")"
   ]
  }
 ],
 "metadata": {
  "kernelspec": {
   "display_name": "sysbiomed_project",
   "language": "python",
   "name": "python3"
  },
  "language_info": {
   "codemirror_mode": {
    "name": "ipython",
    "version": 3
   },
   "file_extension": ".py",
   "mimetype": "text/x-python",
   "name": "python",
   "nbconvert_exporter": "python",
   "pygments_lexer": "ipython3",
   "version": "3.11.11"
  }
 },
 "nbformat": 4,
 "nbformat_minor": 2
}
