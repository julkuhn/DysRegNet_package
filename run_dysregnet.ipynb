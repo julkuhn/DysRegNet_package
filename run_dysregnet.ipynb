{
 "cells": [
  {
   "cell_type": "code",
   "execution_count": 55,
   "metadata": {},
   "outputs": [],
   "source": [
    "from src.dysregnet import dysregnet\n",
    "import pandas as pd\n",
    "import pickle\n",
    "import numpy as np\n"
   ]
  },
  {
   "cell_type": "markdown",
   "metadata": {},
   "source": [
    "Get data"
   ]
  },
  {
   "cell_type": "code",
   "execution_count": 56,
   "metadata": {},
   "outputs": [
    {
     "data": {
      "text/plain": [
       "'\\ngrn_breast = pd.read_csv(\"/Users/juliakuhn/Desktop/uni/WS2425/Systems_BioMedicine/Project_Phase/dysregnet_gtex/GENIE3_output/linkedList_output_slurm_ gene_tpm_v10_breast_mammary_tissu_filtered .csv\")\\ngrn_lung = pd.read_csv(\"/Users/juliakuhn/Desktop/uni/WS2425/Systems_BioMedicine/Project_Phase/dysregnet_gtex/GENIE3_output/linkedList_output_slurm_ gene_tpm_v10_lung_filtered .csv\")\\n\\nexp_lung = pd.read_csv(\"/Users/juliakuhn/Desktop/uni/WS2425/Systems_BioMedicine/Project_Phase/dysregnet_gtex/gtex/gene_tpm_v10_lung_filtered.csv\")\\nexp_breast = pd.read_csv(\"/Users/juliakuhn/Desktop/uni/WS2425/Systems_BioMedicine/Project_Phase/dysregnet_gtex/gtex/gene_tpm_v10_breast_mammary_tissu_filtered.csv\")\\n'"
      ]
     },
     "execution_count": 56,
     "metadata": {},
     "output_type": "execute_result"
    }
   ],
   "source": [
    "\"\"\"\n",
    "grn_breast = pd.read_csv(\"/Users/juliakuhn/Desktop/uni/WS2425/Systems_BioMedicine/Project_Phase/dysregnet_gtex/GENIE3_output/linkedList_output_slurm_ gene_tpm_v10_breast_mammary_tissu_filtered .csv\")\n",
    "grn_lung = pd.read_csv(\"/Users/juliakuhn/Desktop/uni/WS2425/Systems_BioMedicine/Project_Phase/dysregnet_gtex/GENIE3_output/linkedList_output_slurm_ gene_tpm_v10_lung_filtered .csv\")\n",
    "\n",
    "exp_lung = pd.read_csv(\"/Users/juliakuhn/Desktop/uni/WS2425/Systems_BioMedicine/Project_Phase/dysregnet_gtex/gtex/gene_tpm_v10_lung_filtered.csv\")\n",
    "exp_breast = pd.read_csv(\"/Users/juliakuhn/Desktop/uni/WS2425/Systems_BioMedicine/Project_Phase/dysregnet_gtex/gtex/gene_tpm_v10_breast_mammary_tissu_filtered.csv\")\n",
    "\"\"\""
   ]
  },
  {
   "cell_type": "code",
   "execution_count": 57,
   "metadata": {},
   "outputs": [
    {
     "data": {
      "text/plain": [
       "'\\ngrn_exercise = pd.read_csv(\"/Users/juliakuhn/Desktop/uni/WS2425/Systems_BioMedicine/Project_Phase/exercise_data/regulatory_network.csv\")\\nexp_exerise = pd.read_csv(\"/Users/juliakuhn/Desktop/uni/WS2425/Systems_BioMedicine/Project_Phase/exercise_data/LUAD_expression.csv\")\\nmeta_exercise = pd.read_csv(\"/Users/juliakuhn/Desktop/uni/WS2425/Systems_BioMedicine/Project_Phase/exercise_data/LUAD_meta.csv\")\\n'"
      ]
     },
     "execution_count": 57,
     "metadata": {},
     "output_type": "execute_result"
    }
   ],
   "source": [
    "\"\"\"\n",
    "grn_exercise = pd.read_csv(\"/Users/juliakuhn/Desktop/uni/WS2425/Systems_BioMedicine/Project_Phase/exercise_data/regulatory_network.csv\")\n",
    "exp_exerise = pd.read_csv(\"/Users/juliakuhn/Desktop/uni/WS2425/Systems_BioMedicine/Project_Phase/exercise_data/LUAD_expression.csv\")\n",
    "meta_exercise = pd.read_csv(\"/Users/juliakuhn/Desktop/uni/WS2425/Systems_BioMedicine/Project_Phase/exercise_data/LUAD_meta.csv\")\n",
    "\"\"\""
   ]
  },
  {
   "cell_type": "code",
   "execution_count": 58,
   "metadata": {},
   "outputs": [],
   "source": [
    "import os \n",
    "current_dir = os.getcwd()\n",
    "\n",
    "grn_breast = pd.read_csv(current_dir + \"/GENIE3_output/linkedList_output_slurm_gene_tpm_v10_breast_mammary_tissu_filtered.csv\")\n",
    "grn_lung = pd.read_csv(current_dir + \"/GENIE3_output/linkedList_output_slurm_gene_tpm_v10_lung_filtered.csv\")\n",
    "\n",
    "exp_lung = pd.read_csv(current_dir + \"/gtex/gene_tpm_v10_lung_filtered.csv\")\n",
    "exp_breast = pd.read_csv(current_dir + \"/gtex/gene_tpm_v10_breast_mammary_tissu_filtered.csv\")\n",
    "\n",
    "grn_exercise = pd.read_csv(current_dir + \"/exercise_data/regulatory_network.csv\")\n",
    "exp_exercise = pd.read_csv(current_dir + \"/exercise_data/LUAD_expression.csv\")\n",
    "meta_exercise = pd.read_csv(current_dir + \"/exercise_data/LUAD_meta.csv\")\n"
   ]
  },
  {
   "cell_type": "code",
   "execution_count": 59,
   "metadata": {},
   "outputs": [
    {
     "data": {
      "text/plain": [
       "\"meta_lung = pd.DataFrame({\\n    'sample': exp_lung.columns[1:],\\n    'condition': np.random.choice([0, 1], size=len(exp_lung.columns[1:])),\\n    'gender' : 'FEMALE'\\n})\\nmeta_lung\""
      ]
     },
     "execution_count": 59,
     "metadata": {},
     "output_type": "execute_result"
    }
   ],
   "source": [
    "\"\"\"meta_lung = pd.DataFrame({\n",
    "    'sample': exp_lung.columns[1:],\n",
    "    'condition': np.random.choice([0, 1], size=len(exp_lung.columns[1:])),\n",
    "    'gender' : 'FEMALE'\n",
    "})\n",
    "meta_lung\"\"\""
   ]
  },
  {
   "cell_type": "code",
   "execution_count": 60,
   "metadata": {},
   "outputs": [
    {
     "data": {
      "text/html": [
       "<div>\n",
       "<style scoped>\n",
       "    .dataframe tbody tr th:only-of-type {\n",
       "        vertical-align: middle;\n",
       "    }\n",
       "\n",
       "    .dataframe tbody tr th {\n",
       "        vertical-align: top;\n",
       "    }\n",
       "\n",
       "    .dataframe thead th {\n",
       "        text-align: right;\n",
       "    }\n",
       "</style>\n",
       "<table border=\"1\" class=\"dataframe\">\n",
       "  <thead>\n",
       "    <tr style=\"text-align: right;\">\n",
       "      <th></th>\n",
       "      <th>regulatoryGene</th>\n",
       "      <th>targetGene</th>\n",
       "      <th>weight</th>\n",
       "    </tr>\n",
       "  </thead>\n",
       "  <tbody>\n",
       "    <tr>\n",
       "      <th>0</th>\n",
       "      <td>PAX8</td>\n",
       "      <td>PAX8-AS1</td>\n",
       "      <td>0.149235</td>\n",
       "    </tr>\n",
       "    <tr>\n",
       "      <th>1</th>\n",
       "      <td>ZFY</td>\n",
       "      <td>EIF1AY</td>\n",
       "      <td>0.101827</td>\n",
       "    </tr>\n",
       "  </tbody>\n",
       "</table>\n",
       "</div>"
      ],
      "text/plain": [
       "  regulatoryGene targetGene    weight\n",
       "0           PAX8   PAX8-AS1  0.149235\n",
       "1            ZFY     EIF1AY  0.101827"
      ]
     },
     "execution_count": 60,
     "metadata": {},
     "output_type": "execute_result"
    }
   ],
   "source": [
    "grn_breast.head(2)"
   ]
  },
  {
   "cell_type": "code",
   "execution_count": 61,
   "metadata": {},
   "outputs": [
    {
     "data": {
      "text/html": [
       "<div>\n",
       "<style scoped>\n",
       "    .dataframe tbody tr th:only-of-type {\n",
       "        vertical-align: middle;\n",
       "    }\n",
       "\n",
       "    .dataframe tbody tr th {\n",
       "        vertical-align: top;\n",
       "    }\n",
       "\n",
       "    .dataframe thead th {\n",
       "        text-align: right;\n",
       "    }\n",
       "</style>\n",
       "<table border=\"1\" class=\"dataframe\">\n",
       "  <thead>\n",
       "    <tr style=\"text-align: right;\">\n",
       "      <th></th>\n",
       "      <th>sample</th>\n",
       "      <th>condition</th>\n",
       "      <th>gender</th>\n",
       "    </tr>\n",
       "  </thead>\n",
       "  <tbody>\n",
       "    <tr>\n",
       "      <th>0</th>\n",
       "      <td>GTEX-1117F-2826-SM-5GZXL</td>\n",
       "      <td>0</td>\n",
       "      <td>FEMALE</td>\n",
       "    </tr>\n",
       "    <tr>\n",
       "      <th>1</th>\n",
       "      <td>GTEX-111YS-1926-SM-5GICC</td>\n",
       "      <td>0</td>\n",
       "      <td>FEMALE</td>\n",
       "    </tr>\n",
       "  </tbody>\n",
       "</table>\n",
       "</div>"
      ],
      "text/plain": [
       "                     sample  condition  gender\n",
       "0  GTEX-1117F-2826-SM-5GZXL          0  FEMALE\n",
       "1  GTEX-111YS-1926-SM-5GICC          0  FEMALE"
      ]
     },
     "execution_count": 61,
     "metadata": {},
     "output_type": "execute_result"
    }
   ],
   "source": [
    "grn_breast\n",
    "meta_breast = pd.DataFrame({\n",
    "    'sample': exp_breast.columns[1:],\n",
    "    'condition': np.random.choice([0, 1], size=len(exp_breast.columns[1:])),\n",
    "    'gender' : 'FEMALE'\n",
    "})\n",
    "meta_breast.head(2)"
   ]
  },
  {
   "cell_type": "code",
   "execution_count": 62,
   "metadata": {},
   "outputs": [
    {
     "data": {
      "text/html": [
       "<div>\n",
       "<style scoped>\n",
       "    .dataframe tbody tr th:only-of-type {\n",
       "        vertical-align: middle;\n",
       "    }\n",
       "\n",
       "    .dataframe tbody tr th {\n",
       "        vertical-align: top;\n",
       "    }\n",
       "\n",
       "    .dataframe thead th {\n",
       "        text-align: right;\n",
       "    }\n",
       "</style>\n",
       "<table border=\"1\" class=\"dataframe\">\n",
       "  <thead>\n",
       "    <tr style=\"text-align: right;\">\n",
       "      <th></th>\n",
       "      <th>sample</th>\n",
       "      <th>condition</th>\n",
       "      <th>gender</th>\n",
       "    </tr>\n",
       "  </thead>\n",
       "  <tbody>\n",
       "    <tr>\n",
       "      <th>0</th>\n",
       "      <td>GTEX-111CU-0326-SM-5GZXO</td>\n",
       "      <td>1</td>\n",
       "      <td>FEMALE</td>\n",
       "    </tr>\n",
       "    <tr>\n",
       "      <th>1</th>\n",
       "      <td>GTEX-111FC-1126-SM-5GZWU</td>\n",
       "      <td>0</td>\n",
       "      <td>FEMALE</td>\n",
       "    </tr>\n",
       "    <tr>\n",
       "      <th>2</th>\n",
       "      <td>GTEX-111VG-0726-SM-5GIDC</td>\n",
       "      <td>0</td>\n",
       "      <td>FEMALE</td>\n",
       "    </tr>\n",
       "    <tr>\n",
       "      <th>3</th>\n",
       "      <td>GTEX-111YS-0626-SM-5GZXV</td>\n",
       "      <td>0</td>\n",
       "      <td>FEMALE</td>\n",
       "    </tr>\n",
       "    <tr>\n",
       "      <th>4</th>\n",
       "      <td>GTEX-1122O-0126-SM-5GICA</td>\n",
       "      <td>0</td>\n",
       "      <td>FEMALE</td>\n",
       "    </tr>\n",
       "  </tbody>\n",
       "</table>\n",
       "</div>"
      ],
      "text/plain": [
       "                     sample  condition  gender\n",
       "0  GTEX-111CU-0326-SM-5GZXO          1  FEMALE\n",
       "1  GTEX-111FC-1126-SM-5GZWU          0  FEMALE\n",
       "2  GTEX-111VG-0726-SM-5GIDC          0  FEMALE\n",
       "3  GTEX-111YS-0626-SM-5GZXV          0  FEMALE\n",
       "4  GTEX-1122O-0126-SM-5GICA          0  FEMALE"
      ]
     },
     "execution_count": 62,
     "metadata": {},
     "output_type": "execute_result"
    }
   ],
   "source": [
    "meta_lung= pd.DataFrame({\n",
    "    'sample': exp_lung.columns[1:],\n",
    "    'condition': np.random.choice([0], size=len(exp_lung.columns[1:])),\n",
    "    'gender' : 'FEMALE'\n",
    "})\n",
    "meta_lung.loc[0, \"condition\"] = 1\n",
    "meta_lung.head(5)"
   ]
  },
  {
   "cell_type": "code",
   "execution_count": 63,
   "metadata": {},
   "outputs": [
    {
     "data": {
      "text/html": [
       "<div>\n",
       "<style scoped>\n",
       "    .dataframe tbody tr th:only-of-type {\n",
       "        vertical-align: middle;\n",
       "    }\n",
       "\n",
       "    .dataframe tbody tr th {\n",
       "        vertical-align: top;\n",
       "    }\n",
       "\n",
       "    .dataframe thead th {\n",
       "        text-align: right;\n",
       "    }\n",
       "</style>\n",
       "<table border=\"1\" class=\"dataframe\">\n",
       "  <thead>\n",
       "    <tr style=\"text-align: right;\">\n",
       "      <th></th>\n",
       "      <th>sample</th>\n",
       "      <th>condition</th>\n",
       "      <th>gender</th>\n",
       "    </tr>\n",
       "  </thead>\n",
       "  <tbody>\n",
       "    <tr>\n",
       "      <th>0</th>\n",
       "      <td>GTEX-1117F-2826-SM-5GZXL</td>\n",
       "      <td>1</td>\n",
       "      <td>FEMALE</td>\n",
       "    </tr>\n",
       "    <tr>\n",
       "      <th>1</th>\n",
       "      <td>GTEX-111YS-1926-SM-5GICC</td>\n",
       "      <td>0</td>\n",
       "      <td>FEMALE</td>\n",
       "    </tr>\n",
       "    <tr>\n",
       "      <th>2</th>\n",
       "      <td>GTEX-1122O-1226-SM-5H113</td>\n",
       "      <td>0</td>\n",
       "      <td>FEMALE</td>\n",
       "    </tr>\n",
       "    <tr>\n",
       "      <th>3</th>\n",
       "      <td>GTEX-117XS-1926-SM-5GICO</td>\n",
       "      <td>0</td>\n",
       "      <td>FEMALE</td>\n",
       "    </tr>\n",
       "    <tr>\n",
       "      <th>4</th>\n",
       "      <td>GTEX-117YX-1426-SM-5H12H</td>\n",
       "      <td>0</td>\n",
       "      <td>FEMALE</td>\n",
       "    </tr>\n",
       "  </tbody>\n",
       "</table>\n",
       "</div>"
      ],
      "text/plain": [
       "                     sample  condition  gender\n",
       "0  GTEX-1117F-2826-SM-5GZXL          1  FEMALE\n",
       "1  GTEX-111YS-1926-SM-5GICC          0  FEMALE\n",
       "2  GTEX-1122O-1226-SM-5H113          0  FEMALE\n",
       "3  GTEX-117XS-1926-SM-5GICO          0  FEMALE\n",
       "4  GTEX-117YX-1426-SM-5H12H          0  FEMALE"
      ]
     },
     "execution_count": 63,
     "metadata": {},
     "output_type": "execute_result"
    }
   ],
   "source": [
    "meta_breast= pd.DataFrame({\n",
    "    'sample': exp_breast.columns[1:],\n",
    "    'condition': np.random.choice([0], size=len(exp_breast.columns[1:])),\n",
    "    'gender' : 'FEMALE'\n",
    "})\n",
    "meta_breast.loc[0, \"condition\"] = 1\n",
    "meta_breast.head(5)"
   ]
  },
  {
   "cell_type": "code",
   "execution_count": 64,
   "metadata": {},
   "outputs": [
    {
     "name": "stdout",
     "output_type": "stream",
     "text": [
      "                     sample  condition  gender\n",
      "0  GTEX-1M4P7-2626-SM-E9U5F          0  FEMALE\n",
      "1   GTEX-ZUA1-1526-SM-59HLS          0  FEMALE\n",
      "2  GTEX-1117F-2826-SM-5GZXL          1  FEMALE\n"
     ]
    }
   ],
   "source": [
    "# Step 1: Filter rows where condition is 0 (controls)\n",
    "controls = meta_breast[meta_breast['condition'] == 0]\n",
    "\n",
    "# Step 2: Randomly select two control samples\n",
    "selected_controls = controls.sample(n=2, random_state=42)  # random_state for reproducibility\n",
    "\n",
    "# Step 3: Update the meta_breast DataFrame to only include the selected controls and all other rows where condition != 0\n",
    "meta_breast_filtered = pd.concat([\n",
    "    selected_controls,\n",
    "    meta_breast[meta_breast['condition'] != 0]\n",
    "], ignore_index=True)\n",
    "\n",
    "# Display the updated meta_breast DataFrame\n",
    "print(meta_breast_filtered)\n"
   ]
  },
  {
   "cell_type": "code",
   "execution_count": 65,
   "metadata": {},
   "outputs": [
    {
     "data": {
      "text/html": [
       "<div>\n",
       "<style scoped>\n",
       "    .dataframe tbody tr th:only-of-type {\n",
       "        vertical-align: middle;\n",
       "    }\n",
       "\n",
       "    .dataframe tbody tr th {\n",
       "        vertical-align: top;\n",
       "    }\n",
       "\n",
       "    .dataframe thead th {\n",
       "        text-align: right;\n",
       "    }\n",
       "</style>\n",
       "<table border=\"1\" class=\"dataframe\">\n",
       "  <thead>\n",
       "    <tr style=\"text-align: right;\">\n",
       "      <th></th>\n",
       "      <th>regulatoryGene</th>\n",
       "      <th>targetGene</th>\n",
       "      <th>weight</th>\n",
       "    </tr>\n",
       "  </thead>\n",
       "  <tbody>\n",
       "    <tr>\n",
       "      <th>0</th>\n",
       "      <td>ZFY</td>\n",
       "      <td>TTTY14</td>\n",
       "      <td>0.269712</td>\n",
       "    </tr>\n",
       "    <tr>\n",
       "      <th>1</th>\n",
       "      <td>ZFY</td>\n",
       "      <td>EIF1AY</td>\n",
       "      <td>0.248673</td>\n",
       "    </tr>\n",
       "  </tbody>\n",
       "</table>\n",
       "</div>"
      ],
      "text/plain": [
       "  regulatoryGene targetGene    weight\n",
       "0            ZFY     TTTY14  0.269712\n",
       "1            ZFY     EIF1AY  0.248673"
      ]
     },
     "execution_count": 65,
     "metadata": {},
     "output_type": "execute_result"
    }
   ],
   "source": [
    "grn_lung.head(2)"
   ]
  },
  {
   "cell_type": "markdown",
   "metadata": {},
   "source": [
    "Define the confounding variables or the design matrix"
   ]
  },
  {
   "cell_type": "code",
   "execution_count": 66,
   "metadata": {},
   "outputs": [],
   "source": [
    "exp_lung = exp_lung.set_index(exp_lung.columns[0])\n",
    "exp_lung = exp_lung.T \n",
    "exp_lung.insert(0, \"sample\", exp_lung. index)\n",
    "#assert all(exp_lung.iloc[:, 0].values == meta_lung.iloc[:,0].values)"
   ]
  },
  {
   "cell_type": "code",
   "execution_count": 67,
   "metadata": {},
   "outputs": [
    {
     "data": {
      "text/html": [
       "<div>\n",
       "<style scoped>\n",
       "    .dataframe tbody tr th:only-of-type {\n",
       "        vertical-align: middle;\n",
       "    }\n",
       "\n",
       "    .dataframe tbody tr th {\n",
       "        vertical-align: top;\n",
       "    }\n",
       "\n",
       "    .dataframe thead th {\n",
       "        text-align: right;\n",
       "    }\n",
       "</style>\n",
       "<table border=\"1\" class=\"dataframe\">\n",
       "  <thead>\n",
       "    <tr style=\"text-align: right;\">\n",
       "      <th>Description</th>\n",
       "      <th>sample</th>\n",
       "      <th>WASH7P</th>\n",
       "      <th>OR4F5</th>\n",
       "      <th>CICP27</th>\n",
       "      <th>WASH9P</th>\n",
       "      <th>MTND1P23</th>\n",
       "      <th>MTND2P28</th>\n",
       "      <th>MTCO1P12</th>\n",
       "      <th>MTCO2P12</th>\n",
       "      <th>MTATP8P1</th>\n",
       "      <th>...</th>\n",
       "      <th>MT-ATP8</th>\n",
       "      <th>MT-ATP6</th>\n",
       "      <th>MT-CO3</th>\n",
       "      <th>MT-ND3</th>\n",
       "      <th>MT-ND4L</th>\n",
       "      <th>MT-ND4</th>\n",
       "      <th>MT-ND5</th>\n",
       "      <th>MT-ND6</th>\n",
       "      <th>MT-TE</th>\n",
       "      <th>MT-CYB</th>\n",
       "    </tr>\n",
       "  </thead>\n",
       "  <tbody>\n",
       "    <tr>\n",
       "      <th>GTEX-111CU-0326-SM-5GZXO</th>\n",
       "      <td>GTEX-111CU-0326-SM-5GZXO</td>\n",
       "      <td>1.73487</td>\n",
       "      <td>0.015715</td>\n",
       "      <td>0.404045</td>\n",
       "      <td>3.44562</td>\n",
       "      <td>13.60320</td>\n",
       "      <td>701.845</td>\n",
       "      <td>36.4011</td>\n",
       "      <td>7.73125</td>\n",
       "      <td>21.4650</td>\n",
       "      <td>...</td>\n",
       "      <td>20639.6</td>\n",
       "      <td>30316.0</td>\n",
       "      <td>19533.3</td>\n",
       "      <td>9311.24</td>\n",
       "      <td>11979.60</td>\n",
       "      <td>25032.7</td>\n",
       "      <td>9814.89</td>\n",
       "      <td>13675.40</td>\n",
       "      <td>41.73750</td>\n",
       "      <td>17064.5</td>\n",
       "    </tr>\n",
       "    <tr>\n",
       "      <th>GTEX-111FC-1126-SM-5GZWU</th>\n",
       "      <td>GTEX-111FC-1126-SM-5GZWU</td>\n",
       "      <td>6.03857</td>\n",
       "      <td>0.023205</td>\n",
       "      <td>0.105289</td>\n",
       "      <td>10.74130</td>\n",
       "      <td>8.65547</td>\n",
       "      <td>327.442</td>\n",
       "      <td>22.0995</td>\n",
       "      <td>8.86811</td>\n",
       "      <td>15.4709</td>\n",
       "      <td>...</td>\n",
       "      <td>12900.5</td>\n",
       "      <td>20179.0</td>\n",
       "      <td>15523.2</td>\n",
       "      <td>9339.42</td>\n",
       "      <td>5804.09</td>\n",
       "      <td>15797.2</td>\n",
       "      <td>2139.15</td>\n",
       "      <td>1751.61</td>\n",
       "      <td>2.64138</td>\n",
       "      <td>11498.2</td>\n",
       "    </tr>\n",
       "  </tbody>\n",
       "</table>\n",
       "<p>2 rows × 21043 columns</p>\n",
       "</div>"
      ],
      "text/plain": [
       "Description                                 sample   WASH7P     OR4F5  \\\n",
       "GTEX-111CU-0326-SM-5GZXO  GTEX-111CU-0326-SM-5GZXO  1.73487  0.015715   \n",
       "GTEX-111FC-1126-SM-5GZWU  GTEX-111FC-1126-SM-5GZWU  6.03857  0.023205   \n",
       "\n",
       "Description                 CICP27    WASH9P  MTND1P23  MTND2P28  MTCO1P12  \\\n",
       "GTEX-111CU-0326-SM-5GZXO  0.404045   3.44562  13.60320   701.845   36.4011   \n",
       "GTEX-111FC-1126-SM-5GZWU  0.105289  10.74130   8.65547   327.442   22.0995   \n",
       "\n",
       "Description               MTCO2P12  MTATP8P1  ...  MT-ATP8  MT-ATP6   MT-CO3  \\\n",
       "GTEX-111CU-0326-SM-5GZXO   7.73125   21.4650  ...  20639.6  30316.0  19533.3   \n",
       "GTEX-111FC-1126-SM-5GZWU   8.86811   15.4709  ...  12900.5  20179.0  15523.2   \n",
       "\n",
       "Description                MT-ND3   MT-ND4L   MT-ND4   MT-ND5    MT-ND6  \\\n",
       "GTEX-111CU-0326-SM-5GZXO  9311.24  11979.60  25032.7  9814.89  13675.40   \n",
       "GTEX-111FC-1126-SM-5GZWU  9339.42   5804.09  15797.2  2139.15   1751.61   \n",
       "\n",
       "Description                  MT-TE   MT-CYB  \n",
       "GTEX-111CU-0326-SM-5GZXO  41.73750  17064.5  \n",
       "GTEX-111FC-1126-SM-5GZWU   2.64138  11498.2  \n",
       "\n",
       "[2 rows x 21043 columns]"
      ]
     },
     "execution_count": 67,
     "metadata": {},
     "output_type": "execute_result"
    }
   ],
   "source": [
    "exp_lung.head(2)"
   ]
  },
  {
   "cell_type": "code",
   "execution_count": 68,
   "metadata": {},
   "outputs": [],
   "source": [
    "exp_breast = exp_breast.set_index(exp_breast.columns[0])\n",
    "exp_breast = exp_breast.T \n",
    "exp_breast.insert(0, \"sample\", exp_breast. index)\n",
    "#assert all(exp_breast.iloc[:, 0].values == meta_breast.iloc[:,0].values)"
   ]
  },
  {
   "cell_type": "code",
   "execution_count": 69,
   "metadata": {},
   "outputs": [
    {
     "data": {
      "text/html": [
       "<div>\n",
       "<style scoped>\n",
       "    .dataframe tbody tr th:only-of-type {\n",
       "        vertical-align: middle;\n",
       "    }\n",
       "\n",
       "    .dataframe tbody tr th {\n",
       "        vertical-align: top;\n",
       "    }\n",
       "\n",
       "    .dataframe thead th {\n",
       "        text-align: right;\n",
       "    }\n",
       "</style>\n",
       "<table border=\"1\" class=\"dataframe\">\n",
       "  <thead>\n",
       "    <tr style=\"text-align: right;\">\n",
       "      <th>Description</th>\n",
       "      <th>sample</th>\n",
       "      <th>WASH7P</th>\n",
       "      <th>OR4F5</th>\n",
       "      <th>WASH9P</th>\n",
       "      <th>MTND1P23</th>\n",
       "      <th>MTND2P28</th>\n",
       "      <th>MTCO1P12</th>\n",
       "      <th>MTCO2P12</th>\n",
       "      <th>MTATP8P1</th>\n",
       "      <th>MTATP6P1</th>\n",
       "      <th>...</th>\n",
       "      <th>MT-ATP6</th>\n",
       "      <th>MT-CO3</th>\n",
       "      <th>MT-ND3</th>\n",
       "      <th>MT-ND4L</th>\n",
       "      <th>MT-ND4</th>\n",
       "      <th>MT-ND5</th>\n",
       "      <th>MT-ND6</th>\n",
       "      <th>MT-TE</th>\n",
       "      <th>MT-CYB</th>\n",
       "      <th>MT-TP</th>\n",
       "    </tr>\n",
       "  </thead>\n",
       "  <tbody>\n",
       "    <tr>\n",
       "      <th>GTEX-1117F-2826-SM-5GZXL</th>\n",
       "      <td>GTEX-1117F-2826-SM-5GZXL</td>\n",
       "      <td>9.70327</td>\n",
       "      <td>0.018298</td>\n",
       "      <td>7.16661</td>\n",
       "      <td>18.5431</td>\n",
       "      <td>1017.12</td>\n",
       "      <td>38.0448</td>\n",
       "      <td>10.6094</td>\n",
       "      <td>20.5299</td>\n",
       "      <td>4373.92</td>\n",
       "      <td>...</td>\n",
       "      <td>41003.6</td>\n",
       "      <td>51020.1</td>\n",
       "      <td>14202.3</td>\n",
       "      <td>14019.8</td>\n",
       "      <td>35322.9</td>\n",
       "      <td>2929.78</td>\n",
       "      <td>1756.72</td>\n",
       "      <td>2.08274</td>\n",
       "      <td>20157.3</td>\n",
       "      <td>2.113370</td>\n",
       "    </tr>\n",
       "    <tr>\n",
       "      <th>GTEX-111YS-1926-SM-5GICC</th>\n",
       "      <td>GTEX-111YS-1926-SM-5GICC</td>\n",
       "      <td>3.98499</td>\n",
       "      <td>0.080215</td>\n",
       "      <td>5.65219</td>\n",
       "      <td>17.7260</td>\n",
       "      <td>1147.13</td>\n",
       "      <td>57.2182</td>\n",
       "      <td>12.2619</td>\n",
       "      <td>42.2615</td>\n",
       "      <td>4126.39</td>\n",
       "      <td>...</td>\n",
       "      <td>45532.2</td>\n",
       "      <td>34797.2</td>\n",
       "      <td>19903.3</td>\n",
       "      <td>18822.5</td>\n",
       "      <td>45468.6</td>\n",
       "      <td>11130.40</td>\n",
       "      <td>16237.40</td>\n",
       "      <td>46.87020</td>\n",
       "      <td>28117.2</td>\n",
       "      <td>0.617656</td>\n",
       "    </tr>\n",
       "  </tbody>\n",
       "</table>\n",
       "<p>2 rows × 20398 columns</p>\n",
       "</div>"
      ],
      "text/plain": [
       "Description                                 sample   WASH7P     OR4F5  \\\n",
       "GTEX-1117F-2826-SM-5GZXL  GTEX-1117F-2826-SM-5GZXL  9.70327  0.018298   \n",
       "GTEX-111YS-1926-SM-5GICC  GTEX-111YS-1926-SM-5GICC  3.98499  0.080215   \n",
       "\n",
       "Description                WASH9P  MTND1P23  MTND2P28  MTCO1P12  MTCO2P12  \\\n",
       "GTEX-1117F-2826-SM-5GZXL  7.16661   18.5431   1017.12   38.0448   10.6094   \n",
       "GTEX-111YS-1926-SM-5GICC  5.65219   17.7260   1147.13   57.2182   12.2619   \n",
       "\n",
       "Description               MTATP8P1  MTATP6P1  ...  MT-ATP6   MT-CO3   MT-ND3  \\\n",
       "GTEX-1117F-2826-SM-5GZXL   20.5299   4373.92  ...  41003.6  51020.1  14202.3   \n",
       "GTEX-111YS-1926-SM-5GICC   42.2615   4126.39  ...  45532.2  34797.2  19903.3   \n",
       "\n",
       "Description               MT-ND4L   MT-ND4    MT-ND5    MT-ND6     MT-TE  \\\n",
       "GTEX-1117F-2826-SM-5GZXL  14019.8  35322.9   2929.78   1756.72   2.08274   \n",
       "GTEX-111YS-1926-SM-5GICC  18822.5  45468.6  11130.40  16237.40  46.87020   \n",
       "\n",
       "Description                MT-CYB     MT-TP  \n",
       "GTEX-1117F-2826-SM-5GZXL  20157.3  2.113370  \n",
       "GTEX-111YS-1926-SM-5GICC  28117.2  0.617656  \n",
       "\n",
       "[2 rows x 20398 columns]"
      ]
     },
     "execution_count": 69,
     "metadata": {},
     "output_type": "execute_result"
    }
   ],
   "source": [
    "exp_breast.head(2)"
   ]
  },
  {
   "cell_type": "code",
   "execution_count": 70,
   "metadata": {},
   "outputs": [],
   "source": [
    "exp_exercise = exp_exercise.set_index(exp_exercise.columns[0])\n",
    "exp_exercise = exp_exercise.T \n",
    "exp_exercise.insert(0, \"sample\", exp_exercise.index)\n",
    "#assert all(exp_exercise.iloc[:, 0].values == meta_exercise.iloc[:,0].values)"
   ]
  },
  {
   "cell_type": "code",
   "execution_count": 71,
   "metadata": {},
   "outputs": [
    {
     "data": {
      "text/html": [
       "<div>\n",
       "<style scoped>\n",
       "    .dataframe tbody tr th:only-of-type {\n",
       "        vertical-align: middle;\n",
       "    }\n",
       "\n",
       "    .dataframe tbody tr th {\n",
       "        vertical-align: top;\n",
       "    }\n",
       "\n",
       "    .dataframe thead th {\n",
       "        text-align: right;\n",
       "    }\n",
       "</style>\n",
       "<table border=\"1\" class=\"dataframe\">\n",
       "  <thead>\n",
       "    <tr style=\"text-align: right;\">\n",
       "      <th></th>\n",
       "      <th>sample</th>\n",
       "      <th>_PATIENT</th>\n",
       "      <th>cancer type abbreviation</th>\n",
       "      <th>age_at_initial_pathologic_diagnosis</th>\n",
       "      <th>gender</th>\n",
       "      <th>race</th>\n",
       "      <th>ajcc_pathologic_tumor_stage</th>\n",
       "      <th>clinical_stage</th>\n",
       "      <th>histological_type</th>\n",
       "      <th>histological_grade</th>\n",
       "      <th>...</th>\n",
       "      <th>DSS.time</th>\n",
       "      <th>DFI</th>\n",
       "      <th>DFI.time</th>\n",
       "      <th>PFI</th>\n",
       "      <th>PFI.time</th>\n",
       "      <th>Redaction</th>\n",
       "      <th>sample_type_id</th>\n",
       "      <th>sample_type</th>\n",
       "      <th>_primary_disease</th>\n",
       "      <th>condition</th>\n",
       "    </tr>\n",
       "  </thead>\n",
       "  <tbody>\n",
       "    <tr>\n",
       "      <th>0</th>\n",
       "      <td>TCGA-38-4625-11</td>\n",
       "      <td>TCGA-38-4625</td>\n",
       "      <td>LUAD</td>\n",
       "      <td>66.0</td>\n",
       "      <td>FEMALE</td>\n",
       "      <td>WHITE</td>\n",
       "      <td>Stage IB</td>\n",
       "      <td>NaN</td>\n",
       "      <td>Lung Adenocarcinoma</td>\n",
       "      <td>NaN</td>\n",
       "      <td>...</td>\n",
       "      <td>2973.0</td>\n",
       "      <td>0.0</td>\n",
       "      <td>2973.0</td>\n",
       "      <td>0.0</td>\n",
       "      <td>2973.0</td>\n",
       "      <td>NaN</td>\n",
       "      <td>11.0</td>\n",
       "      <td>Solid Tissue Normal</td>\n",
       "      <td>lung adenocarcinoma</td>\n",
       "      <td>0</td>\n",
       "    </tr>\n",
       "  </tbody>\n",
       "</table>\n",
       "<p>1 rows × 38 columns</p>\n",
       "</div>"
      ],
      "text/plain": [
       "            sample      _PATIENT cancer type abbreviation  \\\n",
       "0  TCGA-38-4625-11  TCGA-38-4625                     LUAD   \n",
       "\n",
       "   age_at_initial_pathologic_diagnosis  gender   race  \\\n",
       "0                                 66.0  FEMALE  WHITE   \n",
       "\n",
       "  ajcc_pathologic_tumor_stage  clinical_stage    histological_type  \\\n",
       "0                    Stage IB             NaN  Lung Adenocarcinoma   \n",
       "\n",
       "   histological_grade  ...  DSS.time  DFI  DFI.time  PFI PFI.time  Redaction  \\\n",
       "0                 NaN  ...    2973.0  0.0    2973.0  0.0   2973.0        NaN   \n",
       "\n",
       "   sample_type_id          sample_type     _primary_disease  condition  \n",
       "0            11.0  Solid Tissue Normal  lung adenocarcinoma          0  \n",
       "\n",
       "[1 rows x 38 columns]"
      ]
     },
     "execution_count": 71,
     "metadata": {},
     "output_type": "execute_result"
    }
   ],
   "source": [
    "meta_exercise.head(1)"
   ]
  },
  {
   "cell_type": "markdown",
   "metadata": {},
   "source": [
    "Run DysRegNet"
   ]
  },
  {
   "cell_type": "code",
   "execution_count": 72,
   "metadata": {},
   "outputs": [],
   "source": [
    "# define condition column (0 indicated control, 1 indicates case), Column name for the condition in the meta DataFrame.\n",
    "conCol='condition'\n",
    "\n",
    "# define categorical confounder columns in meta dataframe, List of categorical variable names. They should match the name of their columns in the meta Dataframe.\n",
    "CatCov=['gender']  \n",
    "\n",
    "# define continuous confounder columns in meta dataframe, List of continuous covariates. They should match the name of their columns in the meta Dataframe.\n",
    "# ConCov=['gender']"
   ]
  },
  {
   "cell_type": "code",
   "execution_count": 73,
   "metadata": {},
   "outputs": [
    {
     "data": {
      "text/plain": [
       "'\\ndata=dysregnet.run(expression_data = exp_exercise.head(60), \\n                   GRN= grn_exercise,\\n                   meta = meta_exercise.head(60),\\n                   direction_condition=False,\\n                   normaltest=True,\\n                   CatCov = CatCov,\\n                   ConCov = [conCol],\\n                   R2_threshold=.2)\\n                   \\n'"
      ]
     },
     "execution_count": 73,
     "metadata": {},
     "output_type": "execute_result"
    }
   ],
   "source": [
    "\"\"\"\n",
    "data=dysregnet.run(expression_data = exp_exercise.head(60), \n",
    "                   GRN= grn_exercise,\n",
    "                   meta = meta_exercise.head(60),\n",
    "                   direction_condition=False,\n",
    "                   normaltest=True,\n",
    "                   CatCov = CatCov,\n",
    "                   ConCov = [conCol],\n",
    "                   R2_threshold=.2)\n",
    "                   \n",
    "\"\"\""
   ]
  },
  {
   "cell_type": "code",
   "execution_count": 74,
   "metadata": {},
   "outputs": [
    {
     "data": {
      "text/plain": [
       "'\\ndata=dysregnet.run(expression_data = exp_breast.head(7), \\n                   GRN= \"breast\",\\n                   meta = meta_breast.head(7),\\n                   direction_condition=False,\\n                   normaltest=True,\\n                   #CatCov = CatCov,\\n                   #ConCov = [conCol],\\n                   R2_threshold=.2)\\n'"
      ]
     },
     "execution_count": 74,
     "metadata": {},
     "output_type": "execute_result"
    }
   ],
   "source": [
    "\"\"\"\n",
    "data=dysregnet.run(expression_data = exp_breast.head(7), \n",
    "                   GRN= \"breast\",\n",
    "                   meta = meta_breast.head(7),\n",
    "                   direction_condition=False,\n",
    "                   normaltest=True,\n",
    "                   #CatCov = CatCov,\n",
    "                   #ConCov = [conCol],\n",
    "                   R2_threshold=.2)\n",
    "\"\"\""
   ]
  },
  {
   "cell_type": "code",
   "execution_count": 77,
   "metadata": {},
   "outputs": [
    {
     "name": "stdout",
     "output_type": "stream",
     "text": [
      "Processing lung GRN file...\n",
      "GRN file and model ZIP already exist locally. Skipping download.\n",
      "Extracting lung model ZIP...\n",
      "Extracted models/lung_models.zip to models\n",
      "You did not input any covariates in CatCov or ConCov parameters, proceeding without them.\n",
      "Warning: You have more than 3 control samples\n"
     ]
    },
    {
     "name": "stderr",
     "output_type": "stream",
     "text": [
      "Processing edges: 94547it [22:20, 70.51it/s]\n"
     ]
    },
    {
     "name": "stdout",
     "output_type": "stream",
     "text": [
      "Ratio of found models:  1.0\n",
      "Skipped models:  1.0\n",
      "edges:  {'patient id': ['GTEX-1117F-2826-SM-5GZXL', 'GTEX-111YS-1926-SM-5GICC', 'GTEX-1122O-1226-SM-5H113', 'GTEX-117XS-1926-SM-5GICO', 'GTEX-117YX-1426-SM-5H12H', 'GTEX-1192X-2326-SM-5987X', 'GTEX-11DXW-0626-SM-5N9ER', 'GTEX-11DXY-2326-SM-5GICW', 'GTEX-11DXZ-1926-SM-5GZZL', 'GTEX-11DZ1-0326-SM-5N9BN', 'GTEX-11EI6-0626-SM-5985T', 'GTEX-11EM3-1326-SM-5N9C6', 'GTEX-11EMC-2026-SM-5A5JV', 'GTEX-11EQ9-1826-SM-5Q5AJ', 'GTEX-11GS4-2126-SM-5A5KR', 'GTEX-11GSO-1926-SM-5A5K3', 'GTEX-11GSP-0926-SM-9WYSG', 'GTEX-11I78-2226-SM-5PNYA', 'GTEX-11LCK-2426-SM-5HL5F', 'GTEX-11NSD-0926-SM-5N9DR', 'GTEX-11NV4-2026-SM-5N9DG', 'GTEX-11O72-2126-SM-5N9FO', 'GTEX-11OF3-1926-SM-59889', 'GTEX-11ONC-2126-SM-5HL6E', 'GTEX-11P7K-0726-SM-5EGKX', 'GTEX-11P81-1926-SM-5BC53', 'GTEX-11P82-1326-SM-5HL62', 'GTEX-11PRG-0826-SM-5EQ6A', 'GTEX-11TT1-2126-SM-5GU5Y', 'GTEX-11TUW-1826-SM-5BC5D', 'GTEX-11WQC-1726-SM-5GU4W', 'GTEX-11WQK-2426-SM-5GU5C', 'GTEX-11ZTS-2926-SM-GHWOW', 'GTEX-11ZTT-2326-SM-5EQLG', 'GTEX-11ZUS-0826-SM-5FQUY', 'GTEX-1211K-1926-SM-5EQLB', 'GTEX-1269C-2426-SM-5FQSN', 'GTEX-12BJ1-1826-SM-5HL9N', 'GTEX-12C56-0726-SM-HAV3J', 'GTEX-12KS4-0126-SM-5Q5A5', 'GTEX-12WSA-0926-SM-GHWO8', 'GTEX-12WSK-2226-SM-5GCO5', 'GTEX-12WSM-1726-SM-5BC6J', 'GTEX-12WSN-1326-SM-5GCNT', 'GTEX-12ZZX-1126-SM-5EGKB', 'GTEX-13113-5013-SM-7SB7G', 'GTEX-1313W-0826-SM-5EQ4T', 'GTEX-1314G-1226-SM-5BC6D', 'GTEX-131XW-0726-SM-5EGK3', 'GTEX-131YS-0626-SM-5EGKL', 'GTEX-132AR-0826-SM-5EGK6', 'GTEX-132NY-0826-SM-5K7Y7', 'GTEX-132Q8-1426-SM-5EGK7', 'GTEX-133LE-1726-SM-5K7VQ', 'GTEX-1399U-1826-SM-5PNZ1', 'GTEX-139T6-1626-SM-5PNYZ', 'GTEX-139T8-0826-SM-G8OLO', 'GTEX-139TU-0626-SM-5KM3X', 'GTEX-13CF2-2026-SM-5K7VI', 'GTEX-13CF3-2126-SM-5IFJP', 'GTEX-13D11-1026-SM-5IJFB', 'GTEX-13FHO-0826-SM-5L3E8', 'GTEX-13FLV-2526-SM-G8W75', 'GTEX-13FTW-1426-SM-5LZWZ', 'GTEX-13FTX-1126-SM-5N9EN', 'GTEX-13FTY-2226-SM-5J1ND', 'GTEX-13JVG-2326-SM-HPAGF', 'GTEX-13N11-1726-SM-5J1OJ', 'GTEX-13N1W-0626-SM-5MR4U', 'GTEX-13NZ8-0126-SM-5IJCT', 'GTEX-13NZ9-1026-SM-5MR5K', 'GTEX-13NZB-2126-SM-5MR4Y', 'GTEX-13O3O-0826-SM-5K7WE', 'GTEX-13O3P-0826-SM-5L3DH', 'GTEX-13O3Q-2226-SM-5KM4O', 'GTEX-13O61-1826-SM-5KM4I', 'GTEX-13OVH-2826-SM-GHWQ3', 'GTEX-13OW5-2226-SM-5L3HC', 'GTEX-13OW8-0226-SM-5K7UP', 'GTEX-13PL6-2926-SM-5L3I2', 'GTEX-13PVQ-1026-SM-5KM3M', 'GTEX-13PVR-2226-SM-5PNXG', 'GTEX-13QIC-2326-SM-5LU5N', 'GTEX-13QJ3-0826-SM-5PNV5', 'GTEX-13QJC-2126-SM-5PNXF', 'GTEX-13S86-1226-SM-5S2OA', 'GTEX-13SLW-2526-SM-62LDQ', 'GTEX-13SLX-2326-SM-5ZZWE', 'GTEX-13VXU-2826-SM-664MA', 'GTEX-13W3W-1226-SM-5LU4H', 'GTEX-13W46-0826-SM-5LU3H', 'GTEX-13X6I-0426-SM-GHWO7', 'GTEX-13X6J-0926-SM-GHWOT', 'GTEX-144GL-2026-SM-5LU3O', 'GTEX-144GM-0926-SM-5O994', 'GTEX-145LT-0726-SM-5S2VM', 'GTEX-145ME-5011-SM-GHWQC', 'GTEX-145MF-2226-SM-7EPIR', 'GTEX-145MN-1926-SM-5MR7J', 'GTEX-145MO-0826-SM-5NQBL', 'GTEX-146FH-0826-SM-5MR5U', 'GTEX-14753-2426-SM-5LU8U', 'GTEX-147F4-2826-SM-5NQBN', 'GTEX-14A5I-0726-SM-5TDEB', 'GTEX-14AS3-1626-SM-5S2OY', 'GTEX-14B4R-1226-SM-5TDDT', 'GTEX-14BMU-1626-SM-5TDE7', 'GTEX-14BMV-0626-SM-5PNUT', 'GTEX-14DAR-1326-SM-7DUEG', 'GTEX-14E6C-1326-SM-62LEQ', 'GTEX-14E6E-1326-SM-5S2NR', 'GTEX-14E7W-0826-SM-62LEJ', 'GTEX-14H4A-2526-SM-5YYAY', 'GTEX-14ICK-2426-SM-6EU27', 'GTEX-14LLW-0626-SM-62LFC', 'GTEX-14PHY-1926-SM-5YY95', 'GTEX-14PJ4-2126-SM-6ETZJ', 'GTEX-14PJN-1326-SM-GNINW', 'GTEX-14PJO-0726-SM-69LO8', 'GTEX-14PKU-0426-SM-6EU1P', 'GTEX-14PN4-0626-SM-62LFP', 'GTEX-15CHQ-0426-SM-HL9UE', 'GTEX-15D1Q-1026-SM-G8W79', 'GTEX-15EOM-5019-SM-793DK', 'GTEX-15ER7-1626-SM-6PAMZ', 'GTEX-15ETS-0626-SM-7KUMX', 'GTEX-15FZZ-0726-SM-7KUFZ', 'GTEX-15G19-2126-SM-6M48J', 'GTEX-15G1A-1426-SM-GOR15', 'GTEX-15RJE-2626-SM-7KFT1', 'GTEX-15SHW-1326-SM-6PAL8', 'GTEX-15UF6-0126-SM-6PAMB', 'GTEX-15UF7-0726-SM-6M46D', 'GTEX-15UKP-1126-SM-GPI9N', 'GTEX-169BO-1126-SM-7MGWN', 'GTEX-16AAH-1026-SM-GNTBY', 'GTEX-16BQI-1026-SM-7KUEA', 'GTEX-16MTA-0626-SM-GNIOV', 'GTEX-16NFA-1926-SM-GMXBM', 'GTEX-16NGA-0826-SM-718AF', 'GTEX-16NPV-0926-SM-GNTBN', 'GTEX-16XZZ-1326-SM-GMXCD', 'GTEX-16YQH-2826-SM-6PAMY', 'GTEX-17EUY-1926-SM-7DUF6', 'GTEX-17EVP-0226-SM-79OND', 'GTEX-17EVQ-0426-SM-7LG57', 'GTEX-17F96-2426-SM-7IGLN', 'GTEX-17F97-2526-SM-7EWDV', 'GTEX-17F98-0526-SM-79OK5', 'GTEX-17F9E-2526-SM-7MGW2', 'GTEX-17GQL-0326-SM-7LG5U', 'GTEX-17HG3-0126-SM-7IGNH', 'GTEX-17HGU-1326-SM-79OKB', 'GTEX-17HHE-1426-SM-7EPH4', 'GTEX-17HHY-0926-SM-793C1', 'GTEX-17JCI-0726-SM-7EPH1', 'GTEX-17KNJ-2026-SM-7LG53', 'GTEX-17MF6-0326-SM-7EPH5', 'GTEX-17MFQ-0926-SM-7LG4S', 'GTEX-183FY-1126-SM-7DHLJ', 'GTEX-183WM-0726-SM-7LTAA', 'GTEX-18465-2026-SM-718AP', 'GTEX-18A66-1726-SM-7LG5N', 'GTEX-18A6Q-0926-SM-7LG4N', 'GTEX-18A7A-0726-SM-7LTAI', 'GTEX-18A7B-2626-SM-7LG55', 'GTEX-18D9A-1526-SM-7LG4J', 'GTEX-18QFQ-0826-SM-718AX', 'GTEX-1A3MV-1626-SM-731C1', 'GTEX-1A3MX-2726-SM-718B6', 'GTEX-1A8G7-2426-SM-731AK', 'GTEX-1AMEY-1026-SM-718AA', 'GTEX-1AX8Z-0926-SM-731AW', 'GTEX-1AX9I-0726-SM-73KWV', 'GTEX-1AX9J-1126-SM-731B7', 'GTEX-1B8KE-1226-SM-73KWK', 'GTEX-1B8KZ-1526-SM-7DUG7', 'GTEX-1B8L1-2426-SM-9WYTE', 'GTEX-1B932-0826-SM-73KXG', 'GTEX-1B933-2526-SM-7IGO5', 'GTEX-1B97I-0426-SM-79OL7', 'GTEX-1B97J-0426-SM-79OLQ', 'GTEX-1BAJH-0826-SM-7EWEF', 'GTEX-1C475-1226-SM-7SB72', 'GTEX-1C64O-0726-SM-7DUFU', 'GTEX-1C6VQ-0426-SM-79OOX', 'GTEX-1C6VS-0726-SM-7EPHF', 'GTEX-1C6WA-2426-SM-7SB86', 'GTEX-1CAMR-1426-SM-793BO', 'GTEX-1CAMS-1426-SM-7IGPM', 'GTEX-1CB4E-0226-SM-79OLW', 'GTEX-1CB4G-2326-SM-79OOI', 'GTEX-1CB4J-1826-SM-7EWF9', 'GTEX-1E2YA-2726-SM-7IGPW', 'GTEX-1EKGG-2626-SM-7IGPY', 'GTEX-1EN7A-1426-SM-7PBY4', 'GTEX-1EU9M-2826-SM-7EWFH', 'GTEX-1EWIQ-1726-SM-7SB7T', 'GTEX-1F5PK-2126-SM-7PC28', 'GTEX-1F5PL-1026-SM-7RHI1', 'GTEX-1F6I4-2526-SM-7SB8F', 'GTEX-1F75A-1826-SM-7SB8G', 'GTEX-1F75B-0626-SM-7SB8A', 'GTEX-1F75I-2026-SM-7SB7N', 'GTEX-1GF9U-1726-SM-7MGY5', 'GTEX-1GF9V-2526-SM-7SB8K', 'GTEX-1GF9X-1026-SM-ACKX2', 'GTEX-1GMR2-1926-SM-9MQLZ', 'GTEX-1GMR3-2626-SM-7RHHG', 'GTEX-1GMR8-0726-SM-9KNVI', 'GTEX-1GMRU-0826-SM-9WYT7', 'GTEX-1GN1U-0526-SM-9KNTT', 'GTEX-1GN1W-1926-SM-7P8TH', 'GTEX-1GN2E-2226-SM-9WG6J', 'GTEX-1GPI6-0626-SM-7RHHJ', 'GTEX-1GPI7-0926-SM-7PC3J', 'GTEX-1GZ2Q-2626-SM-7MXV9', 'GTEX-1GZ4H-0326-SM-7P8QX', 'GTEX-1GZ4I-2826-SM-9MQK5', 'GTEX-1GZHY-0726-SM-9WG6B', 'GTEX-1H11D-1526-SM-9MQJY', 'GTEX-1H1CY-2226-SM-9WG7E', 'GTEX-1H1DG-0526-SM-9YFLN', 'GTEX-1H1E6-0926-SM-9YFLT', 'GTEX-1H1ZS-0126-SM-9YFKQ', 'GTEX-1H23P-0726-SM-9WG7K', 'GTEX-1H3VY-0926-SM-ACKXE', 'GTEX-1H4P4-2226-SM-9MQKQ', 'GTEX-1HBPM-0126-SM-ARL9E', 'GTEX-1HC8U-0826-SM-ADEIL', 'GTEX-1HCU7-1026-SM-ADEIP', 'GTEX-1HCU8-0126-SM-ADEHH', 'GTEX-1HCU9-0326-SM-9WYSC', 'GTEX-1HCUA-0726-SM-ACKVU', 'GTEX-1HCVE-2626-SM-ADEJ8', 'GTEX-1HFI6-2126-SM-GOQZX', 'GTEX-1HFI7-0126-SM-CGQFQ', 'GTEX-1HKZK-1826-SM-ADEJ2', 'GTEX-1HR98-0426-SM-COH36', 'GTEX-1HR9M-2426-SM-ACKXI', 'GTEX-1HSEH-2026-SM-ADEHN', 'GTEX-1HSGN-1526-SM-A9SMO', 'GTEX-1HSKV-2026-SM-CMKGX', 'GTEX-1HSMO-0826-SM-ADEIV', 'GTEX-1HT8W-2226-SM-CGQEC', 'GTEX-1HUB1-1626-SM-CM2SL', 'GTEX-1I19N-2826-SM-CL55D', 'GTEX-1I1GP-0426-SM-COH3N', 'GTEX-1I1GS-2026-SM-GNTCB', 'GTEX-1I1GT-1126-SM-ARL7J', 'GTEX-1I1GU-1026-SM-ADEHJ', 'GTEX-1I1GV-2426-SM-CGQFM', 'GTEX-1I1HK-2426-SM-ADEHX', 'GTEX-1I4MK-1626-SM-CM2TJ', 'GTEX-1I6K6-0826-SM-ARL7Z', 'GTEX-1I6K7-1026-SM-A9SLK', 'GTEX-1ICG6-1326-SM-ACKWR', 'GTEX-1ICLY-1726-SM-B2LVT', 'GTEX-1ICLZ-0426-SM-B2LW2', 'GTEX-1IDFM-0426-SM-B2LVV', 'GTEX-1IDJE-0826-SM-CKZNZ', 'GTEX-1IDJF-2326-SM-ARL86', 'GTEX-1IDJH-2226-SM-E6CJV', 'GTEX-1IDJU-1826-SM-CMKHV', 'GTEX-1IE54-0626-SM-ARL8D', 'GTEX-1IGQW-0926-SM-ADEH6', 'GTEX-1IKJJ-2326-SM-COH3U', 'GTEX-1IKOE-1326-SM-CE6T6', 'GTEX-1IKOH-2326-SM-CM2TW', 'GTEX-1IOXB-1926-SM-ARL8E', 'GTEX-1IY9M-2726-SM-CMKG5', 'GTEX-1J8EW-2626-SM-CL53E', 'GTEX-1J8Q2-2726-SM-A9G2X', 'GTEX-1J8Q3-1326-SM-CMKI1', 'GTEX-1J8QM-2026-SM-ARZMW', 'GTEX-1JJE9-2326-SM-ARL8Q', 'GTEX-1JK1U-1826-SM-ARL8W', 'GTEX-1JKYN-0726-SM-ARZMY', 'GTEX-1JKYR-0926-SM-CMKGJ', 'GTEX-1JMLX-2026-SM-CMKGN', 'GTEX-1JMOU-2026-SM-CMKGU', 'GTEX-1JMPY-0526-SM-CL54O', 'GTEX-1JMPZ-1626-SM-COH31', 'GTEX-1JMQK-2626-SM-COH2W', 'GTEX-1JN6P-2426-SM-ARL99', 'GTEX-1K2DA-1726-SM-CGQGS', 'GTEX-1K9T9-1426-SM-DIPFQ', 'GTEX-1KAFJ-0226-SM-DIPEL', 'GTEX-1KANA-2026-SM-DIPFB', 'GTEX-1KANC-1426-SM-CYPT9', 'GTEX-1KD4Q-2326-SM-D4P3M', 'GTEX-1KD5A-1926-SM-DKPQA', 'GTEX-1KWVE-2726-SM-HKZZU', 'GTEX-1KXAM-1026-SM-CY8IA', 'GTEX-1L5NE-2126-SM-CY8IH', 'GTEX-1LBAC-0926-SM-CXKY9', 'GTEX-1LC47-1226-SM-D4P44', 'GTEX-1LG7Z-0726-SM-CXKYD', 'GTEX-1LGRB-1826-SM-CNPQL', 'GTEX-1LNCM-0226-SM-DIPF4', 'GTEX-1LSNM-1326-SM-E9TJ1', 'GTEX-1LSVX-2426-SM-E6CJX', 'GTEX-1LVAM-0926-SM-E9TJ2', 'GTEX-1LVAN-1326-SM-CNPQE', 'GTEX-1LVAO-1826-SM-GMXBO', 'GTEX-1M4P7-2626-SM-E9U5F', 'GTEX-1M5QR-2526-SM-E9U5P', 'GTEX-1MA7W-1026-SM-DKPQK', 'GTEX-1MA7X-1626-SM-E9U5B', 'GTEX-1MCC2-2126-SM-EWRON', 'GTEX-1MCQQ-1626-SM-G8ON6', 'GTEX-1MCYP-0126-SM-E6CIS', 'GTEX-1MGNQ-0926-SM-GOR1F', 'GTEX-1MJK2-2226-SM-EVYCR', 'GTEX-1MJK3-1126-SM-E9J3F', 'GTEX-1N2DV-2226-SM-G8LMH', 'GTEX-1N2DW-2626-SM-GMXAW', 'GTEX-1N2EE-2126-SM-E8VNN', 'GTEX-1N2EF-2226-SM-E9J33', 'GTEX-1N5O9-1126-SM-DTXEQ', 'GTEX-1NHNU-0926-SM-E9J2T', 'GTEX-1NUQO-2226-SM-E9U68', 'GTEX-1NV8Z-2826-SM-E8VME', 'GTEX-1OFPY-1826-SM-GMXAV', 'GTEX-1OKEX-0826-SM-E9J2B', 'GTEX-1P4AB-1826-SM-E76PU', 'GTEX-1PBJJ-1426-SM-G8OMZ', 'GTEX-1PDJ9-1126-SM-EXUSW', 'GTEX-1PFEY-0326-SM-HAV3R', 'GTEX-1POEN-0926-SM-DTX88', 'GTEX-1PPGY-1526-SM-EVYBK', 'GTEX-1PPH7-0826-SM-E8VNX', 'GTEX-1QCLY-1626-SM-DTXDW', 'GTEX-1QCLZ-2326-SM-DTXDO', 'GTEX-1QEPI-0926-SM-DTXF3', 'GTEX-1QMI2-0726-SM-E9J4F', 'GTEX-1QP28-1226-SM-E9J2M', 'GTEX-1QP29-1726-SM-E8VMQ', 'GTEX-1QP2A-0726-SM-GMXCH', 'GTEX-1QP67-0526-SM-EY5Y7', 'GTEX-1QP6S-2426-SM-EY5YY', 'GTEX-1QP9N-1826-SM-E8VMP', 'GTEX-1QPFJ-2026-SM-EVYBE', 'GTEX-1QW4Y-1026-SM-DTXE2', 'GTEX-1R46S-2526-SM-E8VN2', 'GTEX-1R7EU-1226-SM-E8VMR', 'GTEX-1R7EV-1526-SM-E8VOD', 'GTEX-1R9JW-0326-SM-EAZ45', 'GTEX-1R9K4-0826-SM-EY5ZF', 'GTEX-1R9K5-0826-SM-G8ON4', 'GTEX-1R9PM-1826-SM-EVYBH', 'GTEX-1R9PN-0326-SM-DTX85', 'GTEX-1RAZQ-1226-SM-EWRNL', 'GTEX-1RAZS-1226-SM-E8VMT', 'GTEX-1RB15-1726-SM-G9EPR', 'GTEX-1RDX4-2326-SM-G8OM3', 'GTEX-1RLM8-2226-SM-EVYD1', 'GTEX-1RNTQ-0626-SM-GOR1D', 'GTEX-1RQEC-2026-SM-DTXDM', 'GTEX-1S82P-2226-SM-GNIOX', 'GTEX-1S82U-1126-SM-E9U6I', 'GTEX-1S82Z-0726-SM-E6CHX', 'GTEX-1S83E-1826-SM-GNTAS', 'GTEX-PSDG-1626-SM-48TCQ', 'GTEX-Q2AG-0326-SM-48U1O', 'GTEX-QDT8-0626-SM-48TYW', 'GTEX-QDVJ-0326-SM-GPRW9', 'GTEX-QEG5-0726-SM-D4P1T', 'GTEX-QEL4-2126-SM-447AE', 'GTEX-QMRM-1626-SM-D4P1U', 'GTEX-QVJO-1826-SM-447C9', 'GTEX-QXCU-0526-SM-GNTAG', 'GTEX-R3RS-0626-SM-48FE1', 'GTEX-R53T-1526-SM-48FEK', 'GTEX-R55D-0826-SM-48FEA', 'GTEX-R55F-1726-SM-2TF4R', 'GTEX-REY6-2426-SM-48FF5', 'GTEX-RNOR-0626-SM-GMXC7', 'GTEX-RU1J-0626-SM-4WAWY', 'GTEX-RU72-0626-SM-46MUI', 'GTEX-RUSQ-2026-SM-4GIAK', 'GTEX-RVPV-1626-SM-GMXAK', 'GTEX-RWS6-1926-SM-47JXY', 'GTEX-RWSA-1026-SM-F21IJ', 'GTEX-S32W-2026-SM-4AD6E', 'GTEX-S33H-0326-SM-4AD6N', 'GTEX-S341-1526-SM-4AD6K', 'GTEX-S4P3-1326-SM-4AD6V', 'GTEX-S4Q7-1126-SM-4AD6R', 'GTEX-S4UY-0726-SM-4AD6X', 'GTEX-S7SE-0826-SM-4AT4D', 'GTEX-SE5C-2126-SM-4BRUJ', 'GTEX-SIU8-0726-SM-GOQY9', 'GTEX-SJXC-0626-SM-GPI88', 'GTEX-SNMC-0726-SM-GNTAJ', 'GTEX-T2IS-1526-SM-32QPR', 'GTEX-T5JC-2126-SM-32PMO', 'GTEX-T5JW-2026-SM-4DM63', 'GTEX-T6MN-0726-SM-32PML', 'GTEX-T6MO-0326-SM-32QOK', 'GTEX-TKQ1-0226-SM-33HB5', 'GTEX-TKQ2-1826-SM-33HB2', 'GTEX-TML8-1226-SM-32QON', 'GTEX-TMMY-0726-SM-33HBE', 'GTEX-TSE9-1426-SM-GOQZP', 'GTEX-U3ZH-1426-SM-4DXSR', 'GTEX-U3ZN-1926-SM-4DXSG', 'GTEX-U412-1826-SM-4DXTJ', 'GTEX-U4B1-1326-SM-GQ1CF', 'GTEX-U8XE-0826-SM-4E3J1', 'GTEX-UPK5-2326-SM-3P5Z8', 'GTEX-UTHO-1026-SM-3GAF7', 'GTEX-V955-2026-SM-3GAFA', 'GTEX-VJWN-0726-SM-3GIJ8', 'GTEX-VUSG-2226-SM-4KKZO', 'GTEX-W5X1-2326-SM-3GIL6', 'GTEX-WFG7-2126-SM-F33YT', 'GTEX-WFG8-2026-SM-EXOHO', 'GTEX-WFJO-1426-SM-EY5XA', 'GTEX-WFON-1826-SM-3GILG', 'GTEX-WHSB-1926-SM-EXOHH', 'GTEX-WHSE-1226-SM-F21KR', 'GTEX-WI4N-1426-SM-3LK7H', 'GTEX-WOFL-0826-SM-3MJG1', 'GTEX-WRHU-0326-SM-3MJFY', 'GTEX-WWYW-0726-SM-GRR17', 'GTEX-WXYG-2226-SM-4E3IM', 'GTEX-WY7C-2726-SM-3NB3P', 'GTEX-WYBS-0926-SM-3NM94', 'GTEX-WYJK-1326-SM-3NB2T', 'GTEX-WYVS-1726-SM-3NMAY', 'GTEX-X15G-1626-SM-3NMB3', 'GTEX-X261-0626-SM-3NMD9', 'GTEX-X4EP-2926-SM-3P5YQ', 'GTEX-X4XY-0926-SM-4E3JD', 'GTEX-X62O-0526-SM-EWRMA', 'GTEX-XBED-1626-SM-47JYN', 'GTEX-XGQ4-0926-SM-4AT4U', 'GTEX-XK95-1526-SM-EY5XF', 'GTEX-XLM4-1126-SM-GMXAN', 'GTEX-XMD1-0826-SM-4AT52', 'GTEX-XMD2-0926-SM-4WWEF', 'GTEX-XMD3-0526-SM-GQ1CQ', 'GTEX-XMK1-1126-SM-4IHJ8', 'GTEX-XOT4-0726-SM-4GIAW', 'GTEX-XPT6-1426-SM-GOQYM', 'GTEX-XQ3S-1326-SM-4BOPQ', 'GTEX-XQ8I-2426-SM-4WAXY', 'GTEX-XUW1-2326-SM-4BOO5', 'GTEX-XUZC-1626-SM-4BRVP', 'GTEX-XV7Q-2326-SM-4BRVZ', 'GTEX-XXEK-1526-SM-GPRWX', 'GTEX-XYKS-1326-SM-4BRUN', 'GTEX-Y111-2026-SM-4SOJA', 'GTEX-Y114-2026-SM-4TT7L', 'GTEX-Y3I4-1526-SM-4TT7K', 'GTEX-Y3IK-2326-SM-4WWDT', 'GTEX-Y5LM-1726-SM-4VDSX', 'GTEX-Y5V5-2126-SM-4WWFO', 'GTEX-Y5V6-2126-SM-4WWFX', 'GTEX-Y8E4-1626-SM-5S2MW', 'GTEX-Y8LW-1626-SM-5IFHX', 'GTEX-Y9LG-1426-SM-5IFJZ', 'GTEX-YB5E-1726-SM-5IFJ3', 'GTEX-YB5K-1626-SM-5IFIN', 'GTEX-YEC3-1026-SM-5IFI5', 'GTEX-YECK-0726-SM-EZ6LV', 'GTEX-YFC4-1426-SM-5IFJG', 'GTEX-YFCO-1826-SM-4W1YH', 'GTEX-YJ89-2326-SM-GNIO8', 'GTEX-YJ8O-2226-SM-5IFHW', 'GTEX-Z9EW-1526-SM-EZ6LU', 'GTEX-ZA64-1526-SM-5CVMD', 'GTEX-ZAB4-2526-SM-5HL8M', 'GTEX-ZAJG-0626-SM-5HL8X', 'GTEX-ZAK1-1326-SM-EVYAS', 'GTEX-ZC5H-2626-SM-5J2MG', 'GTEX-ZDTT-2126-SM-DKPOM', 'GTEX-ZDXO-0126-SM-5S2ND', 'GTEX-ZDYS-1126-SM-5K7UB', 'GTEX-ZEX8-2226-SM-57WC6', 'GTEX-ZF28-0626-SM-GQ1D3', 'GTEX-ZF29-1926-SM-5S2P1', 'GTEX-ZF2S-2026-SM-5E461', 'GTEX-ZF3C-2326-SM-5S2NC', 'GTEX-ZGAY-1726-SM-DO91P', 'GTEX-ZLFU-2126-SM-DO931', 'GTEX-ZLV1-1426-SM-DO92Z', 'GTEX-ZLWG-1926-SM-DO92J', 'GTEX-ZPCL-1926-SM-GMXB1', 'GTEX-ZPIC-1126-SM-5BC7F', 'GTEX-ZQG8-0726-SM-5P9H9', 'GTEX-ZQUD-1926-SM-51MSA', 'GTEX-ZT9W-2026-SM-51MRA', 'GTEX-ZTTD-1026-SM-51MRD', 'GTEX-ZTX8-1226-SM-4YCE9', 'GTEX-ZU9S-1926-SM-5NQBP', 'GTEX-ZUA1-1526-SM-59HLS', 'GTEX-ZV6S-1826-SM-5NQ8D', 'GTEX-ZV7C-1826-SM-5NQ83', 'GTEX-ZVE2-1226-SM-5NQ8R', 'GTEX-ZVT2-1826-SM-5NQ8W', 'GTEX-ZVT4-1026-SM-57WC4', 'GTEX-ZVTK-0326-SM-51MRR', 'GTEX-ZVZQ-0826-SM-51MRF', 'GTEX-ZWKS-2826-SM-5NQ74', 'GTEX-ZXES-0826-SM-5E43C', 'GTEX-ZY6K-1626-SM-5GZWV', 'GTEX-ZYFC-0826-SM-5E44K', 'GTEX-ZYT6-0126-SM-5E45J', 'GTEX-ZYW4-0826-SM-5GIDG', 'GTEX-ZYY3-2526-SM-GMXAZ', 'GTEX-ZZ64-1226-SM-5E43R', 'GTEX-ZZPU-0626-SM-5E43T']}\n"
     ]
    }
   ],
   "source": [
    "#lll 42 Minuten\n",
    "#lbl \n",
    "data=dysregnet.run(expression_data = exp_breast, \n",
    "                   GRN= \"lung\",\n",
    "                   meta = meta_breast,\n",
    "                   direction_condition=False,\n",
    "                   normaltest=True,\n",
    "                   #CatCov = CatCov,\n",
    "                   #ConCov = [conCol],\n",
    "                   R2_threshold=.2)"
   ]
  },
  {
   "cell_type": "code",
   "execution_count": null,
   "metadata": {},
   "outputs": [
    {
     "data": {
      "text/html": [
       "<div>\n",
       "<style scoped>\n",
       "    .dataframe tbody tr th:only-of-type {\n",
       "        vertical-align: middle;\n",
       "    }\n",
       "\n",
       "    .dataframe tbody tr th {\n",
       "        vertical-align: top;\n",
       "    }\n",
       "\n",
       "    .dataframe thead th {\n",
       "        text-align: right;\n",
       "    }\n",
       "</style>\n",
       "<table border=\"1\" class=\"dataframe\">\n",
       "  <thead>\n",
       "    <tr style=\"text-align: right;\">\n",
       "      <th></th>\n",
       "    </tr>\n",
       "    <tr>\n",
       "      <th>patient id</th>\n",
       "    </tr>\n",
       "  </thead>\n",
       "  <tbody>\n",
       "    <tr>\n",
       "      <th>GTEX-111CU-0326-SM-5GZXO</th>\n",
       "    </tr>\n",
       "    <tr>\n",
       "      <th>GTEX-111FC-1126-SM-5GZWU</th>\n",
       "    </tr>\n",
       "  </tbody>\n",
       "</table>\n",
       "</div>"
      ],
      "text/plain": [
       "Empty DataFrame\n",
       "Columns: []\n",
       "Index: [GTEX-111CU-0326-SM-5GZXO, GTEX-111FC-1126-SM-5GZWU]"
      ]
     },
     "execution_count": 43,
     "metadata": {},
     "output_type": "execute_result"
    }
   ],
   "source": [
    "data.get_results().head(2)"
   ]
  },
  {
   "cell_type": "code",
   "execution_count": null,
   "metadata": {},
   "outputs": [],
   "source": [
    "# Load the pickle file\n",
    "with open(\"pickle_models/AHR_FOS.pkl\", \"rb\") as file:\n",
    "    loaded_model = pickle.load(file)"
   ]
  },
  {
   "cell_type": "code",
   "execution_count": null,
   "metadata": {},
   "outputs": [
    {
     "name": "stdout",
     "output_type": "stream",
     "text": [
      "Attributes and methods of the loaded object:\n",
      "['HC0_se', 'HC1_se', 'HC2_se', 'HC3_se', '_HCCM', '__class__', '__delattr__', '__dict__', '__dir__', '__doc__', '__eq__', '__format__', '__ge__', '__getattribute__', '__getstate__', '__gt__', '__hash__', '__init__', '__init_subclass__', '__le__', '__lt__', '__module__', '__ne__', '__new__', '__reduce__', '__reduce_ex__', '__repr__', '__setattr__', '__sizeof__', '__str__', '__subclasshook__', '__weakref__', '_abat_diagonal', '_cache', '_data_attr', '_data_in_cache', '_get_robustcov_results', '_get_wald_nonlinear', '_is_nested', '_transform_predict_exog', '_use_t', '_wexog_singular_values', 'aic', 'bic', 'bse', 'centered_tss', 'compare_f_test', 'compare_lm_test', 'compare_lr_test', 'condition_number', 'conf_int', 'conf_int_el', 'cov_HC0', 'cov_HC1', 'cov_HC2', 'cov_HC3', 'cov_kwds', 'cov_params', 'cov_type', 'df_model', 'df_resid', 'eigenvals', 'el_test', 'ess', 'f_pvalue', 'f_test', 'fittedvalues', 'fvalue', 'get_influence', 'get_prediction', 'get_robustcov_results', 'info_criteria', 'initialize', 'k_constant', 'llf', 'load', 'model', 'mse_model', 'mse_resid', 'mse_total', 'nobs', 'normalized_cov_params', 'outlier_test', 'params', 'predict', 'pvalues', 'remove_data', 'resid', 'resid_pearson', 'rsquared', 'rsquared_adj', 'save', 'scale', 'ssr', 'summary', 'summary2', 't_test', 't_test_pairwise', 'tvalues', 'uncentered_tss', 'use_t', 'wald_test', 'wald_test_terms', 'wresid']\n"
     ]
    }
   ],
   "source": [
    "print(\"Attributes and methods of the loaded object:\")\n",
    "print(dir(loaded_model))"
   ]
  },
  {
   "cell_type": "code",
   "execution_count": null,
   "metadata": {},
   "outputs": [
    {
     "name": "stdout",
     "output_type": "stream",
     "text": [
      "Variables and their values in the loaded object:\n",
      "{'_results': <statsmodels.regression.linear_model.OLSResults object at 0x16aaa2fd0>, '__doc__': \"\\n    Results class for for an OLS model.\\n\\n    Parameters\\n    ----------\\n    model : RegressionModel\\n        The regression model instance.\\n    params : ndarray\\n        The estimated parameters.\\n    normalized_cov_params : ndarray\\n        The normalized covariance parameters.\\n    scale : float\\n        The estimated scale of the residuals.\\n    cov_type : str\\n        The covariance estimator used in the results.\\n    cov_kwds : dict\\n        Additional keywords used in the covariance specification.\\n    use_t : bool\\n        Flag indicating to use the Student's t in inference.\\n    **kwargs\\n        Additional keyword arguments used to initialize the results.\\n\\n    See Also\\n    --------\\n    RegressionResults\\n        Results store for WLS and GLW models.\\n\\n    Notes\\n    -----\\n    Most of the methods and attributes are inherited from RegressionResults.\\n    The special methods that are only available for OLS are:\\n\\n    - get_influence\\n    - outlier_test\\n    - el_test\\n    - conf_int_el\\n    \"}\n"
     ]
    }
   ],
   "source": [
    "print(\"Variables and their values in the loaded object:\")\n",
    "print(vars(loaded_model))"
   ]
  },
  {
   "cell_type": "code",
   "execution_count": null,
   "metadata": {},
   "outputs": [
    {
     "name": "stdout",
     "output_type": "stream",
     "text": [
      "const          0.000360\n",
      "AHR            0.323355\n",
      "gender_MALE   -0.000850\n",
      "dtype: float64\n",
      "                            OLS Regression Results                            \n",
      "==============================================================================\n",
      "Dep. Variable:                      y   R-squared:                       0.105\n",
      "Model:                            OLS   Adj. R-squared:                  0.073\n",
      "Method:                 Least Squares   F-statistic:                     3.268\n",
      "Date:                Tue, 28 Jan 2025   Prob (F-statistic):             0.0454\n",
      "Time:                        17:28:36   Log-Likelihood:                -80.461\n",
      "No. Observations:                  59   AIC:                             166.9\n",
      "Df Residuals:                      56   BIC:                             173.2\n",
      "Df Model:                           2                                         \n",
      "Covariance Type:            nonrobust                                         \n",
      "===============================================================================\n",
      "                  coef    std err          t      P>|t|      [0.025      0.975]\n",
      "-------------------------------------------------------------------------------\n",
      "const           0.0004      0.167      0.002      0.998      -0.335       0.335\n",
      "AHR             0.3234      0.128      2.536      0.014       0.068       0.579\n",
      "gender_MALE    -0.0009      0.258     -0.003      0.997      -0.518       0.516\n",
      "==============================================================================\n",
      "Omnibus:                        0.815   Durbin-Watson:                   2.303\n",
      "Prob(Omnibus):                  0.665   Jarque-Bera (JB):                0.891\n",
      "Skew:                          -0.253   Prob(JB):                        0.640\n",
      "Kurtosis:                       2.674   Cond. No.                         2.51\n",
      "==============================================================================\n",
      "\n",
      "Notes:\n",
      "[1] Standard Errors assume that the covariance matrix of the errors is correctly specified.\n"
     ]
    }
   ],
   "source": [
    "print(loaded_model.params)  # Coefficients\n",
    "print(loaded_model.summary())  # Full model summary"
   ]
  },
  {
   "cell_type": "code",
   "execution_count": null,
   "metadata": {},
   "outputs": [],
   "source": [
    "# get the patient-specific dysregulate networks\n",
    "# results = data.get_results()\n",
    "\n",
    "# or with binary edges\n",
    "results = data.get_results_binary()\n",
    "\n",
    "# get R2 values, coefficients, and coefficient p-values for all models/edges\n",
    "# data.get_model_stats()"
   ]
  },
  {
   "cell_type": "code",
   "execution_count": null,
   "metadata": {},
   "outputs": [
    {
     "ename": "ValueError",
     "evalue": "attempt to get argmax of an empty sequence",
     "output_type": "error",
     "traceback": [
      "\u001b[0;31m---------------------------------------------------------------------------\u001b[0m",
      "\u001b[0;31mValueError\u001b[0m                                Traceback (most recent call last)",
      "\u001b[1;32m/Users/b.madran/Public/DysRegNet_package/run_dysregnet.ipynb Cell 30\u001b[0m line \u001b[0;36m2\n\u001b[1;32m      <a href='vscode-notebook-cell:/Users/b.madran/Public/DysRegNet_package/run_dysregnet.ipynb#X41sZmlsZQ%3D%3D?line=0'>1</a>\u001b[0m edge_counts \u001b[39m=\u001b[39m results\u001b[39m.\u001b[39msum()\n\u001b[0;32m----> <a href='vscode-notebook-cell:/Users/b.madran/Public/DysRegNet_package/run_dysregnet.ipynb#X41sZmlsZQ%3D%3D?line=1'>2</a>\u001b[0m most_frequent_edge \u001b[39m=\u001b[39m edge_counts\u001b[39m.\u001b[39;49midxmax()\n\u001b[1;32m      <a href='vscode-notebook-cell:/Users/b.madran/Public/DysRegNet_package/run_dysregnet.ipynb#X41sZmlsZQ%3D%3D?line=2'>3</a>\u001b[0m max_count \u001b[39m=\u001b[39m edge_counts\u001b[39m.\u001b[39mmax()\n\u001b[1;32m      <a href='vscode-notebook-cell:/Users/b.madran/Public/DysRegNet_package/run_dysregnet.ipynb#X41sZmlsZQ%3D%3D?line=4'>5</a>\u001b[0m \u001b[39mprint\u001b[39m (\u001b[39mf\u001b[39m\u001b[39m\"\u001b[39m\u001b[39mThe most frequent edge is \u001b[39m\u001b[39m{\u001b[39;00mmost_frequent_edge\u001b[39m}\u001b[39;00m\u001b[39m with \u001b[39m\u001b[39m{\u001b[39;00mmax_count\u001b[39m}\u001b[39;00m\u001b[39m occurrences.\u001b[39m\u001b[39m\"\u001b[39m)\n",
      "File \u001b[0;32m~/miniconda3/envs/sysbiomed_project/lib/python3.11/site-packages/pandas/core/series.py:2761\u001b[0m, in \u001b[0;36mSeries.idxmax\u001b[0;34m(self, axis, skipna, *args, **kwargs)\u001b[0m\n\u001b[1;32m   2756\u001b[0m \u001b[39mwith\u001b[39;00m warnings\u001b[39m.\u001b[39mcatch_warnings():\n\u001b[1;32m   2757\u001b[0m     \u001b[39m# TODO(3.0): this catching/filtering can be removed\u001b[39;00m\n\u001b[1;32m   2758\u001b[0m     \u001b[39m# ignore warning produced by argmax since we will issue a different\u001b[39;00m\n\u001b[1;32m   2759\u001b[0m     \u001b[39m#  warning for argmax\u001b[39;00m\n\u001b[1;32m   2760\u001b[0m     warnings\u001b[39m.\u001b[39msimplefilter(\u001b[39m\"\u001b[39m\u001b[39mignore\u001b[39m\u001b[39m\"\u001b[39m)\n\u001b[0;32m-> 2761\u001b[0m     i \u001b[39m=\u001b[39m \u001b[39mself\u001b[39;49m\u001b[39m.\u001b[39;49margmax(axis, skipna, \u001b[39m*\u001b[39;49margs, \u001b[39m*\u001b[39;49m\u001b[39m*\u001b[39;49mkwargs)\n\u001b[1;32m   2763\u001b[0m \u001b[39mif\u001b[39;00m i \u001b[39m==\u001b[39m \u001b[39m-\u001b[39m\u001b[39m1\u001b[39m:\n\u001b[1;32m   2764\u001b[0m     \u001b[39m# GH#43587 give correct NA value for Index.\u001b[39;00m\n\u001b[1;32m   2765\u001b[0m     warnings\u001b[39m.\u001b[39mwarn(\n\u001b[1;32m   2766\u001b[0m         \u001b[39mf\u001b[39m\u001b[39m\"\u001b[39m\u001b[39mThe behavior of \u001b[39m\u001b[39m{\u001b[39;00m\u001b[39mtype\u001b[39m(\u001b[39mself\u001b[39m)\u001b[39m.\u001b[39m\u001b[39m__name__\u001b[39m\u001b[39m}\u001b[39;00m\u001b[39m.idxmax with all-NA \u001b[39m\u001b[39m\"\u001b[39m\n\u001b[1;32m   2767\u001b[0m         \u001b[39m\"\u001b[39m\u001b[39mvalues, or any-NA and skipna=False, is deprecated. In a future \u001b[39m\u001b[39m\"\u001b[39m\n\u001b[0;32m   (...)\u001b[0m\n\u001b[1;32m   2770\u001b[0m         stacklevel\u001b[39m=\u001b[39mfind_stack_level(),\n\u001b[1;32m   2771\u001b[0m     )\n",
      "File \u001b[0;32m~/miniconda3/envs/sysbiomed_project/lib/python3.11/site-packages/pandas/core/base.py:751\u001b[0m, in \u001b[0;36mIndexOpsMixin.argmax\u001b[0;34m(self, axis, skipna, *args, **kwargs)\u001b[0m\n\u001b[1;32m    749\u001b[0m         \u001b[39mreturn\u001b[39;00m delegate\u001b[39m.\u001b[39margmax()\n\u001b[1;32m    750\u001b[0m \u001b[39melse\u001b[39;00m:\n\u001b[0;32m--> 751\u001b[0m     result \u001b[39m=\u001b[39m nanops\u001b[39m.\u001b[39;49mnanargmax(delegate, skipna\u001b[39m=\u001b[39;49mskipna)\n\u001b[1;32m    752\u001b[0m     \u001b[39mif\u001b[39;00m result \u001b[39m==\u001b[39m \u001b[39m-\u001b[39m\u001b[39m1\u001b[39m:\n\u001b[1;32m    753\u001b[0m         warnings\u001b[39m.\u001b[39mwarn(\n\u001b[1;32m    754\u001b[0m             \u001b[39mf\u001b[39m\u001b[39m\"\u001b[39m\u001b[39mThe behavior of \u001b[39m\u001b[39m{\u001b[39;00m\u001b[39mtype\u001b[39m(\u001b[39mself\u001b[39m)\u001b[39m.\u001b[39m\u001b[39m__name__\u001b[39m\u001b[39m}\u001b[39;00m\u001b[39m.argmax/argmin \u001b[39m\u001b[39m\"\u001b[39m\n\u001b[1;32m    755\u001b[0m             \u001b[39m\"\u001b[39m\u001b[39mwith skipna=False and NAs, or with all-NAs is deprecated. \u001b[39m\u001b[39m\"\u001b[39m\n\u001b[0;32m   (...)\u001b[0m\n\u001b[1;32m    758\u001b[0m             stacklevel\u001b[39m=\u001b[39mfind_stack_level(),\n\u001b[1;32m    759\u001b[0m         )\n",
      "File \u001b[0;32m~/miniconda3/envs/sysbiomed_project/lib/python3.11/site-packages/pandas/core/nanops.py:1148\u001b[0m, in \u001b[0;36mnanargmax\u001b[0;34m(values, axis, skipna, mask)\u001b[0m\n\u001b[1;32m   1116\u001b[0m \u001b[39m\u001b[39m\u001b[39m\"\"\"\u001b[39;00m\n\u001b[1;32m   1117\u001b[0m \u001b[39mParameters\u001b[39;00m\n\u001b[1;32m   1118\u001b[0m \u001b[39m----------\u001b[39;00m\n\u001b[0;32m   (...)\u001b[0m\n\u001b[1;32m   1145\u001b[0m \u001b[39marray([2, 2, 1, 1])\u001b[39;00m\n\u001b[1;32m   1146\u001b[0m \u001b[39m\"\"\"\u001b[39;00m\n\u001b[1;32m   1147\u001b[0m values, mask \u001b[39m=\u001b[39m _get_values(values, \u001b[39mTrue\u001b[39;00m, fill_value_typ\u001b[39m=\u001b[39m\u001b[39m\"\u001b[39m\u001b[39m-inf\u001b[39m\u001b[39m\"\u001b[39m, mask\u001b[39m=\u001b[39mmask)\n\u001b[0;32m-> 1148\u001b[0m result \u001b[39m=\u001b[39m values\u001b[39m.\u001b[39;49margmax(axis)\n\u001b[1;32m   1149\u001b[0m \u001b[39m# error: Argument 1 to \"_maybe_arg_null_out\" has incompatible type \"Any |\u001b[39;00m\n\u001b[1;32m   1150\u001b[0m \u001b[39m# signedinteger[Any]\"; expected \"ndarray[Any, Any]\"\u001b[39;00m\n\u001b[1;32m   1151\u001b[0m result \u001b[39m=\u001b[39m _maybe_arg_null_out(result, axis, mask, skipna)  \u001b[39m# type: ignore[arg-type]\u001b[39;00m\n",
      "\u001b[0;31mValueError\u001b[0m: attempt to get argmax of an empty sequence"
     ]
    }
   ],
   "source": [
    "edge_counts = results.sum()\n",
    "most_frequent_edge = edge_counts.idxmax()\n",
    "max_count = edge_counts.max()\n",
    "\n",
    "print (f\"The most frequent edge is {most_frequent_edge} with {max_count} occurrences.\")"
   ]
  }
 ],
 "metadata": {
  "kernelspec": {
   "display_name": "sysbiomed_project",
   "language": "python",
   "name": "python3"
  },
  "language_info": {
   "codemirror_mode": {
    "name": "ipython",
    "version": 3
   },
   "file_extension": ".py",
   "mimetype": "text/x-python",
   "name": "python",
   "nbconvert_exporter": "python",
   "pygments_lexer": "ipython3",
   "version": "3.11.11"
  }
 },
 "nbformat": 4,
 "nbformat_minor": 2
}
