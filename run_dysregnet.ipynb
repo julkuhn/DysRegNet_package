{
 "cells": [
  {
   "cell_type": "code",
   "execution_count": 23,
   "metadata": {},
   "outputs": [],
   "source": [
    "from src.dysregnet import dysregnet\n",
    "import pandas as pd\n",
    "import pickle\n",
    "import numpy as np\n"
   ]
  },
  {
   "cell_type": "markdown",
   "metadata": {},
   "source": [
    "Get data"
   ]
  },
  {
   "cell_type": "code",
   "execution_count": 24,
   "metadata": {},
   "outputs": [
    {
     "data": {
      "text/plain": [
       "'\\ngrn_breast = pd.read_csv(\"/Users/juliakuhn/Desktop/uni/WS2425/Systems_BioMedicine/Project_Phase/dysregnet_gtex/GENIE3_output/linkedList_output_slurm_ gene_tpm_v10_breast_mammary_tissu_filtered .csv\")\\ngrn_lung = pd.read_csv(\"/Users/juliakuhn/Desktop/uni/WS2425/Systems_BioMedicine/Project_Phase/dysregnet_gtex/GENIE3_output/linkedList_output_slurm_ gene_tpm_v10_lung_filtered .csv\")\\n\\nexp_lung = pd.read_csv(\"/Users/juliakuhn/Desktop/uni/WS2425/Systems_BioMedicine/Project_Phase/dysregnet_gtex/gtex/gene_tpm_v10_lung_filtered.csv\")\\nexp_breast = pd.read_csv(\"/Users/juliakuhn/Desktop/uni/WS2425/Systems_BioMedicine/Project_Phase/dysregnet_gtex/gtex/gene_tpm_v10_breast_mammary_tissu_filtered.csv\")\\n'"
      ]
     },
     "execution_count": 24,
     "metadata": {},
     "output_type": "execute_result"
    }
   ],
   "source": [
    "\"\"\"\n",
    "grn_breast = pd.read_csv(\"/Users/juliakuhn/Desktop/uni/WS2425/Systems_BioMedicine/Project_Phase/dysregnet_gtex/GENIE3_output/linkedList_output_slurm_ gene_tpm_v10_breast_mammary_tissu_filtered .csv\")\n",
    "grn_lung = pd.read_csv(\"/Users/juliakuhn/Desktop/uni/WS2425/Systems_BioMedicine/Project_Phase/dysregnet_gtex/GENIE3_output/linkedList_output_slurm_ gene_tpm_v10_lung_filtered .csv\")\n",
    "\n",
    "exp_lung = pd.read_csv(\"/Users/juliakuhn/Desktop/uni/WS2425/Systems_BioMedicine/Project_Phase/dysregnet_gtex/gtex/gene_tpm_v10_lung_filtered.csv\")\n",
    "exp_breast = pd.read_csv(\"/Users/juliakuhn/Desktop/uni/WS2425/Systems_BioMedicine/Project_Phase/dysregnet_gtex/gtex/gene_tpm_v10_breast_mammary_tissu_filtered.csv\")\n",
    "\"\"\""
   ]
  },
  {
   "cell_type": "code",
   "execution_count": 25,
   "metadata": {},
   "outputs": [
    {
     "data": {
      "text/plain": [
       "'\\ngrn_exercise = pd.read_csv(\"/Users/juliakuhn/Desktop/uni/WS2425/Systems_BioMedicine/Project_Phase/exercise_data/regulatory_network.csv\")\\nexp_exerise = pd.read_csv(\"/Users/juliakuhn/Desktop/uni/WS2425/Systems_BioMedicine/Project_Phase/exercise_data/LUAD_expression.csv\")\\nmeta_exercise = pd.read_csv(\"/Users/juliakuhn/Desktop/uni/WS2425/Systems_BioMedicine/Project_Phase/exercise_data/LUAD_meta.csv\")\\n'"
      ]
     },
     "execution_count": 25,
     "metadata": {},
     "output_type": "execute_result"
    }
   ],
   "source": [
    "\"\"\"\n",
    "grn_exercise = pd.read_csv(\"/Users/juliakuhn/Desktop/uni/WS2425/Systems_BioMedicine/Project_Phase/exercise_data/regulatory_network.csv\")\n",
    "exp_exerise = pd.read_csv(\"/Users/juliakuhn/Desktop/uni/WS2425/Systems_BioMedicine/Project_Phase/exercise_data/LUAD_expression.csv\")\n",
    "meta_exercise = pd.read_csv(\"/Users/juliakuhn/Desktop/uni/WS2425/Systems_BioMedicine/Project_Phase/exercise_data/LUAD_meta.csv\")\n",
    "\"\"\""
   ]
  },
  {
   "cell_type": "code",
   "execution_count": 26,
   "metadata": {},
   "outputs": [],
   "source": [
    "import os \n",
    "current_dir = os.getcwd()\n",
    "\n",
    "grn_breast = pd.read_csv(current_dir + \"/GENIE3_output/linkedList_output_slurm_gene_tpm_v10_breast_mammary_tissu_filtered.csv\")\n",
    "grn_lung = pd.read_csv(current_dir + \"/GENIE3_output/linkedList_output_slurm_gene_tpm_v10_lung_filtered.csv\")\n",
    "\n",
    "exp_lung = pd.read_csv(current_dir + \"/gtex/gene_tpm_v10_lung_filtered.csv\")\n",
    "exp_breast = pd.read_csv(current_dir + \"/gtex/gene_tpm_v10_breast_mammary_tissu_filtered.csv\")\n",
    "\n",
    "grn_exercise = pd.read_csv(current_dir + \"/exercise_data/regulatory_network.csv\")\n",
    "exp_exercise = pd.read_csv(current_dir + \"/exercise_data/LUAD_expression.csv\")\n",
    "meta_exercise = pd.read_csv(current_dir + \"/exercise_data/LUAD_meta.csv\")\n"
   ]
  },
  {
   "cell_type": "code",
   "execution_count": 27,
   "metadata": {},
   "outputs": [
    {
     "data": {
      "text/plain": [
       "\"meta_lung = pd.DataFrame({\\n    'sample': exp_lung.columns[1:],\\n    'condition': np.random.choice([0, 1], size=len(exp_lung.columns[1:])),\\n    'gender' : 'FEMALE'\\n})\\nmeta_lung\""
      ]
     },
     "execution_count": 27,
     "metadata": {},
     "output_type": "execute_result"
    }
   ],
   "source": [
    "\"\"\"meta_lung = pd.DataFrame({\n",
    "    'sample': exp_lung.columns[1:],\n",
    "    'condition': np.random.choice([0, 1], size=len(exp_lung.columns[1:])),\n",
    "    'gender' : 'FEMALE'\n",
    "})\n",
    "meta_lung\"\"\""
   ]
  },
  {
   "cell_type": "code",
   "execution_count": 28,
   "metadata": {},
   "outputs": [
    {
     "data": {
      "text/html": [
       "<div>\n",
       "<style scoped>\n",
       "    .dataframe tbody tr th:only-of-type {\n",
       "        vertical-align: middle;\n",
       "    }\n",
       "\n",
       "    .dataframe tbody tr th {\n",
       "        vertical-align: top;\n",
       "    }\n",
       "\n",
       "    .dataframe thead th {\n",
       "        text-align: right;\n",
       "    }\n",
       "</style>\n",
       "<table border=\"1\" class=\"dataframe\">\n",
       "  <thead>\n",
       "    <tr style=\"text-align: right;\">\n",
       "      <th></th>\n",
       "      <th>regulatoryGene</th>\n",
       "      <th>targetGene</th>\n",
       "      <th>weight</th>\n",
       "    </tr>\n",
       "  </thead>\n",
       "  <tbody>\n",
       "    <tr>\n",
       "      <th>0</th>\n",
       "      <td>PAX8</td>\n",
       "      <td>PAX8-AS1</td>\n",
       "      <td>0.149235</td>\n",
       "    </tr>\n",
       "    <tr>\n",
       "      <th>1</th>\n",
       "      <td>ZFY</td>\n",
       "      <td>EIF1AY</td>\n",
       "      <td>0.101827</td>\n",
       "    </tr>\n",
       "  </tbody>\n",
       "</table>\n",
       "</div>"
      ],
      "text/plain": [
       "  regulatoryGene targetGene    weight\n",
       "0           PAX8   PAX8-AS1  0.149235\n",
       "1            ZFY     EIF1AY  0.101827"
      ]
     },
     "execution_count": 28,
     "metadata": {},
     "output_type": "execute_result"
    }
   ],
   "source": [
    "grn_breast.head(2)"
   ]
  },
  {
   "cell_type": "code",
   "execution_count": 29,
   "metadata": {},
   "outputs": [
    {
     "data": {
      "text/html": [
       "<div>\n",
       "<style scoped>\n",
       "    .dataframe tbody tr th:only-of-type {\n",
       "        vertical-align: middle;\n",
       "    }\n",
       "\n",
       "    .dataframe tbody tr th {\n",
       "        vertical-align: top;\n",
       "    }\n",
       "\n",
       "    .dataframe thead th {\n",
       "        text-align: right;\n",
       "    }\n",
       "</style>\n",
       "<table border=\"1\" class=\"dataframe\">\n",
       "  <thead>\n",
       "    <tr style=\"text-align: right;\">\n",
       "      <th></th>\n",
       "      <th>sample</th>\n",
       "      <th>condition</th>\n",
       "      <th>gender</th>\n",
       "    </tr>\n",
       "  </thead>\n",
       "  <tbody>\n",
       "    <tr>\n",
       "      <th>0</th>\n",
       "      <td>GTEX-1117F-2826-SM-5GZXL</td>\n",
       "      <td>1</td>\n",
       "      <td>FEMALE</td>\n",
       "    </tr>\n",
       "    <tr>\n",
       "      <th>1</th>\n",
       "      <td>GTEX-111YS-1926-SM-5GICC</td>\n",
       "      <td>1</td>\n",
       "      <td>FEMALE</td>\n",
       "    </tr>\n",
       "  </tbody>\n",
       "</table>\n",
       "</div>"
      ],
      "text/plain": [
       "                     sample  condition  gender\n",
       "0  GTEX-1117F-2826-SM-5GZXL          1  FEMALE\n",
       "1  GTEX-111YS-1926-SM-5GICC          1  FEMALE"
      ]
     },
     "execution_count": 29,
     "metadata": {},
     "output_type": "execute_result"
    }
   ],
   "source": [
    "grn_breast\n",
    "meta_breast = pd.DataFrame({\n",
    "    'sample': exp_breast.columns[1:],\n",
    "    'condition': np.random.choice([0, 1], size=len(exp_breast.columns[1:])),\n",
    "    'gender' : 'FEMALE'\n",
    "})\n",
    "meta_breast.head(2)"
   ]
  },
  {
   "cell_type": "code",
   "execution_count": 30,
   "metadata": {},
   "outputs": [
    {
     "data": {
      "text/html": [
       "<div>\n",
       "<style scoped>\n",
       "    .dataframe tbody tr th:only-of-type {\n",
       "        vertical-align: middle;\n",
       "    }\n",
       "\n",
       "    .dataframe tbody tr th {\n",
       "        vertical-align: top;\n",
       "    }\n",
       "\n",
       "    .dataframe thead th {\n",
       "        text-align: right;\n",
       "    }\n",
       "</style>\n",
       "<table border=\"1\" class=\"dataframe\">\n",
       "  <thead>\n",
       "    <tr style=\"text-align: right;\">\n",
       "      <th></th>\n",
       "      <th>sample</th>\n",
       "      <th>condition</th>\n",
       "      <th>gender</th>\n",
       "    </tr>\n",
       "  </thead>\n",
       "  <tbody>\n",
       "    <tr>\n",
       "      <th>0</th>\n",
       "      <td>GTEX-111CU-0326-SM-5GZXO</td>\n",
       "      <td>1</td>\n",
       "      <td>FEMALE</td>\n",
       "    </tr>\n",
       "    <tr>\n",
       "      <th>1</th>\n",
       "      <td>GTEX-111FC-1126-SM-5GZWU</td>\n",
       "      <td>0</td>\n",
       "      <td>FEMALE</td>\n",
       "    </tr>\n",
       "    <tr>\n",
       "      <th>2</th>\n",
       "      <td>GTEX-111VG-0726-SM-5GIDC</td>\n",
       "      <td>0</td>\n",
       "      <td>FEMALE</td>\n",
       "    </tr>\n",
       "    <tr>\n",
       "      <th>3</th>\n",
       "      <td>GTEX-111YS-0626-SM-5GZXV</td>\n",
       "      <td>0</td>\n",
       "      <td>FEMALE</td>\n",
       "    </tr>\n",
       "    <tr>\n",
       "      <th>4</th>\n",
       "      <td>GTEX-1122O-0126-SM-5GICA</td>\n",
       "      <td>0</td>\n",
       "      <td>FEMALE</td>\n",
       "    </tr>\n",
       "  </tbody>\n",
       "</table>\n",
       "</div>"
      ],
      "text/plain": [
       "                     sample  condition  gender\n",
       "0  GTEX-111CU-0326-SM-5GZXO          1  FEMALE\n",
       "1  GTEX-111FC-1126-SM-5GZWU          0  FEMALE\n",
       "2  GTEX-111VG-0726-SM-5GIDC          0  FEMALE\n",
       "3  GTEX-111YS-0626-SM-5GZXV          0  FEMALE\n",
       "4  GTEX-1122O-0126-SM-5GICA          0  FEMALE"
      ]
     },
     "execution_count": 30,
     "metadata": {},
     "output_type": "execute_result"
    }
   ],
   "source": [
    "meta_lung= pd.DataFrame({\n",
    "    'sample': exp_lung.columns[1:],\n",
    "    'condition': np.random.choice([0], size=len(exp_lung.columns[1:])),\n",
    "    'gender' : 'FEMALE'\n",
    "})\n",
    "meta_lung.loc[0, \"condition\"] = 1\n",
    "meta_lung.head(5)"
   ]
  },
  {
   "cell_type": "code",
   "execution_count": 31,
   "metadata": {},
   "outputs": [
    {
     "name": "stdout",
     "output_type": "stream",
     "text": [
      "                       sample  condition  gender\n",
      "0     GTEX-ZDXO-0126-SM-5S2ND          0  FEMALE\n",
      "1     GTEX-W5X1-2326-SM-3GIL6          0  FEMALE\n",
      "2    GTEX-1117F-2826-SM-5GZXL          1  FEMALE\n",
      "3    GTEX-111YS-1926-SM-5GICC          1  FEMALE\n",
      "4    GTEX-117XS-1926-SM-5GICO          1  FEMALE\n",
      "..                        ...        ...     ...\n",
      "249   GTEX-ZY6K-1626-SM-5GZWV          1  FEMALE\n",
      "250   GTEX-ZYFC-0826-SM-5E44K          1  FEMALE\n",
      "251   GTEX-ZYW4-0826-SM-5GIDG          1  FEMALE\n",
      "252   GTEX-ZYY3-2526-SM-GMXAZ          1  FEMALE\n",
      "253   GTEX-ZZPU-0626-SM-5E43T          1  FEMALE\n",
      "\n",
      "[254 rows x 3 columns]\n"
     ]
    }
   ],
   "source": [
    "# Step 1: Filter rows where condition is 0 (controls)\n",
    "controls = meta_breast[meta_breast['condition'] == 0]\n",
    "\n",
    "# Step 2: Randomly select two control samples\n",
    "selected_controls = controls.sample(n=2, random_state=42)  # random_state for reproducibility\n",
    "\n",
    "# Step 3: Update the meta_breast DataFrame to only include the selected controls and all other rows where condition != 0\n",
    "meta_breast_filtered = pd.concat([\n",
    "    selected_controls,\n",
    "    meta_breast[meta_breast['condition'] != 0]\n",
    "], ignore_index=True)\n",
    "\n",
    "# Display the updated meta_breast DataFrame\n",
    "print(meta_breast_filtered)\n"
   ]
  },
  {
   "cell_type": "code",
   "execution_count": 32,
   "metadata": {},
   "outputs": [
    {
     "data": {
      "text/html": [
       "<div>\n",
       "<style scoped>\n",
       "    .dataframe tbody tr th:only-of-type {\n",
       "        vertical-align: middle;\n",
       "    }\n",
       "\n",
       "    .dataframe tbody tr th {\n",
       "        vertical-align: top;\n",
       "    }\n",
       "\n",
       "    .dataframe thead th {\n",
       "        text-align: right;\n",
       "    }\n",
       "</style>\n",
       "<table border=\"1\" class=\"dataframe\">\n",
       "  <thead>\n",
       "    <tr style=\"text-align: right;\">\n",
       "      <th></th>\n",
       "      <th>regulatoryGene</th>\n",
       "      <th>targetGene</th>\n",
       "      <th>weight</th>\n",
       "    </tr>\n",
       "  </thead>\n",
       "  <tbody>\n",
       "    <tr>\n",
       "      <th>0</th>\n",
       "      <td>ZFY</td>\n",
       "      <td>TTTY14</td>\n",
       "      <td>0.269712</td>\n",
       "    </tr>\n",
       "    <tr>\n",
       "      <th>1</th>\n",
       "      <td>ZFY</td>\n",
       "      <td>EIF1AY</td>\n",
       "      <td>0.248673</td>\n",
       "    </tr>\n",
       "  </tbody>\n",
       "</table>\n",
       "</div>"
      ],
      "text/plain": [
       "  regulatoryGene targetGene    weight\n",
       "0            ZFY     TTTY14  0.269712\n",
       "1            ZFY     EIF1AY  0.248673"
      ]
     },
     "execution_count": 32,
     "metadata": {},
     "output_type": "execute_result"
    }
   ],
   "source": [
    "grn_lung.head(2)"
   ]
  },
  {
   "cell_type": "markdown",
   "metadata": {},
   "source": [
    "Define the confounding variables or the design matrix"
   ]
  },
  {
   "cell_type": "code",
   "execution_count": 33,
   "metadata": {},
   "outputs": [],
   "source": [
    "exp_lung = exp_lung.set_index(exp_lung.columns[0])\n",
    "exp_lung = exp_lung.T \n",
    "exp_lung.insert(0, \"sample\", exp_lung. index)\n",
    "#assert all(exp_lung.iloc[:, 0].values == meta_lung.iloc[:,0].values)"
   ]
  },
  {
   "cell_type": "code",
   "execution_count": 34,
   "metadata": {},
   "outputs": [
    {
     "data": {
      "text/html": [
       "<div>\n",
       "<style scoped>\n",
       "    .dataframe tbody tr th:only-of-type {\n",
       "        vertical-align: middle;\n",
       "    }\n",
       "\n",
       "    .dataframe tbody tr th {\n",
       "        vertical-align: top;\n",
       "    }\n",
       "\n",
       "    .dataframe thead th {\n",
       "        text-align: right;\n",
       "    }\n",
       "</style>\n",
       "<table border=\"1\" class=\"dataframe\">\n",
       "  <thead>\n",
       "    <tr style=\"text-align: right;\">\n",
       "      <th>Description</th>\n",
       "      <th>sample</th>\n",
       "      <th>WASH7P</th>\n",
       "      <th>OR4F5</th>\n",
       "      <th>CICP27</th>\n",
       "      <th>WASH9P</th>\n",
       "      <th>MTND1P23</th>\n",
       "      <th>MTND2P28</th>\n",
       "      <th>MTCO1P12</th>\n",
       "      <th>MTCO2P12</th>\n",
       "      <th>MTATP8P1</th>\n",
       "      <th>...</th>\n",
       "      <th>MT-ATP8</th>\n",
       "      <th>MT-ATP6</th>\n",
       "      <th>MT-CO3</th>\n",
       "      <th>MT-ND3</th>\n",
       "      <th>MT-ND4L</th>\n",
       "      <th>MT-ND4</th>\n",
       "      <th>MT-ND5</th>\n",
       "      <th>MT-ND6</th>\n",
       "      <th>MT-TE</th>\n",
       "      <th>MT-CYB</th>\n",
       "    </tr>\n",
       "  </thead>\n",
       "  <tbody>\n",
       "    <tr>\n",
       "      <th>GTEX-111CU-0326-SM-5GZXO</th>\n",
       "      <td>GTEX-111CU-0326-SM-5GZXO</td>\n",
       "      <td>1.73487</td>\n",
       "      <td>0.015715</td>\n",
       "      <td>0.404045</td>\n",
       "      <td>3.44562</td>\n",
       "      <td>13.60320</td>\n",
       "      <td>701.845</td>\n",
       "      <td>36.4011</td>\n",
       "      <td>7.73125</td>\n",
       "      <td>21.4650</td>\n",
       "      <td>...</td>\n",
       "      <td>20639.6</td>\n",
       "      <td>30316.0</td>\n",
       "      <td>19533.3</td>\n",
       "      <td>9311.24</td>\n",
       "      <td>11979.60</td>\n",
       "      <td>25032.7</td>\n",
       "      <td>9814.89</td>\n",
       "      <td>13675.40</td>\n",
       "      <td>41.73750</td>\n",
       "      <td>17064.5</td>\n",
       "    </tr>\n",
       "    <tr>\n",
       "      <th>GTEX-111FC-1126-SM-5GZWU</th>\n",
       "      <td>GTEX-111FC-1126-SM-5GZWU</td>\n",
       "      <td>6.03857</td>\n",
       "      <td>0.023205</td>\n",
       "      <td>0.105289</td>\n",
       "      <td>10.74130</td>\n",
       "      <td>8.65547</td>\n",
       "      <td>327.442</td>\n",
       "      <td>22.0995</td>\n",
       "      <td>8.86811</td>\n",
       "      <td>15.4709</td>\n",
       "      <td>...</td>\n",
       "      <td>12900.5</td>\n",
       "      <td>20179.0</td>\n",
       "      <td>15523.2</td>\n",
       "      <td>9339.42</td>\n",
       "      <td>5804.09</td>\n",
       "      <td>15797.2</td>\n",
       "      <td>2139.15</td>\n",
       "      <td>1751.61</td>\n",
       "      <td>2.64138</td>\n",
       "      <td>11498.2</td>\n",
       "    </tr>\n",
       "  </tbody>\n",
       "</table>\n",
       "<p>2 rows × 21043 columns</p>\n",
       "</div>"
      ],
      "text/plain": [
       "Description                                 sample   WASH7P     OR4F5  \\\n",
       "GTEX-111CU-0326-SM-5GZXO  GTEX-111CU-0326-SM-5GZXO  1.73487  0.015715   \n",
       "GTEX-111FC-1126-SM-5GZWU  GTEX-111FC-1126-SM-5GZWU  6.03857  0.023205   \n",
       "\n",
       "Description                 CICP27    WASH9P  MTND1P23  MTND2P28  MTCO1P12  \\\n",
       "GTEX-111CU-0326-SM-5GZXO  0.404045   3.44562  13.60320   701.845   36.4011   \n",
       "GTEX-111FC-1126-SM-5GZWU  0.105289  10.74130   8.65547   327.442   22.0995   \n",
       "\n",
       "Description               MTCO2P12  MTATP8P1  ...  MT-ATP8  MT-ATP6   MT-CO3  \\\n",
       "GTEX-111CU-0326-SM-5GZXO   7.73125   21.4650  ...  20639.6  30316.0  19533.3   \n",
       "GTEX-111FC-1126-SM-5GZWU   8.86811   15.4709  ...  12900.5  20179.0  15523.2   \n",
       "\n",
       "Description                MT-ND3   MT-ND4L   MT-ND4   MT-ND5    MT-ND6  \\\n",
       "GTEX-111CU-0326-SM-5GZXO  9311.24  11979.60  25032.7  9814.89  13675.40   \n",
       "GTEX-111FC-1126-SM-5GZWU  9339.42   5804.09  15797.2  2139.15   1751.61   \n",
       "\n",
       "Description                  MT-TE   MT-CYB  \n",
       "GTEX-111CU-0326-SM-5GZXO  41.73750  17064.5  \n",
       "GTEX-111FC-1126-SM-5GZWU   2.64138  11498.2  \n",
       "\n",
       "[2 rows x 21043 columns]"
      ]
     },
     "execution_count": 34,
     "metadata": {},
     "output_type": "execute_result"
    }
   ],
   "source": [
    "exp_lung.head(2)"
   ]
  },
  {
   "cell_type": "code",
   "execution_count": 35,
   "metadata": {},
   "outputs": [],
   "source": [
    "exp_breast = exp_breast.set_index(exp_breast.columns[0])\n",
    "exp_breast = exp_breast.T \n",
    "exp_breast.insert(0, \"sample\", exp_breast. index)\n",
    "#assert all(exp_breast.iloc[:, 0].values == meta_breast.iloc[:,0].values)"
   ]
  },
  {
   "cell_type": "code",
   "execution_count": 36,
   "metadata": {},
   "outputs": [
    {
     "data": {
      "text/html": [
       "<div>\n",
       "<style scoped>\n",
       "    .dataframe tbody tr th:only-of-type {\n",
       "        vertical-align: middle;\n",
       "    }\n",
       "\n",
       "    .dataframe tbody tr th {\n",
       "        vertical-align: top;\n",
       "    }\n",
       "\n",
       "    .dataframe thead th {\n",
       "        text-align: right;\n",
       "    }\n",
       "</style>\n",
       "<table border=\"1\" class=\"dataframe\">\n",
       "  <thead>\n",
       "    <tr style=\"text-align: right;\">\n",
       "      <th>Description</th>\n",
       "      <th>sample</th>\n",
       "      <th>WASH7P</th>\n",
       "      <th>OR4F5</th>\n",
       "      <th>WASH9P</th>\n",
       "      <th>MTND1P23</th>\n",
       "      <th>MTND2P28</th>\n",
       "      <th>MTCO1P12</th>\n",
       "      <th>MTCO2P12</th>\n",
       "      <th>MTATP8P1</th>\n",
       "      <th>MTATP6P1</th>\n",
       "      <th>...</th>\n",
       "      <th>MT-ATP6</th>\n",
       "      <th>MT-CO3</th>\n",
       "      <th>MT-ND3</th>\n",
       "      <th>MT-ND4L</th>\n",
       "      <th>MT-ND4</th>\n",
       "      <th>MT-ND5</th>\n",
       "      <th>MT-ND6</th>\n",
       "      <th>MT-TE</th>\n",
       "      <th>MT-CYB</th>\n",
       "      <th>MT-TP</th>\n",
       "    </tr>\n",
       "  </thead>\n",
       "  <tbody>\n",
       "    <tr>\n",
       "      <th>GTEX-1117F-2826-SM-5GZXL</th>\n",
       "      <td>GTEX-1117F-2826-SM-5GZXL</td>\n",
       "      <td>9.70327</td>\n",
       "      <td>0.018298</td>\n",
       "      <td>7.16661</td>\n",
       "      <td>18.5431</td>\n",
       "      <td>1017.12</td>\n",
       "      <td>38.0448</td>\n",
       "      <td>10.6094</td>\n",
       "      <td>20.5299</td>\n",
       "      <td>4373.92</td>\n",
       "      <td>...</td>\n",
       "      <td>41003.6</td>\n",
       "      <td>51020.1</td>\n",
       "      <td>14202.3</td>\n",
       "      <td>14019.8</td>\n",
       "      <td>35322.9</td>\n",
       "      <td>2929.78</td>\n",
       "      <td>1756.72</td>\n",
       "      <td>2.08274</td>\n",
       "      <td>20157.3</td>\n",
       "      <td>2.113370</td>\n",
       "    </tr>\n",
       "    <tr>\n",
       "      <th>GTEX-111YS-1926-SM-5GICC</th>\n",
       "      <td>GTEX-111YS-1926-SM-5GICC</td>\n",
       "      <td>3.98499</td>\n",
       "      <td>0.080215</td>\n",
       "      <td>5.65219</td>\n",
       "      <td>17.7260</td>\n",
       "      <td>1147.13</td>\n",
       "      <td>57.2182</td>\n",
       "      <td>12.2619</td>\n",
       "      <td>42.2615</td>\n",
       "      <td>4126.39</td>\n",
       "      <td>...</td>\n",
       "      <td>45532.2</td>\n",
       "      <td>34797.2</td>\n",
       "      <td>19903.3</td>\n",
       "      <td>18822.5</td>\n",
       "      <td>45468.6</td>\n",
       "      <td>11130.40</td>\n",
       "      <td>16237.40</td>\n",
       "      <td>46.87020</td>\n",
       "      <td>28117.2</td>\n",
       "      <td>0.617656</td>\n",
       "    </tr>\n",
       "  </tbody>\n",
       "</table>\n",
       "<p>2 rows × 20398 columns</p>\n",
       "</div>"
      ],
      "text/plain": [
       "Description                                 sample   WASH7P     OR4F5  \\\n",
       "GTEX-1117F-2826-SM-5GZXL  GTEX-1117F-2826-SM-5GZXL  9.70327  0.018298   \n",
       "GTEX-111YS-1926-SM-5GICC  GTEX-111YS-1926-SM-5GICC  3.98499  0.080215   \n",
       "\n",
       "Description                WASH9P  MTND1P23  MTND2P28  MTCO1P12  MTCO2P12  \\\n",
       "GTEX-1117F-2826-SM-5GZXL  7.16661   18.5431   1017.12   38.0448   10.6094   \n",
       "GTEX-111YS-1926-SM-5GICC  5.65219   17.7260   1147.13   57.2182   12.2619   \n",
       "\n",
       "Description               MTATP8P1  MTATP6P1  ...  MT-ATP6   MT-CO3   MT-ND3  \\\n",
       "GTEX-1117F-2826-SM-5GZXL   20.5299   4373.92  ...  41003.6  51020.1  14202.3   \n",
       "GTEX-111YS-1926-SM-5GICC   42.2615   4126.39  ...  45532.2  34797.2  19903.3   \n",
       "\n",
       "Description               MT-ND4L   MT-ND4    MT-ND5    MT-ND6     MT-TE  \\\n",
       "GTEX-1117F-2826-SM-5GZXL  14019.8  35322.9   2929.78   1756.72   2.08274   \n",
       "GTEX-111YS-1926-SM-5GICC  18822.5  45468.6  11130.40  16237.40  46.87020   \n",
       "\n",
       "Description                MT-CYB     MT-TP  \n",
       "GTEX-1117F-2826-SM-5GZXL  20157.3  2.113370  \n",
       "GTEX-111YS-1926-SM-5GICC  28117.2  0.617656  \n",
       "\n",
       "[2 rows x 20398 columns]"
      ]
     },
     "execution_count": 36,
     "metadata": {},
     "output_type": "execute_result"
    }
   ],
   "source": [
    "exp_breast.head(2)"
   ]
  },
  {
   "cell_type": "code",
   "execution_count": 37,
   "metadata": {},
   "outputs": [],
   "source": [
    "exp_exercise = exp_exercise.set_index(exp_exercise.columns[0])\n",
    "exp_exercise = exp_exercise.T \n",
    "exp_exercise.insert(0, \"sample\", exp_exercise.index)\n",
    "#assert all(exp_exercise.iloc[:, 0].values == meta_exercise.iloc[:,0].values)"
   ]
  },
  {
   "cell_type": "code",
   "execution_count": 38,
   "metadata": {},
   "outputs": [
    {
     "data": {
      "text/html": [
       "<div>\n",
       "<style scoped>\n",
       "    .dataframe tbody tr th:only-of-type {\n",
       "        vertical-align: middle;\n",
       "    }\n",
       "\n",
       "    .dataframe tbody tr th {\n",
       "        vertical-align: top;\n",
       "    }\n",
       "\n",
       "    .dataframe thead th {\n",
       "        text-align: right;\n",
       "    }\n",
       "</style>\n",
       "<table border=\"1\" class=\"dataframe\">\n",
       "  <thead>\n",
       "    <tr style=\"text-align: right;\">\n",
       "      <th></th>\n",
       "      <th>sample</th>\n",
       "      <th>_PATIENT</th>\n",
       "      <th>cancer type abbreviation</th>\n",
       "      <th>age_at_initial_pathologic_diagnosis</th>\n",
       "      <th>gender</th>\n",
       "      <th>race</th>\n",
       "      <th>ajcc_pathologic_tumor_stage</th>\n",
       "      <th>clinical_stage</th>\n",
       "      <th>histological_type</th>\n",
       "      <th>histological_grade</th>\n",
       "      <th>...</th>\n",
       "      <th>DSS.time</th>\n",
       "      <th>DFI</th>\n",
       "      <th>DFI.time</th>\n",
       "      <th>PFI</th>\n",
       "      <th>PFI.time</th>\n",
       "      <th>Redaction</th>\n",
       "      <th>sample_type_id</th>\n",
       "      <th>sample_type</th>\n",
       "      <th>_primary_disease</th>\n",
       "      <th>condition</th>\n",
       "    </tr>\n",
       "  </thead>\n",
       "  <tbody>\n",
       "    <tr>\n",
       "      <th>0</th>\n",
       "      <td>TCGA-38-4625-11</td>\n",
       "      <td>TCGA-38-4625</td>\n",
       "      <td>LUAD</td>\n",
       "      <td>66.0</td>\n",
       "      <td>FEMALE</td>\n",
       "      <td>WHITE</td>\n",
       "      <td>Stage IB</td>\n",
       "      <td>NaN</td>\n",
       "      <td>Lung Adenocarcinoma</td>\n",
       "      <td>NaN</td>\n",
       "      <td>...</td>\n",
       "      <td>2973.0</td>\n",
       "      <td>0.0</td>\n",
       "      <td>2973.0</td>\n",
       "      <td>0.0</td>\n",
       "      <td>2973.0</td>\n",
       "      <td>NaN</td>\n",
       "      <td>11.0</td>\n",
       "      <td>Solid Tissue Normal</td>\n",
       "      <td>lung adenocarcinoma</td>\n",
       "      <td>0</td>\n",
       "    </tr>\n",
       "  </tbody>\n",
       "</table>\n",
       "<p>1 rows × 38 columns</p>\n",
       "</div>"
      ],
      "text/plain": [
       "            sample      _PATIENT cancer type abbreviation  \\\n",
       "0  TCGA-38-4625-11  TCGA-38-4625                     LUAD   \n",
       "\n",
       "   age_at_initial_pathologic_diagnosis  gender   race  \\\n",
       "0                                 66.0  FEMALE  WHITE   \n",
       "\n",
       "  ajcc_pathologic_tumor_stage  clinical_stage    histological_type  \\\n",
       "0                    Stage IB             NaN  Lung Adenocarcinoma   \n",
       "\n",
       "   histological_grade  ...  DSS.time  DFI  DFI.time  PFI PFI.time  Redaction  \\\n",
       "0                 NaN  ...    2973.0  0.0    2973.0  0.0   2973.0        NaN   \n",
       "\n",
       "   sample_type_id          sample_type     _primary_disease  condition  \n",
       "0            11.0  Solid Tissue Normal  lung adenocarcinoma          0  \n",
       "\n",
       "[1 rows x 38 columns]"
      ]
     },
     "execution_count": 38,
     "metadata": {},
     "output_type": "execute_result"
    }
   ],
   "source": [
    "meta_exercise.head(1)"
   ]
  },
  {
   "cell_type": "markdown",
   "metadata": {},
   "source": [
    "Run DysRegNet"
   ]
  },
  {
   "cell_type": "code",
   "execution_count": 39,
   "metadata": {},
   "outputs": [],
   "source": [
    "# define condition column (0 indicated control, 1 indicates case), Column name for the condition in the meta DataFrame.\n",
    "conCol='condition'\n",
    "\n",
    "# define categorical confounder columns in meta dataframe, List of categorical variable names. They should match the name of their columns in the meta Dataframe.\n",
    "CatCov=['gender']  \n",
    "\n",
    "# define continuous confounder columns in meta dataframe, List of continuous covariates. They should match the name of their columns in the meta Dataframe.\n",
    "# ConCov=['gender']"
   ]
  },
  {
   "cell_type": "code",
   "execution_count": 40,
   "metadata": {},
   "outputs": [
    {
     "data": {
      "text/plain": [
       "'\\ndata=dysregnet.run(expression_data = exp_exercise.head(60), \\n                   GRN= grn_exercise,\\n                   meta = meta_exercise.head(60),\\n                   direction_condition=False,\\n                   normaltest=True,\\n                   CatCov = CatCov,\\n                   ConCov = [conCol],\\n                   R2_threshold=.2)\\n                   \\n'"
      ]
     },
     "execution_count": 40,
     "metadata": {},
     "output_type": "execute_result"
    }
   ],
   "source": [
    "\"\"\"\n",
    "data=dysregnet.run(expression_data = exp_exercise.head(60), \n",
    "                   GRN= grn_exercise,\n",
    "                   meta = meta_exercise.head(60),\n",
    "                   direction_condition=False,\n",
    "                   normaltest=True,\n",
    "                   CatCov = CatCov,\n",
    "                   ConCov = [conCol],\n",
    "                   R2_threshold=.2)\n",
    "                   \n",
    "\"\"\""
   ]
  },
  {
   "cell_type": "code",
   "execution_count": 41,
   "metadata": {},
   "outputs": [
    {
     "data": {
      "text/plain": [
       "'\\ndata=dysregnet.run(expression_data = exp_breast.head(7), \\n                   GRN= \"breast\",\\n                   meta = meta_breast.head(7),\\n                   direction_condition=False,\\n                   normaltest=True,\\n                   #CatCov = CatCov,\\n                   #ConCov = [conCol],\\n                   R2_threshold=.2)\\n'"
      ]
     },
     "execution_count": 41,
     "metadata": {},
     "output_type": "execute_result"
    }
   ],
   "source": [
    "\"\"\"\n",
    "data=dysregnet.run(expression_data = exp_breast.head(7), \n",
    "                   GRN= \"breast\",\n",
    "                   meta = meta_breast.head(7),\n",
    "                   direction_condition=False,\n",
    "                   normaltest=True,\n",
    "                   #CatCov = CatCov,\n",
    "                   #ConCov = [conCol],\n",
    "                   R2_threshold=.2)\n",
    "\"\"\""
   ]
  },
  {
   "cell_type": "code",
   "execution_count": 50,
   "metadata": {},
   "outputs": [
    {
     "name": "stdout",
     "output_type": "stream",
     "text": [
      "Processing breast GRN file...\n",
      "GRN file and model ZIP already exist locally. Skipping download.\n",
      "Extracting breast model ZIP...\n",
      "Extracted models/breast_models.zip to models\n",
      "You did not input any covariates in CatCov or ConCov parameters, proceeding without them.\n",
      "Warning: You have more than 3 control samples\n"
     ]
    },
    {
     "name": "stderr",
     "output_type": "stream",
     "text": [
      "Processing edges: 90567it [19:52, 75.96it/s]\n"
     ]
    },
    {
     "name": "stdout",
     "output_type": "stream",
     "text": [
      "Ratio of found models:  1.0\n",
      "Skipped models:  1.0\n",
      "edges:  {'patient id': ['GTEX-111CU-0326-SM-5GZXO', 'GTEX-111FC-1126-SM-5GZWU', 'GTEX-111VG-0726-SM-5GIDC', 'GTEX-111YS-0626-SM-5GZXV', 'GTEX-1122O-0126-SM-5GICA', 'GTEX-1128S-0726-SM-5N9D6', 'GTEX-117YW-0526-SM-5H11C', 'GTEX-117YX-1326-SM-5H125', 'GTEX-11DXX-0626-SM-5Q5AG', 'GTEX-11DXZ-0726-SM-5N9C4', 'GTEX-11DYG-0626-SM-GINAE', 'GTEX-11DZ1-0426-SM-5H11A', 'GTEX-11EI6-0826-SM-5985V', 'GTEX-11EMC-0126-SM-5EGKV', 'GTEX-11EQ9-0226-SM-5A5JX', 'GTEX-11GSP-0726-SM-5986L', 'GTEX-11I78-0126-SM-5HL6F', 'GTEX-11LCK-0426-SM-5A5M8', 'GTEX-11NSD-0326-SM-5A5LS', 'GTEX-11NUK-0826-SM-5HL4U', 'GTEX-11NV4-1126-SM-5HL6J', 'GTEX-11O72-1326-SM-5BC5A', 'GTEX-11OF3-1126-SM-5986C', 'GTEX-11P7K-0326-SM-59871', 'GTEX-11P81-0226-SM-5HL5M', 'GTEX-11PRG-0926-SM-5EGI8', 'GTEX-11TT1-1626-SM-5EQL7', 'GTEX-11TUW-0526-SM-5LU9A', 'GTEX-11UD2-0726-SM-5EQ69', 'GTEX-11WQC-0626-SM-5EQMF', 'GTEX-11WQK-1226-SM-5GU5Z', 'GTEX-11XUK-0326-SM-HAV26', 'GTEX-11ZTS-1226-SM-5EQMQ', 'GTEX-11ZTT-0626-SM-5EQLM', 'GTEX-11ZUS-0126-SM-5EQM5', 'GTEX-11ZVC-0226-SM-731E8', 'GTEX-1211K-0826-SM-5FQUP', 'GTEX-1212Z-1026-SM-5EGJ8', 'GTEX-12584-1426-SM-5EGJ9', 'GTEX-12696-1026-SM-5FQUV', 'GTEX-1269C-0926-SM-5FQSR', 'GTEX-12BJ1-1026-SM-5EGJA', 'GTEX-12C56-0126-SM-HAV25', 'GTEX-12KS4-0726-SM-5FQSX', 'GTEX-12WSA-1026-SM-5EGHN', 'GTEX-12WSD-0826-SM-5GCNE', 'GTEX-12WSE-0826-SM-5S2VL', 'GTEX-12WSG-5004-SM-7EPG9', 'GTEX-12WSH-0126-SM-5GCO3', 'GTEX-12WSI-0826-SM-5EGKD', 'GTEX-12WSJ-0226-SM-5GCP7', 'GTEX-12WSK-0826-SM-5CVNP', 'GTEX-12WSL-5004-SM-HTQ88', 'GTEX-12WSN-5004-SM-793CE', 'GTEX-12ZZW-0926-SM-5LZUD', 'GTEX-12ZZY-0926-SM-5EQ6I', 'GTEX-13111-5001-SM-I9BPN', 'GTEX-13113-5004-SM-79ONL', 'GTEX-1313W-0926-SM-5EQ56', 'GTEX-131XE-0726-SM-5HL9K', 'GTEX-131XF-1026-SM-5BC6A', 'GTEX-131XH-0426-SM-5DUWU', 'GTEX-131XW-1126-SM-5EGK4', 'GTEX-131YS-0926-SM-5IJB9', 'GTEX-132NY-1226-SM-5PNVF', 'GTEX-132QS-0726-SM-5IJE9', 'GTEX-1339X-0626-SM-5IJER', 'GTEX-133LE-0526-SM-5N9EJ', 'GTEX-1399S-1726-SM-5L3DI', 'GTEX-1399U-0826-SM-5KM1P', 'GTEX-139T6-0426-SM-5IJEM', 'GTEX-139TT-0726-SM-5K7XW', 'GTEX-139UW-0226-SM-5K7WU', 'GTEX-139YR-0926-SM-5LZYB', 'GTEX-13CF3-0426-SM-5IJEU', 'GTEX-13D11-0326-SM-5LZXX', 'GTEX-13FH7-1726-SM-5IJE7', 'GTEX-13FHO-1026-SM-5KM1Q', 'GTEX-13FHP-0726-SM-5K7YI', 'GTEX-13FLV-0426-SM-5KLZA', 'GTEX-13FTX-0326-SM-5J2NG', 'GTEX-13FTY-0126-SM-5J2NZ', 'GTEX-13FTZ-0526-SM-5IJCW', 'GTEX-13G51-0426-SM-5K7Z5', 'GTEX-13JUV-0526-SM-5K7XE', 'GTEX-13JVG-1426-SM-5MR4W', 'GTEX-13N11-0326-SM-5LUA3', 'GTEX-13N1W-0726-SM-5MR57', 'GTEX-13N2G-0826-SM-5IJE6', 'GTEX-13NYB-0626-SM-5MR47', 'GTEX-13NYS-1626-SM-5J2MU', 'GTEX-13NZ8-0326-SM-5L3DF', 'GTEX-13NZ9-0926-SM-5KM12', 'GTEX-13NZA-1426-SM-5KM4Y', 'GTEX-13O21-3026-SM-5J2NI', 'GTEX-13O3O-0726-SM-5J1N7', 'GTEX-13O3P-1026-SM-5N9E7', 'GTEX-13O3Q-0526-SM-5KM18', 'GTEX-13O61-0726-SM-5J2MD', 'GTEX-13OVG-0326-SM-5KM57', 'GTEX-13OVH-1026-SM-5J2NP', 'GTEX-13OVJ-0726-SM-5KM1W', 'GTEX-13OVL-0626-SM-5KM13', 'GTEX-13OW5-0726-SM-5KLZK', 'GTEX-13OW6-0826-SM-5L3GA', 'GTEX-13OW7-0926-SM-5L3EX', 'GTEX-13OW8-1726-SM-5L3GO', 'GTEX-13PL7-1726-SM-5J2NX', 'GTEX-13PVQ-0926-SM-5IJFD', 'GTEX-13QBU-0726-SM-5J2OA', 'GTEX-13QJ3-1026-SM-5QGQU', 'GTEX-13QJC-0526-SM-5RQKB', 'GTEX-13RTJ-1126-SM-5S2UJ', 'GTEX-13S7M-2126-SM-5S2QR', 'GTEX-13S86-0626-SM-5Q5E7', 'GTEX-13SLW-1226-SM-5S2Q7', 'GTEX-13U4I-1426-SM-5J2M3', 'GTEX-13VXT-1426-SM-5LU4B', 'GTEX-13VXU-2726-SM-5LU4N', 'GTEX-13W3W-0326-SM-5NQ9F', 'GTEX-13X6K-1626-SM-5O9BP', 'GTEX-13YAN-1026-SM-5O9CF', 'GTEX-1445S-1426-SM-G9EQL', 'GTEX-144GM-0126-SM-5Q5AX', 'GTEX-144GN-0426-SM-5O9AP', 'GTEX-144GO-0226-SM-5LUB1', 'GTEX-145LS-1226-SM-5Q5D9', 'GTEX-145LT-0326-SM-5LUAD', 'GTEX-145LU-0526-SM-5O9AT', 'GTEX-145ME-0226-SM-5S2QN', 'GTEX-145MF-0726-SM-5Q5BT', 'GTEX-145MH-0626-SM-5NQAK', 'GTEX-145MN-0926-SM-5NQBT', 'GTEX-145MO-1326-SM-5Q5EF', 'GTEX-146FH-1226-SM-5NQB6', 'GTEX-146FQ-0926-SM-5LUAV', 'GTEX-1477Z-0626-SM-5NQB7', 'GTEX-147F3-0726-SM-5NQ9U', 'GTEX-147F4-0926-SM-5Q5EO', 'GTEX-147GR-1226-SM-5TDCL', 'GTEX-147JS-1226-SM-5RQK4', 'GTEX-148VI-0226-SM-5RQKA', 'GTEX-148VJ-0826-SM-5LU8V', 'GTEX-1497J-0326-SM-5Q5CN', 'GTEX-14A5H-1226-SM-H6Q69', 'GTEX-14A6H-0526-SM-5NQAZ', 'GTEX-14ABY-1126-SM-5Q5F8', 'GTEX-14AS3-0926-SM-5TDD6', 'GTEX-14BIL-1226-SM-5O9CN', 'GTEX-14BMU-0526-SM-5P9IE', 'GTEX-14BMV-0826-SM-5P9I1', 'GTEX-14C39-0326-SM-5TDDX', 'GTEX-14C5O-1126-SM-5TDEH', 'GTEX-14DAQ-0926-SM-5PNV1', 'GTEX-14DAR-0226-SM-5S2PR', 'GTEX-14E1K-0226-SM-62LDT', 'GTEX-14E6C-1426-SM-5ZZWH', 'GTEX-14E6D-1026-SM-5S2RS', 'GTEX-14E6E-0426-SM-73KUE', 'GTEX-14E7W-1326-SM-5RQIV', 'GTEX-14ICK-0726-SM-H6Q6B', 'GTEX-14JG1-0926-SM-5YY8W', 'GTEX-14JG6-0326-SM-6AJBT', 'GTEX-14JIY-1326-SM-6AJB3', 'GTEX-14LLW-0726-SM-5ZZVV', 'GTEX-14LZ3-0726-SM-5YYAB', 'GTEX-14PHY-0526-SM-664NM', 'GTEX-14PJ4-0626-SM-6AJBS', 'GTEX-14PJ5-0226-SM-5YY99', 'GTEX-14PJM-0926-SM-6AJ9Y', 'GTEX-14PJO-0926-SM-686YT', 'GTEX-14PK6-5003-SM-HTQ8I', 'GTEX-14PKU-0726-SM-HAUZY', 'GTEX-14PN3-0926-SM-H6Q6A', 'GTEX-14PQA-1126-SM-7KUM4', 'GTEX-14XAO-5002-SM-HL11T', 'GTEX-15CHC-0226-SM-5YYBB', 'GTEX-15CHQ-1026-SM-GRR1B', 'GTEX-15CHR-5005-SM-HL11N', 'GTEX-15D1Q-0526-SM-6AJAY', 'GTEX-15EOM-5010-SM-7P8PA', 'GTEX-15ER7-0926-SM-7KUMG', 'GTEX-15EU6-1226-SM-6AJBE', 'GTEX-15FZZ-0326-SM-6M48O', 'GTEX-15G19-0726-SM-HAUXU', 'GTEX-15G1A-0426-SM-6M468', 'GTEX-15RIE-0326-SM-6PAMC', 'GTEX-15RIF-0426-SM-HAUZ8', 'GTEX-15RJ7-0626-SM-6M47V', 'GTEX-15RJE-1026-SM-6M46X', 'GTEX-15SB6-0426-SM-6LPJ5', 'GTEX-15SDE-0226-SM-H7OEW', 'GTEX-15SHV-0326-SM-6M475', 'GTEX-15SHW-0926-SM-6LPIO', 'GTEX-15SKB-0826-SM-7KUFB', 'GTEX-15UKP-1926-SM-6LPI9', 'GTEX-169BO-0226-SM-79OL1', 'GTEX-16AAH-0426-SM-7DUFM', 'GTEX-16GPK-1826-SM-G8W6F', 'GTEX-16MT8-1026-SM-6LPK1', 'GTEX-16MTA-1226-SM-7KULL', 'GTEX-16NFA-0826-SM-6LPJD', 'GTEX-16NGA-0226-SM-718AI', 'GTEX-16NPX-1126-SM-GPRXK', 'GTEX-16XZZ-0926-SM-7DHLI', 'GTEX-16YQH-1626-SM-GRR19', 'GTEX-16Z82-1026-SM-6M48A', 'GTEX-178AV-0326-SM-6LPJF', 'GTEX-17EVP-0726-SM-7EWDX', 'GTEX-17EVQ-1526-SM-79ONG', 'GTEX-17F96-0626-SM-793CC', 'GTEX-17F98-0226-SM-793BV', 'GTEX-17F9Y-1026-SM-7IGO4', 'GTEX-17GQL-0726-SM-731BL', 'GTEX-17HG3-0326-SM-7IGP4', 'GTEX-17HGU-0926-SM-79OKO', 'GTEX-17HHE-0626-SM-7DHL6', 'GTEX-17HII-0926-SM-79ON7', 'GTEX-17JCI-1526-SM-7IGOQ', 'GTEX-17KNJ-0926-SM-7IGP2', 'GTEX-17MF6-0826-SM-7LT8F', 'GTEX-183FY-0726-SM-793C3', 'GTEX-18465-0626-SM-7LT8X', 'GTEX-18A66-0926-SM-718BG', 'GTEX-18A67-1126-SM-7KFSB', 'GTEX-18A6Q-0826-SM-7KFRD', 'GTEX-18A7A-1026-SM-7LT8B', 'GTEX-18D9A-0226-SM-7KFSJ', 'GTEX-18D9B-1026-SM-CNPO5', 'GTEX-18D9U-0526-SM-72D7C', 'GTEX-18QFQ-0926-SM-7LG4V', 'GTEX-1A32A-0726-SM-731D4', 'GTEX-1A3MV-0526-SM-72D5A', 'GTEX-1A8FM-0826-SM-793D5', 'GTEX-1A8G6-0726-SM-73KV5', 'GTEX-1AX8Z-5010-SM-AHZ33', 'GTEX-1AX9I-0826-SM-73KUT', 'GTEX-1AX9J-1626-SM-73KUI', 'GTEX-1AX9K-5026-SM-HTQ7X', 'GTEX-1AYCT-0726-SM-7IGNG', 'GTEX-1AYD5-1226-SM-7EWEP', 'GTEX-1B8KZ-0526-SM-73KW2', 'GTEX-1B8L1-0626-SM-7EPHL', 'GTEX-1B8SF-0826-SM-73KW8', 'GTEX-1B8SG-1026-SM-H7OEY', 'GTEX-1B932-0726-SM-731EY', 'GTEX-1B933-0926-SM-9OSVH', 'GTEX-1B97I-0226-SM-73KVO', 'GTEX-1B996-0726-SM-7IGPI', 'GTEX-1BAJH-1326-SM-7RHFS', 'GTEX-1C4CL-0826-SM-7EWEZ', 'GTEX-1C64O-1226-SM-79OOC', 'GTEX-1C6VR-0626-SM-79OOY', 'GTEX-1C6VS-1226-SM-79OO2', 'GTEX-1C6WA-0726-SM-7IGQ5', 'GTEX-1CAMQ-1026-SM-7EPIC', 'GTEX-1CAV2-0626-SM-7P8QE', 'GTEX-1CB4F-0926-SM-7DHMJ', 'GTEX-1CB4I-2126-SM-793AG', 'GTEX-1CB4J-1726-SM-79OOL', 'GTEX-1E1VI-0926-SM-7P8T3', 'GTEX-1E2YA-0926-SM-7MXUK', 'GTEX-1EKGG-1326-SM-7MXUM', 'GTEX-1EMGI-1426-SM-7IGNQ', 'GTEX-1EN7A-0826-SM-7MKFV', 'GTEX-1EWIQ-0926-SM-7RHG7', 'GTEX-1EX96-0226-SM-7RHHR', 'GTEX-1F48J-0826-SM-9WPOD', 'GTEX-1F5PK-0526-SM-7MXUA', 'GTEX-1F6I4-1026-SM-7P8PS', 'GTEX-1F6RS-0826-SM-7P8T9', 'GTEX-1F75B-1026-SM-9JGFS', 'GTEX-1F75W-0626-SM-7PC13', 'GTEX-1F7RK-0826-SM-7SB8V', 'GTEX-1F88F-0926-SM-7RHH8', 'GTEX-1FIGZ-0326-SM-7RHGT', 'GTEX-1GF9V-1026-SM-9KNW3', 'GTEX-1GF9X-0326-SM-7P8R9', 'GTEX-1GL5R-0526-SM-9WPOQ', 'GTEX-1GMR2-0126-SM-9JGHC', 'GTEX-1GMR3-0226-SM-7RHIB', 'GTEX-1GMR8-1426-SM-7RHHL', 'GTEX-1GMRU-1426-SM-9WPPL', 'GTEX-1GN1U-1026-SM-9WYUP', 'GTEX-1GN1W-1026-SM-9OSW2', 'GTEX-1GN2E-1526-SM-7P8TD', 'GTEX-1GN73-1026-SM-9KNV9', 'GTEX-1GPI7-1526-SM-9JGG8', 'GTEX-1GTWX-0626-SM-9WYU1', 'GTEX-1GZ2Q-0726-SM-9KNVV', 'GTEX-1GZ4H-0426-SM-7MXV5', 'GTEX-1GZ4I-0726-SM-9QEHL', 'GTEX-1GZHY-0826-SM-9OSXT', 'GTEX-1H11D-0726-SM-9OSWA', 'GTEX-1H1CY-0626-SM-9KNVE', 'GTEX-1H1DG-1026-SM-9MQJS', 'GTEX-1H1E6-0726-SM-9WPQ4', 'GTEX-1H1ZS-0826-SM-A9SMD', 'GTEX-1H23P-1026-SM-9QEHQ', 'GTEX-1H2FU-1226-SM-9KNVY', 'GTEX-1H3O1-0326-SM-9WPO8', 'GTEX-1H3VY-1426-SM-9WPOB', 'GTEX-1HB9E-0726-SM-AHZ4L', 'GTEX-1HBPH-1326-SM-9WYSN', 'GTEX-1HBPM-0826-SM-9WYSP', 'GTEX-1HCU7-0926-SM-A96TK', 'GTEX-1HCUA-0226-SM-A8N88', 'GTEX-1HCVE-0626-SM-A9SL2', 'GTEX-1HFI6-0926-SM-9WPPV', 'GTEX-1HSKV-1126-SM-ADEIA', 'GTEX-1HSMO-0926-SM-A96S7', 'GTEX-1HSMP-5007-SM-I9BPJ', 'GTEX-1HSMQ-5005-SM-HAUXX', 'GTEX-1HT8W-1426-SM-CE6S2', 'GTEX-1I19N-0526-SM-A9G27', 'GTEX-1I1CD-0926-SM-CL55I', 'GTEX-1I1GP-0526-SM-ARL7G', 'GTEX-1I1GQ-1126-SM-CNNQT', 'GTEX-1I1GR-0726-SM-B2LWL', 'GTEX-1I1GS-1426-SM-COH3W', 'GTEX-1I1GU-0526-SM-B2LX2', 'GTEX-1I1GV-0926-SM-B2LXM', 'GTEX-1I4MK-0326-SM-B2LWP', 'GTEX-1I6K6-0926-SM-AHZ2N', 'GTEX-1I6K7-1226-SM-B2LVS', 'GTEX-1ICLZ-0926-SM-CKZPQ', 'GTEX-1IDJD-0826-SM-GA917', 'GTEX-1IDJH-0726-SM-ARU7U', 'GTEX-1IDJI-0626-SM-C1YQD', 'GTEX-1IDJU-0226-SM-CKZOF', 'GTEX-1IKJJ-0926-SM-A9G2L', 'GTEX-1IKK5-1926-SM-A9G2V', 'GTEX-1IKOE-1226-SM-GA8ZY', 'GTEX-1IL2U-0926-SM-CKZOB', 'GTEX-1IL2V-0726-SM-ARZMB', 'GTEX-1IOXB-1126-SM-CNNQ5', 'GTEX-1IY9M-1126-SM-A9SLV', 'GTEX-1J1OQ-0926-SM-CJI34', 'GTEX-1J1R8-0226-SM-AHZ3C', 'GTEX-1J8EW-1026-SM-A96T7', 'GTEX-1J8JJ-1126-SM-CL55P', 'GTEX-1J8Q3-0826-SM-GA8ZP', 'GTEX-1J8QM-0526-SM-AHZ3Y', 'GTEX-1JJE9-0926-SM-CNNP9', 'GTEX-1JJEA-1126-SM-CKZOC', 'GTEX-1JK1U-1126-SM-CY8HK', 'GTEX-1JKYN-2126-SM-ARU8W', 'GTEX-1JMLX-0926-SM-CNNPQ', 'GTEX-1JMOU-0526-SM-CNNPE', 'GTEX-1JMPZ-1126-SM-ARU8X', 'GTEX-1JMQI-1126-SM-ARZN2', 'GTEX-1JMQJ-2126-SM-CNPPA', 'GTEX-1JMQL-1126-SM-CKZOP', 'GTEX-1JN6P-0726-SM-ARZN7', 'GTEX-1JN76-0826-SM-C1YRK', 'GTEX-1K2DU-0526-SM-D4P2Y', 'GTEX-1K9T9-0926-SM-D3L9C', 'GTEX-1KAFJ-0326-SM-DHXJG', 'GTEX-1KANB-1026-SM-D3L9F', 'GTEX-1KD4Q-0926-SM-CXZKI', 'GTEX-1KD5A-1126-SM-CXZK6', 'GTEX-1KWVE-0426-SM-DHXJX', 'GTEX-1KXAM-0426-SM-DHXKG', 'GTEX-1L5NE-0726-SM-CXZKQ', 'GTEX-1LB8K-0826-SM-D4P41', 'GTEX-1LC47-1126-SM-D4P43', 'GTEX-1LG7Y-0826-SM-E9TJX', 'GTEX-1LGRB-0226-SM-CNPQK', 'GTEX-1LH75-0226-SM-F33ZP', 'GTEX-1LSNL-1126-SM-G8LN1', 'GTEX-1LSVX-0626-SM-E9U59', 'GTEX-1LVAN-1126-SM-CNNRE', 'GTEX-1LVAO-1226-SM-DIPGB', 'GTEX-1M4P7-0826-SM-E9TJR', 'GTEX-1MA7X-0626-SM-E9TJI', 'GTEX-1MCC2-0726-SM-EV7AL', 'GTEX-1MGNQ-0826-SM-EVR41', 'GTEX-1MJIX-0626-SM-DTX8V', 'GTEX-1MJK2-1126-SM-E9TJ7', 'GTEX-1N2DW-1126-SM-EVR59', 'GTEX-1N5O9-1226-SM-HAUYN', 'GTEX-1NHNU-0426-SM-F2TBP', 'GTEX-1NSGN-1626-SM-EXOJF', 'GTEX-1NV5F-0926-SM-DTX8N', 'GTEX-1NV8Z-1226-SM-F648B', 'GTEX-1O9I2-0726-SM-EY5ZG', 'GTEX-1OJC3-0726-SM-DTX92', 'GTEX-1OJC4-0626-SM-DTXEY', 'GTEX-1OKEX-0326-SM-HAUY8', 'GTEX-1P4AB-1026-SM-DTXES', 'GTEX-1PBJJ-1326-SM-F3K42', 'GTEX-1PIIG-1826-SM-DTX7N', 'GTEX-1POEN-1126-SM-EY5YO', 'GTEX-1PPGY-1826-SM-EXOJ8', 'GTEX-1PPH7-0226-SM-E76Q1', 'GTEX-1PWST-0826-SM-DTXF1', 'GTEX-1QAET-0426-SM-EXUSM', 'GTEX-1QCLY-1026-SM-EWRNI', 'GTEX-1QEPI-0826-SM-DTX9B', 'GTEX-1QMI2-0926-SM-DTX7S', 'GTEX-1QP29-1226-SM-E6CQ1', 'GTEX-1QP2A-1226-SM-EVR3I', 'GTEX-1R9K4-0926-SM-EXOJN', 'GTEX-1R9K5-0926-SM-F2I2Z', 'GTEX-1R9PM-0426-SM-EVR3P', 'GTEX-1RAZQ-1026-SM-EAZ4R', 'GTEX-1RAZR-0726-SM-EV7BA', 'GTEX-1RAZS-2226-SM-E8VMU', 'GTEX-1RDX4-1626-SM-EVR53', 'GTEX-1RLM8-0626-SM-E76OW', 'GTEX-1RMOY-0226-SM-GQ1EG', 'GTEX-1RNSC-1226-SM-E9U52', 'GTEX-1RQED-1026-SM-EVYCT', 'GTEX-1S3DN-1026-SM-HK7AU', 'GTEX-1S5VW-0926-SM-EWRNU', 'GTEX-1S5ZU-1026-SM-HK794', 'GTEX-1S82P-0826-SM-EVR4P', 'GTEX-1S82Z-0426-SM-GRR2U', 'GTEX-1S83E-0526-SM-HLJQ8', 'GTEX-N7MT-0126-SM-2D7VT', 'GTEX-NFK9-1026-SM-G8W7H', 'GTEX-O5YT-0526-SM-32PK8', 'GTEX-O5YU-0526-SM-HK78Z', 'GTEX-O5YV-0526-SM-2I5GE', 'GTEX-O5YW-0526-SM-2YUMX', 'GTEX-OHPL-0526-SM-3NM8U', 'GTEX-OHPM-0526-SM-2YUMJ', 'GTEX-OIZF-0526-SM-7MXVM', 'GTEX-OIZG-0526-SM-G8W7J', 'GTEX-OIZH-0526-SM-2HMKV', 'GTEX-OIZI-1026-SM-3NB1K', 'GTEX-OOBJ-0526-SM-48TDK', 'GTEX-OOBK-0526-SM-2HMJJ', 'GTEX-OXRK-0926-SM-2HMKP', 'GTEX-OXRL-0526-SM-2I3EZ', 'GTEX-OXRN-0526-SM-2I5EN', 'GTEX-OXRP-0526-SM-2I3EW', 'GTEX-P44H-1126-SM-48TBU', 'GTEX-P4PP-0526-SM-2HMKE', 'GTEX-P4PQ-0526-SM-2HMKR', 'GTEX-P4QS-0526-SM-2I3ET', 'GTEX-P4QT-0526-SM-2I3EX', 'GTEX-P78B-0926-SM-2I5FA', 'GTEX-PLZ6-0426-SM-5IJDW', 'GTEX-POMQ-0526-SM-3GADD', 'GTEX-POYW-1226-SM-2XCEP', 'GTEX-PVOW-1026-SM-2XCF9', 'GTEX-PW2O-0526-SM-2I3DX', 'GTEX-PX3G-0526-SM-2I3EM', 'GTEX-Q2AG-1026-SM-33HBW', 'GTEX-Q2AH-0426-SM-2I3EP', 'GTEX-Q734-0626-SM-2I3EF', 'GTEX-QCQG-0326-SM-2I3ES', 'GTEX-QDVJ-0926-SM-2I5FU', 'GTEX-QDVN-0726-SM-4B64L', 'GTEX-QEG4-0526-SM-48TZD', 'GTEX-QEG5-1126-SM-33HC2', 'GTEX-QMRM-0826-SM-3NB33', 'GTEX-QVUS-2026-SM-EYYW9', 'GTEX-QXCU-0626-SM-2TC69', 'GTEX-R3RS-1026-SM-G8W61', 'GTEX-R53T-0626-SM-HLJSG', 'GTEX-R55C-0526-SM-3GIKA', 'GTEX-R55D-0926-SM-G8W6I', 'GTEX-R55F-0326-SM-EWRM6', 'GTEX-REY6-0426-SM-G8W5V', 'GTEX-RM2N-0426-SM-2TF4T', 'GTEX-RNOR-0726-SM-2TF5I', 'GTEX-RVPV-1726-SM-2NKAQ', 'GTEX-RWS6-0226-SM-2XCA9', 'GTEX-S32W-0326-SM-2XCBI', 'GTEX-S33H-0626-SM-2XCBJ', 'GTEX-S341-0326-SM-2XCAU', 'GTEX-S3LF-1126-SM-EVR33', 'GTEX-S7SE-0926-SM-2XCD6', 'GTEX-SIU8-0926-SM-COH1X', 'GTEX-SJXC-1026-SM-EYYVA', 'GTEX-SN8G-0926-SM-4DM5I', 'GTEX-SNOS-0426-SM-32PMH', 'GTEX-SUCS-0626-SM-32PM5', 'GTEX-T2IS-0526-SM-32QP9', 'GTEX-T5JC-0826-SM-32PMC', 'GTEX-T6MN-0826-SM-32PM4', 'GTEX-T6MO-0426-SM-32QOI', 'GTEX-T8EM-0326-SM-3DB7F', 'GTEX-TML8-0326-SM-4GICN', 'GTEX-TMMY-0926-SM-4TT1Z', 'GTEX-U3ZH-0526-SM-3DB75', 'GTEX-U3ZM-0426-SM-3DB73', 'GTEX-U3ZN-0626-SM-3DB7U', 'GTEX-U412-0826-SM-3DB9K', 'GTEX-U8T8-2226-SM-3DB95', 'GTEX-U8XE-1426-SM-3DB8Q', 'GTEX-UJHI-0726-SM-3DB92', 'GTEX-UJMC-0726-SM-3GADX', 'GTEX-UPJH-0826-SM-4WKFD', 'GTEX-UPK5-1126-SM-3GAEJ', 'GTEX-V1D1-0826-SM-3P5ZA', 'GTEX-VJWN-1326-SM-EVR2Z', 'GTEX-VJYA-0326-SM-3GAEX', 'GTEX-VUSG-0926-SM-3GIK6', 'GTEX-WFG7-0526-SM-3GIKI', 'GTEX-WFON-0426-SM-3GIL4', 'GTEX-WH7G-0726-SM-3NMBM', 'GTEX-WHPG-1426-SM-3NMBB', 'GTEX-WHSB-0326-SM-5FQSD', 'GTEX-WI4N-0826-SM-GQ1DU', 'GTEX-WK11-0526-SM-3NB3O', 'GTEX-WL46-1026-SM-GNINR', 'GTEX-WOFM-0126-SM-3MJFE', 'GTEX-WRHU-0226-SM-3MJFV', 'GTEX-WVJS-0826-SM-4MVNR', 'GTEX-WVLH-0826-SM-F21KU', 'GTEX-WWYW-0926-SM-3NB2Z', 'GTEX-WY7C-0426-SM-3NB3C', 'GTEX-WYBS-1126-SM-3NMAM', 'GTEX-WYJK-0826-SM-3NM8Y', 'GTEX-WYVS-0526-SM-3NM9W', 'GTEX-WZTO-0426-SM-3NM99', 'GTEX-X15G-0626-SM-EVR32', 'GTEX-X261-1026-SM-3NMDL', 'GTEX-X3Y1-0626-SM-3P5YS', 'GTEX-X4EO-0926-SM-3P5Z2', 'GTEX-X4EP-0526-SM-3P5YW', 'GTEX-X4LF-0526-SM-3NMB6', 'GTEX-X4XX-1026-SM-4QARO', 'GTEX-X4XY-1026-SM-46MVX', 'GTEX-X585-1026-SM-G8W81', 'GTEX-X5EB-0426-SM-46MVY', 'GTEX-X62O-0726-SM-GOR1I', 'GTEX-XBEC-1026-SM-4QASM', 'GTEX-XBED-0826-SM-47JYC', 'GTEX-XBEW-0226-SM-4AT6A', 'GTEX-XGQ4-0826-SM-4AT4T', 'GTEX-XMD2-1026-SM-4WWE8', 'GTEX-XMD3-0826-SM-H6Q68', 'GTEX-XOT4-1426-SM-4B65T', 'GTEX-XPT6-1226-SM-HLJS1', 'GTEX-XPVG-1026-SM-4B64Y', 'GTEX-XQ3S-0926-SM-4BOPI', 'GTEX-XQ8I-1126-SM-4BOO2', 'GTEX-XUW1-1226-SM-GQ1CL', 'GTEX-XV7Q-0426-SM-4BRVN', 'GTEX-XXEK-0626-SM-G8LLV', 'GTEX-XYKS-0526-SM-4BRW2', 'GTEX-Y111-1026-SM-4TT22', 'GTEX-Y3I4-0426-SM-4TT29', 'GTEX-Y3IK-0626-SM-4WWE4', 'GTEX-Y5LM-0726-SM-4VBRP', 'GTEX-Y5V5-0826-SM-4VBQD', 'GTEX-Y5V6-0226-SM-4V6G7', 'GTEX-Y8E4-0526-SM-4V6GC', 'GTEX-Y8LW-0326-SM-4VBQ9', 'GTEX-Y9LG-0526-SM-4VBRY', 'GTEX-YB5E-0726-SM-4VDSH', 'GTEX-YEC3-0226-SM-DO11B', 'GTEX-YEC4-0526-SM-4W21U', 'GTEX-YECK-0926-SM-4W214', 'GTEX-YF7O-0626-SM-4W21R', 'GTEX-YFC4-1126-SM-5RQJN', 'GTEX-YFCO-0426-SM-4W1Z7', 'GTEX-YJ8A-0926-SM-GPI8Y', 'GTEX-YJ8O-1826-SM-5HL82', 'GTEX-ZA64-0326-SM-5HL8T', 'GTEX-ZAB4-0626-SM-5CVN3', 'GTEX-ZAB5-0626-SM-5PNVB', 'GTEX-ZAK1-0826-SM-GRR1A', 'GTEX-ZC5H-0926-SM-5CVMZ', 'GTEX-ZDTS-1026-SM-4WAXS', 'GTEX-ZDTT-0926-SM-5J2MS', 'GTEX-ZDXO-1326-SM-57WBS', 'GTEX-ZDYS-0426-SM-5IJEQ', 'GTEX-ZE7O-0826-SM-57WCP', 'GTEX-ZEX8-0526-SM-DO115', 'GTEX-ZF28-0726-SM-4WKFU', 'GTEX-ZF29-1026-SM-4WKGC', 'GTEX-ZF2S-0626-SM-4WKH2', 'GTEX-ZF3C-0926-SM-DO92P', 'GTEX-ZG7Y-1026-SM-4WWDG', 'GTEX-ZLV1-0426-SM-4WWC2', 'GTEX-ZLWG-0626-SM-4WWFR', 'GTEX-ZPCL-0926-SM-DNZZ8', 'GTEX-ZPIC-0626-SM-57WDY', 'GTEX-ZPU1-0926-SM-57WDO', 'GTEX-ZQG8-0326-SM-51MSE', 'GTEX-ZT9W-0726-SM-9JGG2', 'GTEX-ZT9X-0326-SM-51MTE', 'GTEX-ZTPG-0926-SM-5O99H', 'GTEX-ZTTD-1126-SM-51MRP', 'GTEX-ZUA1-1026-SM-4YCEA', 'GTEX-ZV68-0626-SM-GOR1K', 'GTEX-ZV6S-0426-SM-HAUXQ', 'GTEX-ZVT3-0926-SM-5GICK', 'GTEX-ZVT4-1126-SM-GPRX7', 'GTEX-ZVZQ-1526-SM-5N9G6', 'GTEX-ZXG5-0826-SM-5GID6', 'GTEX-ZY6K-0326-SM-5MR8C', 'GTEX-ZYFG-0226-SM-5GIDT', 'GTEX-ZYT6-0526-SM-5GIEA', 'GTEX-ZYVF-1726-SM-5E443', 'GTEX-ZYW4-1526-SM-5MR8B', 'GTEX-ZYY3-0926-SM-5E454', 'GTEX-ZZPT-1326-SM-5E43H', 'GTEX-ZZPU-0526-SM-5E44U']}\n"
     ]
    }
   ],
   "source": [
    "#lll 42 Minuten\n",
    "#lbl \n",
    "data=dysregnet.run(expression_data = exp_lung, \n",
    "                   GRN= \"breast\",\n",
    "                   meta = meta_lung,\n",
    "                   direction_condition=False,\n",
    "                   normaltest=True,\n",
    "                   #CatCov = CatCov,\n",
    "                   #ConCov = [conCol],\n",
    "                   R2_threshold=.2)"
   ]
  },
  {
   "cell_type": "code",
   "execution_count": 43,
   "metadata": {},
   "outputs": [
    {
     "data": {
      "text/html": [
       "<div>\n",
       "<style scoped>\n",
       "    .dataframe tbody tr th:only-of-type {\n",
       "        vertical-align: middle;\n",
       "    }\n",
       "\n",
       "    .dataframe tbody tr th {\n",
       "        vertical-align: top;\n",
       "    }\n",
       "\n",
       "    .dataframe thead th {\n",
       "        text-align: right;\n",
       "    }\n",
       "</style>\n",
       "<table border=\"1\" class=\"dataframe\">\n",
       "  <thead>\n",
       "    <tr style=\"text-align: right;\">\n",
       "      <th></th>\n",
       "    </tr>\n",
       "    <tr>\n",
       "      <th>patient id</th>\n",
       "    </tr>\n",
       "  </thead>\n",
       "  <tbody>\n",
       "    <tr>\n",
       "      <th>GTEX-111CU-0326-SM-5GZXO</th>\n",
       "    </tr>\n",
       "    <tr>\n",
       "      <th>GTEX-111FC-1126-SM-5GZWU</th>\n",
       "    </tr>\n",
       "  </tbody>\n",
       "</table>\n",
       "</div>"
      ],
      "text/plain": [
       "Empty DataFrame\n",
       "Columns: []\n",
       "Index: [GTEX-111CU-0326-SM-5GZXO, GTEX-111FC-1126-SM-5GZWU]"
      ]
     },
     "execution_count": 43,
     "metadata": {},
     "output_type": "execute_result"
    }
   ],
   "source": [
    "data.get_results().head(2)"
   ]
  },
  {
   "cell_type": "code",
   "execution_count": 44,
   "metadata": {},
   "outputs": [],
   "source": [
    "# Load the pickle file\n",
    "with open(\"pickle_models/AHR_FOS.pkl\", \"rb\") as file:\n",
    "    loaded_model = pickle.load(file)"
   ]
  },
  {
   "cell_type": "code",
   "execution_count": 45,
   "metadata": {},
   "outputs": [
    {
     "name": "stdout",
     "output_type": "stream",
     "text": [
      "Attributes and methods of the loaded object:\n",
      "['HC0_se', 'HC1_se', 'HC2_se', 'HC3_se', '_HCCM', '__class__', '__delattr__', '__dict__', '__dir__', '__doc__', '__eq__', '__format__', '__ge__', '__getattribute__', '__getstate__', '__gt__', '__hash__', '__init__', '__init_subclass__', '__le__', '__lt__', '__module__', '__ne__', '__new__', '__reduce__', '__reduce_ex__', '__repr__', '__setattr__', '__sizeof__', '__str__', '__subclasshook__', '__weakref__', '_abat_diagonal', '_cache', '_data_attr', '_data_in_cache', '_get_robustcov_results', '_get_wald_nonlinear', '_is_nested', '_transform_predict_exog', '_use_t', '_wexog_singular_values', 'aic', 'bic', 'bse', 'centered_tss', 'compare_f_test', 'compare_lm_test', 'compare_lr_test', 'condition_number', 'conf_int', 'conf_int_el', 'cov_HC0', 'cov_HC1', 'cov_HC2', 'cov_HC3', 'cov_kwds', 'cov_params', 'cov_type', 'df_model', 'df_resid', 'eigenvals', 'el_test', 'ess', 'f_pvalue', 'f_test', 'fittedvalues', 'fvalue', 'get_influence', 'get_prediction', 'get_robustcov_results', 'info_criteria', 'initialize', 'k_constant', 'llf', 'load', 'model', 'mse_model', 'mse_resid', 'mse_total', 'nobs', 'normalized_cov_params', 'outlier_test', 'params', 'predict', 'pvalues', 'remove_data', 'resid', 'resid_pearson', 'rsquared', 'rsquared_adj', 'save', 'scale', 'ssr', 'summary', 'summary2', 't_test', 't_test_pairwise', 'tvalues', 'uncentered_tss', 'use_t', 'wald_test', 'wald_test_terms', 'wresid']\n"
     ]
    }
   ],
   "source": [
    "print(\"Attributes and methods of the loaded object:\")\n",
    "print(dir(loaded_model))"
   ]
  },
  {
   "cell_type": "code",
   "execution_count": 46,
   "metadata": {},
   "outputs": [
    {
     "name": "stdout",
     "output_type": "stream",
     "text": [
      "Variables and their values in the loaded object:\n",
      "{'_results': <statsmodels.regression.linear_model.OLSResults object at 0x16aaa2fd0>, '__doc__': \"\\n    Results class for for an OLS model.\\n\\n    Parameters\\n    ----------\\n    model : RegressionModel\\n        The regression model instance.\\n    params : ndarray\\n        The estimated parameters.\\n    normalized_cov_params : ndarray\\n        The normalized covariance parameters.\\n    scale : float\\n        The estimated scale of the residuals.\\n    cov_type : str\\n        The covariance estimator used in the results.\\n    cov_kwds : dict\\n        Additional keywords used in the covariance specification.\\n    use_t : bool\\n        Flag indicating to use the Student's t in inference.\\n    **kwargs\\n        Additional keyword arguments used to initialize the results.\\n\\n    See Also\\n    --------\\n    RegressionResults\\n        Results store for WLS and GLW models.\\n\\n    Notes\\n    -----\\n    Most of the methods and attributes are inherited from RegressionResults.\\n    The special methods that are only available for OLS are:\\n\\n    - get_influence\\n    - outlier_test\\n    - el_test\\n    - conf_int_el\\n    \"}\n"
     ]
    }
   ],
   "source": [
    "print(\"Variables and their values in the loaded object:\")\n",
    "print(vars(loaded_model))"
   ]
  },
  {
   "cell_type": "code",
   "execution_count": 47,
   "metadata": {},
   "outputs": [
    {
     "name": "stdout",
     "output_type": "stream",
     "text": [
      "const          0.000360\n",
      "AHR            0.323355\n",
      "gender_MALE   -0.000850\n",
      "dtype: float64\n",
      "                            OLS Regression Results                            \n",
      "==============================================================================\n",
      "Dep. Variable:                      y   R-squared:                       0.105\n",
      "Model:                            OLS   Adj. R-squared:                  0.073\n",
      "Method:                 Least Squares   F-statistic:                     3.268\n",
      "Date:                Tue, 28 Jan 2025   Prob (F-statistic):             0.0454\n",
      "Time:                        17:28:36   Log-Likelihood:                -80.461\n",
      "No. Observations:                  59   AIC:                             166.9\n",
      "Df Residuals:                      56   BIC:                             173.2\n",
      "Df Model:                           2                                         \n",
      "Covariance Type:            nonrobust                                         \n",
      "===============================================================================\n",
      "                  coef    std err          t      P>|t|      [0.025      0.975]\n",
      "-------------------------------------------------------------------------------\n",
      "const           0.0004      0.167      0.002      0.998      -0.335       0.335\n",
      "AHR             0.3234      0.128      2.536      0.014       0.068       0.579\n",
      "gender_MALE    -0.0009      0.258     -0.003      0.997      -0.518       0.516\n",
      "==============================================================================\n",
      "Omnibus:                        0.815   Durbin-Watson:                   2.303\n",
      "Prob(Omnibus):                  0.665   Jarque-Bera (JB):                0.891\n",
      "Skew:                          -0.253   Prob(JB):                        0.640\n",
      "Kurtosis:                       2.674   Cond. No.                         2.51\n",
      "==============================================================================\n",
      "\n",
      "Notes:\n",
      "[1] Standard Errors assume that the covariance matrix of the errors is correctly specified.\n"
     ]
    }
   ],
   "source": [
    "print(loaded_model.params)  # Coefficients\n",
    "print(loaded_model.summary())  # Full model summary"
   ]
  },
  {
   "cell_type": "code",
   "execution_count": 48,
   "metadata": {},
   "outputs": [],
   "source": [
    "# get the patient-specific dysregulate networks\n",
    "# results = data.get_results()\n",
    "\n",
    "# or with binary edges\n",
    "results = data.get_results_binary()\n",
    "\n",
    "# get R2 values, coefficients, and coefficient p-values for all models/edges\n",
    "# data.get_model_stats()"
   ]
  },
  {
   "cell_type": "code",
   "execution_count": 49,
   "metadata": {},
   "outputs": [
    {
     "ename": "ValueError",
     "evalue": "attempt to get argmax of an empty sequence",
     "output_type": "error",
     "traceback": [
      "\u001b[0;31m---------------------------------------------------------------------------\u001b[0m",
      "\u001b[0;31mValueError\u001b[0m                                Traceback (most recent call last)",
      "\u001b[1;32m/Users/b.madran/Public/DysRegNet_package/run_dysregnet.ipynb Cell 30\u001b[0m line \u001b[0;36m2\n\u001b[1;32m      <a href='vscode-notebook-cell:/Users/b.madran/Public/DysRegNet_package/run_dysregnet.ipynb#X41sZmlsZQ%3D%3D?line=0'>1</a>\u001b[0m edge_counts \u001b[39m=\u001b[39m results\u001b[39m.\u001b[39msum()\n\u001b[0;32m----> <a href='vscode-notebook-cell:/Users/b.madran/Public/DysRegNet_package/run_dysregnet.ipynb#X41sZmlsZQ%3D%3D?line=1'>2</a>\u001b[0m most_frequent_edge \u001b[39m=\u001b[39m edge_counts\u001b[39m.\u001b[39;49midxmax()\n\u001b[1;32m      <a href='vscode-notebook-cell:/Users/b.madran/Public/DysRegNet_package/run_dysregnet.ipynb#X41sZmlsZQ%3D%3D?line=2'>3</a>\u001b[0m max_count \u001b[39m=\u001b[39m edge_counts\u001b[39m.\u001b[39mmax()\n\u001b[1;32m      <a href='vscode-notebook-cell:/Users/b.madran/Public/DysRegNet_package/run_dysregnet.ipynb#X41sZmlsZQ%3D%3D?line=4'>5</a>\u001b[0m \u001b[39mprint\u001b[39m (\u001b[39mf\u001b[39m\u001b[39m\"\u001b[39m\u001b[39mThe most frequent edge is \u001b[39m\u001b[39m{\u001b[39;00mmost_frequent_edge\u001b[39m}\u001b[39;00m\u001b[39m with \u001b[39m\u001b[39m{\u001b[39;00mmax_count\u001b[39m}\u001b[39;00m\u001b[39m occurrences.\u001b[39m\u001b[39m\"\u001b[39m)\n",
      "File \u001b[0;32m~/miniconda3/envs/sysbiomed_project/lib/python3.11/site-packages/pandas/core/series.py:2761\u001b[0m, in \u001b[0;36mSeries.idxmax\u001b[0;34m(self, axis, skipna, *args, **kwargs)\u001b[0m\n\u001b[1;32m   2756\u001b[0m \u001b[39mwith\u001b[39;00m warnings\u001b[39m.\u001b[39mcatch_warnings():\n\u001b[1;32m   2757\u001b[0m     \u001b[39m# TODO(3.0): this catching/filtering can be removed\u001b[39;00m\n\u001b[1;32m   2758\u001b[0m     \u001b[39m# ignore warning produced by argmax since we will issue a different\u001b[39;00m\n\u001b[1;32m   2759\u001b[0m     \u001b[39m#  warning for argmax\u001b[39;00m\n\u001b[1;32m   2760\u001b[0m     warnings\u001b[39m.\u001b[39msimplefilter(\u001b[39m\"\u001b[39m\u001b[39mignore\u001b[39m\u001b[39m\"\u001b[39m)\n\u001b[0;32m-> 2761\u001b[0m     i \u001b[39m=\u001b[39m \u001b[39mself\u001b[39;49m\u001b[39m.\u001b[39;49margmax(axis, skipna, \u001b[39m*\u001b[39;49margs, \u001b[39m*\u001b[39;49m\u001b[39m*\u001b[39;49mkwargs)\n\u001b[1;32m   2763\u001b[0m \u001b[39mif\u001b[39;00m i \u001b[39m==\u001b[39m \u001b[39m-\u001b[39m\u001b[39m1\u001b[39m:\n\u001b[1;32m   2764\u001b[0m     \u001b[39m# GH#43587 give correct NA value for Index.\u001b[39;00m\n\u001b[1;32m   2765\u001b[0m     warnings\u001b[39m.\u001b[39mwarn(\n\u001b[1;32m   2766\u001b[0m         \u001b[39mf\u001b[39m\u001b[39m\"\u001b[39m\u001b[39mThe behavior of \u001b[39m\u001b[39m{\u001b[39;00m\u001b[39mtype\u001b[39m(\u001b[39mself\u001b[39m)\u001b[39m.\u001b[39m\u001b[39m__name__\u001b[39m\u001b[39m}\u001b[39;00m\u001b[39m.idxmax with all-NA \u001b[39m\u001b[39m\"\u001b[39m\n\u001b[1;32m   2767\u001b[0m         \u001b[39m\"\u001b[39m\u001b[39mvalues, or any-NA and skipna=False, is deprecated. In a future \u001b[39m\u001b[39m\"\u001b[39m\n\u001b[0;32m   (...)\u001b[0m\n\u001b[1;32m   2770\u001b[0m         stacklevel\u001b[39m=\u001b[39mfind_stack_level(),\n\u001b[1;32m   2771\u001b[0m     )\n",
      "File \u001b[0;32m~/miniconda3/envs/sysbiomed_project/lib/python3.11/site-packages/pandas/core/base.py:751\u001b[0m, in \u001b[0;36mIndexOpsMixin.argmax\u001b[0;34m(self, axis, skipna, *args, **kwargs)\u001b[0m\n\u001b[1;32m    749\u001b[0m         \u001b[39mreturn\u001b[39;00m delegate\u001b[39m.\u001b[39margmax()\n\u001b[1;32m    750\u001b[0m \u001b[39melse\u001b[39;00m:\n\u001b[0;32m--> 751\u001b[0m     result \u001b[39m=\u001b[39m nanops\u001b[39m.\u001b[39;49mnanargmax(delegate, skipna\u001b[39m=\u001b[39;49mskipna)\n\u001b[1;32m    752\u001b[0m     \u001b[39mif\u001b[39;00m result \u001b[39m==\u001b[39m \u001b[39m-\u001b[39m\u001b[39m1\u001b[39m:\n\u001b[1;32m    753\u001b[0m         warnings\u001b[39m.\u001b[39mwarn(\n\u001b[1;32m    754\u001b[0m             \u001b[39mf\u001b[39m\u001b[39m\"\u001b[39m\u001b[39mThe behavior of \u001b[39m\u001b[39m{\u001b[39;00m\u001b[39mtype\u001b[39m(\u001b[39mself\u001b[39m)\u001b[39m.\u001b[39m\u001b[39m__name__\u001b[39m\u001b[39m}\u001b[39;00m\u001b[39m.argmax/argmin \u001b[39m\u001b[39m\"\u001b[39m\n\u001b[1;32m    755\u001b[0m             \u001b[39m\"\u001b[39m\u001b[39mwith skipna=False and NAs, or with all-NAs is deprecated. \u001b[39m\u001b[39m\"\u001b[39m\n\u001b[0;32m   (...)\u001b[0m\n\u001b[1;32m    758\u001b[0m             stacklevel\u001b[39m=\u001b[39mfind_stack_level(),\n\u001b[1;32m    759\u001b[0m         )\n",
      "File \u001b[0;32m~/miniconda3/envs/sysbiomed_project/lib/python3.11/site-packages/pandas/core/nanops.py:1148\u001b[0m, in \u001b[0;36mnanargmax\u001b[0;34m(values, axis, skipna, mask)\u001b[0m\n\u001b[1;32m   1116\u001b[0m \u001b[39m\u001b[39m\u001b[39m\"\"\"\u001b[39;00m\n\u001b[1;32m   1117\u001b[0m \u001b[39mParameters\u001b[39;00m\n\u001b[1;32m   1118\u001b[0m \u001b[39m----------\u001b[39;00m\n\u001b[0;32m   (...)\u001b[0m\n\u001b[1;32m   1145\u001b[0m \u001b[39marray([2, 2, 1, 1])\u001b[39;00m\n\u001b[1;32m   1146\u001b[0m \u001b[39m\"\"\"\u001b[39;00m\n\u001b[1;32m   1147\u001b[0m values, mask \u001b[39m=\u001b[39m _get_values(values, \u001b[39mTrue\u001b[39;00m, fill_value_typ\u001b[39m=\u001b[39m\u001b[39m\"\u001b[39m\u001b[39m-inf\u001b[39m\u001b[39m\"\u001b[39m, mask\u001b[39m=\u001b[39mmask)\n\u001b[0;32m-> 1148\u001b[0m result \u001b[39m=\u001b[39m values\u001b[39m.\u001b[39;49margmax(axis)\n\u001b[1;32m   1149\u001b[0m \u001b[39m# error: Argument 1 to \"_maybe_arg_null_out\" has incompatible type \"Any |\u001b[39;00m\n\u001b[1;32m   1150\u001b[0m \u001b[39m# signedinteger[Any]\"; expected \"ndarray[Any, Any]\"\u001b[39;00m\n\u001b[1;32m   1151\u001b[0m result \u001b[39m=\u001b[39m _maybe_arg_null_out(result, axis, mask, skipna)  \u001b[39m# type: ignore[arg-type]\u001b[39;00m\n",
      "\u001b[0;31mValueError\u001b[0m: attempt to get argmax of an empty sequence"
     ]
    }
   ],
   "source": [
    "edge_counts = results.sum()\n",
    "most_frequent_edge = edge_counts.idxmax()\n",
    "max_count = edge_counts.max()\n",
    "\n",
    "print (f\"The most frequent edge is {most_frequent_edge} with {max_count} occurrences.\")"
   ]
  }
 ],
 "metadata": {
  "kernelspec": {
   "display_name": "sysbiomed_project",
   "language": "python",
   "name": "python3"
  },
  "language_info": {
   "codemirror_mode": {
    "name": "ipython",
    "version": 3
   },
   "file_extension": ".py",
   "mimetype": "text/x-python",
   "name": "python",
   "nbconvert_exporter": "python",
   "pygments_lexer": "ipython3",
   "version": "3.11.11"
  }
 },
 "nbformat": 4,
 "nbformat_minor": 2
}
